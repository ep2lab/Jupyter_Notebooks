{
 "cells": [
  {
   "cell_type": "markdown",
   "metadata": {},
   "source": [
    "## Notebook to support the algebraic derivations from the manuscript `Local analysis of Lower-Hybrid Drift Instabilities in a magnetic nozzle'\n",
    "\n",
    "This notebook is used to present the derivations of Appendix A and B of the manuscript.\n",
    "It is based on the SymPy library.\\\n",
    "\\\n",
    "As in the manuscript, we are interested in capturing the effect of the gyroviscous tensor on small time-dependent fluctuations of an equilibrium time-independent inhomogeneous two-fluid plasma. Under the assumption of small amplitude waves, each plasma quantity $Q$ is expanded as a zeroth-order, time independent part, plus a first-order contribution, through which we will model any oscillatory phenomena, \n",
    "$$\n",
    "Q (\\mathbf x, t) = Q_0 (\\mathbf x) + \\frac{1}{2} [Q_1 \\left( \\mathbf x \\right) \\exp\\left( i \\mathbf k \\cdot \\mathbf x - i \\omega t \\right) + CC],\n",
    "$$\n",
    "with $\\mathbf x = s_\\perp \\mathbf 1_\\perp + s_\\theta \\mathbf 1_\\theta + s_\\parallel \\mathbf 1_\\parallel$, being $s_{\\perp, \\theta, \\parallel}$ local coordinates about the point of analysis, and with the subscripts $0$ and $1$ referring to equilibrium values and their first-order corrections, respectively. For our model to be local we consider $kL\\gg1$, with $k$ the fluctuation wavenumber and $L$ the smallest characteristic length of the equilibrium plasma gradients. We will model the plasma as a two-species fluid. The use of a set of fluid equations to describe electrons is valid as long as the wavenumber is smaller than the electron Larmor radius at equilibrium, $k \\rho_e < 1$.\\\n",
    "Furthermore, we assume our waves to have frequency $\\omega$ much smaller than than the equilibrium electron gyrofrequency $\\omega_{ce}$, respecting the ordering $\\omega = O(\\omega_{ce}\\ \\epsilon)$. We also assume to be in the low-drift regime, using a similar nomenclature to that adopted in [Ref.1 {ramo21}], with equilibrium electron velocity $u_{e0}$ much smaller than the electron thermal velocity at rest $c_e$, a condition expressed through the choice of ordering $u_{e0} = O(c_e \\ \\epsilon)$. \\\n",
    "\\\n",
    "The notebook is structured as follows: in the first section, the expression of the divergence of the first order gyroviscous tensor $\\left(\\frac{-\\nabla\\cdot\\Pi_e}{m_e n_e}\\right)_1$ is presented.\\\n",
    "In the second section, the expression for the elctron continuity and momentum equations are presented with the explicit contribution from the gyroviscous tensor, along with the expression for the matrix of coefficients $A_e$.\\\n",
    "In the third section, the expression for the determinant of $A_e$ is presented.\\\n",
    "\\\n",
    "NOTE: each cell of the present notebook depend on data computed in the cells above, so we recommend running each cell in the order with which they appear.\n",
    "\n",
    "## Section I: Divergence of the Gyroviscous tensor\n",
    "\n",
    "In this first section, the expressions for $\\nabla\\cdot\\Pi_e$ at the $0^{\\text{th}}$ and $1^{\\text{st}}$ orders are presented. As in the main manuscript, we will work with power expansions of the small parameter $\\epsilon=\\rho_e/L$. We will consider only terms up to the $O(\\epsilon \\omega_{ce} \\mathbf u_{e})$ order.\\\n",
    "\\\n",
    "We assume our plasma to be Maxwellian and the electron temperature to be isotropic, $T_{\\perp e} = T_{\\parallel e}$.\n",
    "Moreover, being $\\omega$ first order in $\\epsilon$ relative to the electron gyrofrequency $\\omega_{ce}$ and the slowest flow velocities to be of the order of the ion sound speed $c_s$, we can model the gyroviscous tensor according to the fast-dynamics ordering presented in [Ref.2 {ramo05a}]. With this set of assumptions we recover the Braginskii form of the tensor [Ref.3 {brag65}], which mainly depends on the gradient of the electron velocity. Its divergence is (Eq. B.1 of the manuscript)\n",
    "$$\n",
    "    - \\frac{\\nabla \\cdot \\Pi_e}{m_e n_e} = \n",
    "    \\frac{1}{e n_e} \\Bigg\\{ \\left[ \\nabla \\times \\left( \\frac{T_e n_e}{B} \\mathbf 1_\\parallel \\right) \\right] \\cdot \\nabla \\mathbf u_e - \\frac{\\nabla}{2} \\left( \\frac{T_e n_e}{B} \\mathbf 1_\\parallel \\cdot \\Omega_e \\right)\n",
    "$$\n",
    "$$\n",
    "+ B \\mathbf 1_\\parallel \\cdot \\nabla \\bigg[ \\frac{T_e n_e}{B^2} \\bigg( 3 \\mathbf 1_\\parallel \\times \\Big[\\mathbf 1_\\parallel \\cdot \\nabla \\mathbf u_e + \\mathbf 1_\\parallel \\times \\mathbf \\Omega_e\\Big]\n",
    "    + \\mathbf 1_\\parallel \\cdot \\frac{\\Omega_e}{2} \\mathbf 1_\\parallel \\bigg) \\bigg]\n",
    "$$\n",
    "$$\n",
    "    - \\nabla \\times \\bigg[ \\frac{T_e n_e}{B} \\bigg( \\mathbf 1_\\parallel \\cdot \\nabla \\mathbf u_e\n",
    "    + \\frac{\\mathbf 1_\\parallel}{2} \\Big[ \\nabla \\cdot \\mathbf u_e - 3 \\mathbf 1_\\parallel \\cdot \\nabla \\mathbf u_e \\cdot \\mathbf 1_\\parallel \\Big] \\bigg) \\bigg] \\Bigg\\}\n",
    "$$\n",
    "which correpsonds to Eq. (28) from [Ref.4 {ramo05b}]. Here we have defined as $\\mathbf \\Omega_e \\equiv \\nabla \\times \\mathbf u_e$ the vorticity of the electron flow velocity.\\\n",
    "To compute the divergence of the gyroviscous tensor in in our local curvilinear coordiante system $\\{ \\mathbf 1_\\parallel, \\mathbf 1_\\perp, \\mathbf 1_\\theta \\}$, with $\\mathbf B= B \\mathbf 1_\\parallel$, $1_\\theta$ perpendicular to the ($z,r$) meridian plane, and $\\mathbf 1_\\perp = \\mathbf 1_\\theta \\times \\mathbf 1_\\parallel$, we first need to instruct the symbolic manipulator on how to handle the differential operator $\\nabla$. The cell below defines and displays the formulas for $\\nabla \\phi$, $\\nabla \\mathbf \\psi$, $\\nabla \\cdot \\mathbf \\psi$ and $\\nabla\\times\\mathbf\\psi$, with $\\phi$ and $\\mathbf\\psi$ generic scalar and vector, respectively."
   ]
  },
  {
   "cell_type": "code",
   "execution_count": 2,
   "metadata": {},
   "outputs": [
    {
     "data": {
      "text/latex": [
       "$\\nabla \\phi$="
      ],
      "text/plain": [
       "<IPython.core.display.Latex object>"
      ]
     },
     "metadata": {},
     "output_type": "display_data"
    },
    {
     "name": "stderr",
     "output_type": "stream",
     "text": [
      "c:\\Users\\Utente\\anaconda3\\lib\\site-packages\\IPython\\lib\\latextools.py:126: MatplotlibDeprecationWarning: \n",
      "The to_png function was deprecated in Matplotlib 3.4 and will be removed two minor releases later. Use mathtext.math_to_image instead.\n",
      "  mt.to_png(f, s, fontsize=12, dpi=dpi, color=color)\n",
      "c:\\Users\\Utente\\anaconda3\\lib\\site-packages\\IPython\\lib\\latextools.py:126: MatplotlibDeprecationWarning: \n",
      "The to_rgba function was deprecated in Matplotlib 3.4 and will be removed two minor releases later. Use mathtext.math_to_image instead.\n",
      "  mt.to_png(f, s, fontsize=12, dpi=dpi, color=color)\n",
      "c:\\Users\\Utente\\anaconda3\\lib\\site-packages\\IPython\\lib\\latextools.py:126: MatplotlibDeprecationWarning: \n",
      "The to_mask function was deprecated in Matplotlib 3.4 and will be removed two minor releases later. Use mathtext.math_to_image instead.\n",
      "  mt.to_png(f, s, fontsize=12, dpi=dpi, color=color)\n",
      "c:\\Users\\Utente\\anaconda3\\lib\\site-packages\\IPython\\lib\\latextools.py:126: MatplotlibDeprecationWarning: \n",
      "The MathtextBackendBitmap class was deprecated in Matplotlib 3.4 and will be removed two minor releases later. Use mathtext.math_to_image instead.\n",
      "  mt.to_png(f, s, fontsize=12, dpi=dpi, color=color)\n"
     ]
    },
    {
     "data": {
      "text/latex": [
       "$\\displaystyle \\left[\\begin{matrix} \\nabla_\\perp \\phi\\\\ \\nabla_\\theta \\phi\\\\ \\nabla_\\parallel \\phi\\end{matrix}\\right]$"
      ],
      "text/plain": [
       "⎡     d            ⎤\n",
       "⎢  ────────(\\phi)  ⎥\n",
       "⎢  ds_\\perp        ⎥\n",
       "⎢                  ⎥\n",
       "⎢     d            ⎥\n",
       "⎢ ─────────(\\phi)  ⎥\n",
       "⎢ ds_\\theta        ⎥\n",
       "⎢                  ⎥\n",
       "⎢     d            ⎥\n",
       "⎢────────────(\\phi)⎥\n",
       "⎣ds_\\parallel      ⎦"
      ]
     },
     "metadata": {},
     "output_type": "display_data"
    },
    {
     "name": "stdout",
     "output_type": "stream",
     "text": [
      "-----------------------------------------\n"
     ]
    },
    {
     "data": {
      "text/latex": [
       "$\\nabla \\psi$="
      ],
      "text/plain": [
       "<IPython.core.display.Latex object>"
      ]
     },
     "metadata": {},
     "output_type": "display_data"
    },
    {
     "data": {
      "text/latex": [
       "$\\displaystyle \\left[\\begin{matrix}- \\psi_{\\parallel} {[\\nabla_{\\parallel}\\ln(B)]} +  \\nabla_\\perp \\psi_{\\perp} &  \\nabla_\\perp \\psi_{\\theta} & \\psi_{\\perp} {[\\nabla_{\\parallel}\\ln(B)]} +  \\nabla_\\perp \\psi_{\\parallel}\\\\ \\nabla_\\theta \\psi_{\\perp} &  \\nabla_\\theta \\psi_{\\theta} &  \\nabla_\\theta \\psi_{\\parallel}\\\\\\psi_{\\parallel} {[\\nabla_{\\perp}\\ln(B)]} +  \\nabla_\\parallel \\psi_{\\perp} &  \\nabla_\\parallel \\psi_{\\theta} & - \\psi_{\\perp} {[\\nabla_{\\perp}\\ln(B)]} +  \\nabla_\\parallel \\psi_{\\parallel}\\end{matrix}\\right]$"
      ],
      "text/plain": [
       "⎡                                                    d                        \n",
       "⎢-\\psi_{\\parallel}⋅{[\\nabla_{\\parallel}\\ln(B)]} + ────────(\\psi_{\\perp})    ──\n",
       "⎢                                                 ds_\\perp                  ds\n",
       "⎢                                                                             \n",
       "⎢                            d                                                \n",
       "⎢                        ─────────(\\psi_{\\perp})                           ───\n",
       "⎢                        ds_\\theta                                         ds_\n",
       "⎢                                                                             \n",
       "⎢                                                 d                           \n",
       "⎢\\psi_{\\parallel}⋅{[\\nabla_{\\perp}\\ln(B)]} + ────────────(\\psi_{\\perp})   ────\n",
       "⎣                                            ds_\\parallel                 ds_\\\n",
       "\n",
       " d                                                                      d     \n",
       "──────(\\psi_{\\theta})    \\psi_{\\perp}⋅{[\\nabla_{\\parallel}\\ln(B)]} + ────────(\n",
       "_\\perp                                                               ds_\\perp \n",
       "                                                                              \n",
       " d                                                 d                          \n",
       "──────(\\psi_{\\theta})                          ─────────(\\psi_{\\parallel})    \n",
       "\\theta                                         ds_\\theta                      \n",
       "                                                                              \n",
       " d                                                                     d      \n",
       "────────(\\psi_{\\theta})  -\\psi_{\\perp}⋅{[\\nabla_{\\perp}\\ln(B)]} + ────────────\n",
       "parallel                                                          ds_\\parallel\n",
       "\n",
       "                  ⎤\n",
       "\\psi_{\\parallel}) ⎥\n",
       "                  ⎥\n",
       "                  ⎥\n",
       "                  ⎥\n",
       "                  ⎥\n",
       "                  ⎥\n",
       "                  ⎥\n",
       "                  ⎥\n",
       "(\\psi_{\\parallel})⎥\n",
       "                  ⎦"
      ]
     },
     "metadata": {},
     "output_type": "display_data"
    },
    {
     "name": "stdout",
     "output_type": "stream",
     "text": [
      "-----------------------------------------\n"
     ]
    },
    {
     "data": {
      "text/latex": [
       "$\\nabla \\cdot \\psi$="
      ],
      "text/plain": [
       "<IPython.core.display.Latex object>"
      ]
     },
     "metadata": {},
     "output_type": "display_data"
    },
    {
     "data": {
      "image/png": "[encoded data removed]",
      "text/latex": [
       "$\\displaystyle - \\psi_{\\parallel} {[\\nabla_{\\parallel}\\ln(B)]} - \\psi_{\\perp} {[\\nabla_{\\perp}\\ln(B)]} +  \\nabla_\\parallel \\psi_{\\parallel} +  \\nabla_\\perp \\psi_{\\perp} +  \\nabla_\\theta \\psi_{\\theta}$"
      ],
      "text/plain": [
       "                                                                              \n",
       "-\\psi_{\\parallel}⋅{[\\nabla_{\\parallel}\\ln(B)]} - \\psi_{\\perp}⋅{[\\nabla_{\\perp}\n",
       "                                                                              \n",
       "\n",
       "                d                              d                         d    \n",
       "\\ln(B)]} + ────────────(\\psi_{\\parallel}) + ────────(\\psi_{\\perp}) + ─────────\n",
       "           ds_\\parallel                     ds_\\perp                 ds_\\theta\n",
       "\n",
       "               \n",
       "(\\psi_{\\theta})\n",
       "               "
      ]
     },
     "metadata": {},
     "output_type": "display_data"
    },
    {
     "name": "stdout",
     "output_type": "stream",
     "text": [
      "-----------------------------------------\n"
     ]
    },
    {
     "data": {
      "text/latex": [
       "$\\nabla \\times \\psi$="
      ],
      "text/plain": [
       "<IPython.core.display.Latex object>"
      ]
     },
     "metadata": {},
     "output_type": "display_data"
    },
    {
     "data": {
      "text/latex": [
       "$\\displaystyle \\left[\\begin{matrix} \\nabla_\\theta \\psi_{\\parallel} -  \\nabla_\\parallel \\psi_{\\theta}\\\\\\psi_{\\parallel} {[\\nabla_{\\perp}\\ln(B)]} - \\psi_{\\perp} {[\\nabla_{\\parallel}\\ln(B)]} -  \\nabla_\\perp \\psi_{\\parallel} +  \\nabla_\\parallel \\psi_{\\perp}\\\\-  \\nabla_\\theta \\psi_{\\perp} +  \\nabla_\\perp \\psi_{\\theta}\\end{matrix}\\right]$"
      ],
      "text/plain": [
       "⎡                                               d                             \n",
       "⎢                                           ─────────(\\psi_{\\parallel}) - ────\n",
       "⎢                                           ds_\\theta                     ds_\\\n",
       "⎢                                                                             \n",
       "⎢                                                                             \n",
       "⎢\\psi_{\\parallel}⋅{[\\nabla_{\\perp}\\ln(B)]} - \\psi_{\\perp}⋅{[\\nabla_{\\parallel}\n",
       "⎢                                                                             \n",
       "⎢                                                                             \n",
       "⎢                                                    d                        \n",
       "⎢                                              - ─────────(\\psi_{\\perp}) + ───\n",
       "⎣                                                ds_\\theta                 ds_\n",
       "\n",
       " d                                                                ⎤\n",
       "────────(\\psi_{\\theta})                                           ⎥\n",
       "parallel                                                          ⎥\n",
       "                                                                  ⎥\n",
       "              d                              d                    ⎥\n",
       "\\ln(B)]} - ────────(\\psi_{\\parallel}) + ────────────(\\psi_{\\perp})⎥\n",
       "           ds_\\perp                     ds_\\parallel              ⎥\n",
       "                                                                  ⎥\n",
       "d                                                                 ⎥\n",
       "─────(\\psi_{\\theta})                                              ⎥\n",
       "\\perp                                                             ⎦"
      ]
     },
     "metadata": {},
     "output_type": "display_data"
    }
   ],
   "source": [
    "# Cell 0\n",
    "# THIS FIRST CELL IS FOR THE IMPORTS AND DEFINITIONS\n",
    "# It should be run before any other cell in the notebook.\n",
    "# imports\n",
    "from sympy import *\n",
    "import IPython\n",
    "from IPython.display import Latex, Image, display\n",
    "from sympy.printing.latex import LatexPrinter\n",
    "from sympy.core.function import UndefinedFunction\n",
    "init_printing(use_latex='mathjax')\n",
    "# Defining the symbols for positions\n",
    "x_pe, x_th, x_pa, small = symbols('s_\\perp, s_\\\\theta, s_\\parallel, \\epsilon')\n",
    "latexReplaceRules = {\n",
    "    # r'{\\left(t \\right)}':r' ',\n",
    "    r'\\frac{d}{d s_{\\perp}}':r' \\nabla_\\perp',\n",
    "    r'\\frac{d^{2}}{d s_{\\perp}^{2}}':r' \\nabla_{\\perp\\perp}^2',\n",
    "    r'\\frac{d}{d s_{\\theta}}':r' \\nabla_\\theta',\n",
    "    r'\\frac{d^{2}}{d s_{\\theta}^{2}}':r' \\nabla_{\\theta\\theta}^2',\n",
    "    r'\\frac{d}{d s_{\\parallel}}':r' \\nabla_\\parallel',\n",
    "    r'\\frac{d^{2}}{d s_{\\parallel}^{2}}':r' \\nabla_{\\parallel\\parallel}^2',\n",
    "    r'\\frac{d^{2}}{d s_{\\perp}d s_{\\theta}}':r' \\nabla_{\\perp\\theta}^2',\n",
    "    r'\\frac{d^{2}}{d s_{\\theta}d s_{\\perp}}':r' \\nabla_{\\perp\\theta}^2',\n",
    "    r'\\frac{d^{2}}{d s_{\\perp}d s_{\\parallel}}':r' \\nabla_{\\perp\\parallel}^2',\n",
    "    r'\\frac{d^{2}}{d s_{\\theta}d s_{\\parallel}}':r' \\nabla_{\\theta\\parallel}^2',\n",
    "    r'\\frac{d^{3}}{d s_{\\perp}^{2}d s_{\\theta}}':r' \\nabla_{\\perp\\perp\\theta}^3',\n",
    "    r'\\frac{d^{3}}{d s_{\\perp}^{2}d s_{\\parallel}}':r' \\nabla_{\\perp\\perp\\parallel}^3',\n",
    "    r'\\frac{d^{3}}{d s_{\\theta}^{2}d s_{\\perp}}':r' \\nabla_{\\theta\\theta\\perp}^3',\n",
    "    r'\\frac{d^{3}}{d s_{\\theta}^{2}d s_{\\parallel}}':r' \\nabla_{\\theta\\theta\\parallel}^3',\n",
    "    r'\\frac{d^{3}}{d s_{\\parallel}^{2}d s_{\\perp}}':r' \\nabla_{\\parallel\\parallel\\perp}^3',\n",
    "    r'\\frac{d^{3}}{d s_{\\parallel}^{2}d s_{\\theta}}':r' \\nabla_{\\parallel\\parallel\\theta}^3',\n",
    "    r'\\frac{d^{3}}{d s_{\\perp} d s_{\\theta}d s_{\\parallel}}': r' \\nabla_{\\perp\\theta\\parallel}^3',\n",
    "}\n",
    "def latexNew(expr,**kwargs):\n",
    "    retStr = latex(expr,**kwargs)\n",
    "    for _,__ in latexReplaceRules.items():\n",
    "        retStr = retStr.replace(_,__)\n",
    "    return retStr\n",
    "init_printing(latex_printer=latexNew)\n",
    "def display(expr):\n",
    "    return IPython.display.display(expr)\n",
    "# Defining symbols for electron gyrofrequency, electron gyroradius, and electron thermal speed\n",
    "w_ce, rho_e, c_e = symbols('\\omega_{ce}, \\\\rho_e, c_e')\n",
    "#  Magnetic field\n",
    "B = Function('B')(x_pe, x_pa)\n",
    "Dpe_lnB = symbols(' {[\\\\nabla_{\\perp}\\ln(B)]}')\n",
    "Dpa_lnB = symbols(' {[\\\\nabla_{\\parallel}\\ln(B)]}')\n",
    "shape_B = exp(Dpe_lnB * x_pe + Dpa_lnB * x_pa)\n",
    "B_sym = symbols('B')\n",
    "# Defining q = n/B and its equilibrium shape\n",
    "q = Function('({n_0}/{B})')(x_pe, x_th, x_pa)\n",
    "q0 = Function('q_{e0}')(x_pe, x_pa)\n",
    "q0_sym = symbols('q_{e0}')\n",
    "Dpe_lnp = symbols(' [\\\\nabla_{\\perp}\\ln(p_{e0})]')\n",
    "Dpa_lnp = symbols(' [\\\\nabla_{\\parallel}\\ln(p_{e0})]')\n",
    "shape_p = exp(Dpe_lnp * x_pe + Dpa_lnp * x_pa)\n",
    "shape_qe = shape_p / shape_B\n",
    "# Perturbed electric potential\n",
    "phi1_sym = symbols('e\\\\phi_{e1}/m_e')\n",
    "Dpe_lnphi1 = symbols(' [\\\\nabla_{\\perp}\\ln(\\phi_{e1})]')\n",
    "Dpa_lnphi1 = symbols(' [\\\\nabla_{\\parallel}\\ln(\\phi_{e1})]')\n",
    "shape_phi1 = exp(Dpe_lnphi1 * x_pe + Dpa_lnphi1 * x_pa)\n",
    "# Perturbed electron density h_e1 = n_e1/n_0\n",
    "he1_sym = symbols('h_{e1}')\n",
    "Dpe_lnhe1 = symbols(' [\\\\nabla_{\\perp}\\ln(h_{e1})]')\n",
    "Dpa_lnhe1 = symbols(' [\\\\nabla_{\\parallel}\\ln(h_{e1})]')\n",
    "shape_he1 = exp(Dpe_lnhe1 * x_pe + Dpa_lnhe1 * x_pa)\n",
    "# Equilibrium density\n",
    "n_0 = symbols('n_0')\n",
    "Dpe_lnn_0 = symbols(' [\\\\nabla_{\\perp}\\ln(n_0)]')\n",
    "Dpa_lnn_0 = symbols(' [\\\\nabla_{\\parallel}\\ln(n_0)]')\n",
    "shape_n0 = exp(Dpe_lnn_0 * x_pe + Dpa_lnn_0 * x_pa)\n",
    "# General functions of the components of the perturbed fields\n",
    "u_pe1 = Function('u_{e\\perp1}')(x_pe,x_pa) \n",
    "u_th1 = Function('u_{e\\\\theta1}')(x_pe,x_pa) \n",
    "u_pa1 = Function('u_{e\\parallel1}')(x_pe,x_pa) \n",
    "q1 = Function('q_{e1}')(x_pe,x_pa)\n",
    "# Shapes of the perturbed fields\n",
    "k_pe, k_th, k_pa, w = symbols('k_\\perp, k_\\\\theta, k_\\parallel, \\omega')\n",
    "shape = exp(1j*(k_pe * x_pe/small + k_th * x_th/small + k_pa * x_pa))\n",
    "# Perpendicular velocity\n",
    "Dpe_lnu_pe = symbols(' [\\\\nabla_{\\perp}\\ln(u_{e\\perp1})]')\n",
    "Dpa_lnu_pe = symbols(' [\\\\nabla_{\\parallel}\\ln(u_{e\\perp1})]')\n",
    "shape_pe = exp(Dpe_lnu_pe * x_pe + Dpa_lnu_pe * x_pa)\n",
    "# Azimuthal velocity\n",
    "Dpe_lnu_th = symbols(' [\\\\nabla_{\\perp}\\ln(u_{e\\\\theta1})]')\n",
    "Dpa_lnu_th = symbols(' [\\\\nabla_{\\parallel}\\ln(u_{e\\\\theta1})]')\n",
    "shape_th = exp(Dpe_lnu_th * x_pe + Dpa_lnu_th * x_pa)\n",
    "# Parallel velocity\n",
    "Dpe_lnu_pa = symbols(' [\\\\nabla_{\\perp}\\ln(u_{e\\parallel1})]')\n",
    "Dpa_lnu_pa = symbols(' [\\\\nabla_{\\parallel}\\ln(u_{e\\parallel1})]')\n",
    "shape_pa = exp(Dpe_lnu_pa * x_pe + Dpa_lnu_pa * x_pa)\n",
    "# Functions of the components of the total and equilibrium fields\n",
    "u_pe = Function('u_{e\\perp}')(x_pe,x_th,x_pa)\n",
    "u_th = Function('u_{e\\\\theta}')(x_pe,x_th,x_pa)\n",
    "u_pa = Function('u_{e\\parallel}')(x_pe,x_th,x_pa)\n",
    "u_pe0 = Function('u_{e\\perp0}')(x_pe,x_pa) \n",
    "u_th0 = Function('u_{e\\\\theta0}')(x_pe,x_pa) \n",
    "u_pa0 = Function('u_{e\\parallel0}')(x_pe,x_pa)\n",
    "# Symbols of the components of the total, perturbed and equilibrium fields\n",
    "u_pe_sym = symbols('u_{e\\perp}')\n",
    "u_th_sym = symbols('u_{e\\\\theta}')\n",
    "u_pa_sym = symbols('u_{e\\parallel}')\n",
    "r_sym = symbols('\\\\frac{1}{r}')\n",
    "q_sym = symbols('\\left(\\\\frac{n_e}{B}\\\\right)')\n",
    "u_pe1_sym = symbols('u_{e\\perp1}')\n",
    "u_th1_sym = symbols('u_{e\\\\theta1}')\n",
    "u_pa1_sym = symbols('u_{e\\parallel1}')\n",
    "q1_sym = symbols('q_{e1}')\n",
    "u_pe0_sym = symbols('u_{e\\perp0}')\n",
    "u_th0_sym = symbols('u_{e\\\\theta0}')\n",
    "u_pa0_sym = symbols('u_{e\\parallel0}')\n",
    "# Define the fields and the perturbed fields\n",
    "u = [u_pe, u_th, u_pa]\n",
    "ue1 = [u_pe1_sym * shape_pe * shape, u_th1_sym * shape_th * shape, u_pa1_sym * shape_pa * shape]\n",
    "ue0 = [small*u_pe0, small*u_th0, small*u_pa0]\n",
    "qe1 = q1 * shape\n",
    "q0 = n_0 * w_ce * rho_e**2 * shape_qe\n",
    "B = B_sym * shape_B\n",
    "n0 = n_0 * shape_n0\n",
    "phi1 = phi1_sym * shape_phi1 * shape\n",
    "he1 = he1_sym * shape_he1 * shape\n",
    "# Define the gradient of a scalar q in 3D space\n",
    "def grad_scal(q):\n",
    "    return [small*diff(q, x_pe), small * diff(q, x_th), small*diff(q, x_pa)]\n",
    "# Define the scalar product of a scalar q and a vector u in 3D space\n",
    "def scal_vect(q,u):\n",
    "    w = [0,0,0]\n",
    "    for i in [0,1,2]:\n",
    "        w[i] = q * u[i]\n",
    "    return w\n",
    "# Define the sum of two vectors u and v in 3D space\n",
    "def sum_vect(u,v):\n",
    "    w = [0,0,0]\n",
    "    for i in [0,1,2]:\n",
    "        w[i] = u[i] + v[i]\n",
    "    return w\n",
    "# Define the gradient of a vector field u in 3D space\n",
    "def grad_vect(u):\n",
    "    a11 = small*(diff(u[0], x_pe) - u[2] * diff(B, x_pa)/B_sym)\n",
    "    a12 = small*(diff(u[1], x_pe))\n",
    "    a13 = small*(diff(u[2], x_pe) + u[0] * diff(B, x_pa)/B_sym)\n",
    "    a21 = small*( diff(u[0], x_th))\n",
    "    a22 = small*( diff(u[1], x_th))\n",
    "    a23 = small*( diff(u[2], x_th))\n",
    "    a31 = small*(diff(u[0], x_pa) + u[2] * diff(B, x_pe)/B_sym)\n",
    "    a32 = small*(diff(u[1], x_pa))\n",
    "    a33 = small*(diff(u[2], x_pa) - u[0] * diff(B, x_pe)/B_sym)\n",
    "    A = [[a11, a12, a13],\n",
    "         [a21, a22, a23],\n",
    "         [a31, a32, a33]]\n",
    "    return A\n",
    "# Define the gradient of a vector field u in 3D space\n",
    "def grad_vect_small_1(u):\n",
    "    a11 = (diff(u[0], x_pe) - u[2] * diff(B, x_pa)/B_sym)\n",
    "    a12 = (diff(u[1], x_pe))\n",
    "    a13 = (diff(u[2], x_pe) + u[0] * diff(B, x_pa)/B_sym)\n",
    "    a21 = ( diff(u[0], x_th))\n",
    "    a22 = ( diff(u[1], x_th))\n",
    "    a23 = ( diff(u[2], x_th))\n",
    "    a31 = (diff(u[0], x_pa) + u[2] * diff(B, x_pe)/B_sym)\n",
    "    a32 = (diff(u[1], x_pa))\n",
    "    a33 = (diff(u[2], x_pa) - u[0] * diff(B, x_pe)/B_sym)\n",
    "    A = [[a11, a12, a13],\n",
    "         [a21, a22, a23],\n",
    "         [a31, a32, a33]]\n",
    "    return A\n",
    "# Define the divergence of a vector field u in 3D space\n",
    "def div_vect(u):\n",
    "    A = grad_vect(u)\n",
    "    d = A[0][0] + A[1][1] + A[2][2]\n",
    "    return d\n",
    "# Define the vector product (cross product) of two vectors u and v in 3D space\n",
    "def prod_vect(u,v):\n",
    "    w = [0,0,0]\n",
    "    index_vect = [0,1,2,0,1,2]\n",
    "    for i in [0,1,2]:\n",
    "        w[i] = u[index_vect[i+1]] * v[index_vect[i+2]] - u[index_vect[i+2]] * v[index_vect[i+1]]\n",
    "    return w\n",
    "# Define the rotor of a vector field u in 3D space\n",
    "def rot_vect(u):\n",
    "    w = [0, 0, 0]\n",
    "    index_vect = [0,1,2,0,1,2]\n",
    "    A = grad_vect(u)\n",
    "    for i in [0,1,2]:\n",
    "        w[i] = A[index_vect[i+1]][index_vect[i+2]] - A[index_vect[i+2]][index_vect[i+1]]\n",
    "    return w\n",
    "# Define the scalar product of two vectors u and v in 3D space\n",
    "def scal_prod_vect(u,v):\n",
    "    w=0\n",
    "    for i in [0,1,2]:\n",
    "        w += u[i] * v[i]\n",
    "    return w\n",
    "# Define the vector-matrix product of a vector u and a tensor A in 3D space\n",
    "def vect_matr(u,A):\n",
    "    w = [0,0,0]\n",
    "    for i in [0,1,2]:\n",
    "        for j in [0,1,2]:\n",
    "            w[i] += u[j] * A[j][i]\n",
    "    return w\n",
    "# Define the matrix-vector product of a tensor A and a vector u in 3D space\n",
    "def matr_vect(A,u):\n",
    "    w = [0,0,0]\n",
    "    for i in [0,1,2]:\n",
    "        for j in [0,1,2]:\n",
    "            w[i] += A[i][j] * u[j]\n",
    "    return w\n",
    "# Define the determinant of a 2x2 matrix A\n",
    "def det2(A):\n",
    "    det = A[0][0] * A[1][1] - A[0][1] * A[1][0]\n",
    "    return det\n",
    "# Define the determinant of a 3x3 matrix A\n",
    "def det3(A):\n",
    "    A00 = [[A[1][1], A[1][2]],\n",
    "            [A[2][1], A[2][2]]]\n",
    "    A01 = [[A[1][0], A[1][2]],\n",
    "            [A[2][0], A[2][2]]]\n",
    "    A02 = [[A[1][0], A[1][1]],\n",
    "            [A[2][0], A[2][1]]]\n",
    "    det = A[0][0] * det2(A00) - A[0][1] * det2(A01) + A[0][2] * det2(A02)\n",
    "    return det\n",
    "# Define the determinant of a 4x4 matrix A\n",
    "def det4(A):\n",
    "    A00 =  [[A[1][1], A[1][2], A[1][3]],\n",
    "            [A[2][1], A[2][2], A[2][3]],\n",
    "            [A[3][1], A[3][2], A[3][3]]]\n",
    "    A01 =  [[A[1][0], A[1][2], A[1][3]],\n",
    "            [A[2][0], A[2][2], A[2][3]],\n",
    "            [A[3][0], A[3][2], A[3][3]]]\n",
    "    A02 =  [[A[1][0], A[1][1], A[1][3]],\n",
    "            [A[2][0], A[2][1], A[2][3]],\n",
    "            [A[3][0], A[3][1], A[3][3]]]\n",
    "    A03 =  [[A[1][0], A[1][1], A[1][2]],\n",
    "            [A[2][0], A[2][1], A[2][2]],\n",
    "            [A[3][0], A[3][1], A[3][2]]]\n",
    "    det = A[0][0] * det3(A00) - A[0][1] * det3(A01) + A[0][2] * det3(A02) - A[0][3] * det3(A03)\n",
    "    return det\n",
    "# Substitutions for the functions and symbols (for better printing)\n",
    "phi = Function('\\\\phi')(x_pe, x_th, x_pa)\n",
    "psi_pe = Function('\\\\psi_{\\\\perp}')(x_pe, x_th, x_pa)\n",
    "psi_th = Function('\\\\psi_{\\\\theta}')(x_pe, x_th, x_pa)\n",
    "psi_pa = Function('\\\\psi_{\\\\parallel}')(x_pe, x_th, x_pa)\n",
    "psi = [psi_pe, psi_th, psi_pa]\n",
    "phi_sym = symbols('\\\\phi')\n",
    "psi_pe_sym = symbols('\\\\psi_{\\\\perp}')\n",
    "psi_th_sym = symbols('\\\\psi_{\\\\theta}')\n",
    "psi_pa_sym = symbols('\\\\psi_{\\\\parallel}')\n",
    "psi_sym = [psi_pe_sym, psi_th_sym, psi_pa_sym]\n",
    "def complete_subs(exp):\n",
    "    fun_list = [q, u_pe, u_th, u_pa, B, q1, u_pe1, u_th1, u_pa1, q0, u_pe0, u_th0, u_pa0, shape,\\\n",
    "                shape_pe, shape_th, shape_pa, shape_B, shape_qe, shape_phi1, shape_he1, shape_n0, phi,\\\n",
    "                    psi_pe, psi_th, psi_pa]\n",
    "    sym_list = [q_sym, u_pe_sym, u_th_sym, u_pa_sym, B_sym,\\\n",
    "        q1_sym, u_pe1_sym, u_th1_sym, u_pa1_sym, q0_sym, u_pe0_sym, u_th0_sym, u_pa0_sym,1,\\\n",
    "            1, 1, 1, 1, 1, 1, 1, 1, phi_sym, psi_pe_sym, psi_th_sym, psi_pa_sym]\n",
    "    exp = Array(exp)\n",
    "    for i in range(len(fun_list)):\n",
    "        exp = exp.subs(fun_list[i], sym_list[i])\n",
    "    return exp\n",
    "# Function to print the expression\n",
    "def display_subs(exp):\n",
    "    exp_new = complete_subs(exp)\n",
    "    return display(exp_new)\n",
    "# Function to print the expression in LaTeX format\n",
    "def display_latex(exp):\n",
    "    exp_new = complete_subs(exp)\n",
    "    return print_latex(exp_new)\n",
    "display(Latex(r'$\\nabla \\phi$='))\n",
    "nabla_phi = grad_scal(phi)\n",
    "for i in range(3):\n",
    "    nabla_phi[i] = nabla_phi[i].subs(phi, phi_sym).subs(small, 1)\n",
    "nabla_phi = Matrix(nabla_phi)\n",
    "display_subs(nabla_phi)\n",
    "print('-----------------------------------------')\n",
    "nabla_psi = grad_vect_small_1(psi)\n",
    "nabla_psi = Matrix(nabla_psi)\n",
    "display(Latex(r'$\\nabla \\psi$='))\n",
    "display_subs(nsimplify(nabla_psi))\n",
    "print('-----------------------------------------')\n",
    "div_psi = div_vect(psi)\n",
    "for i in range(3):\n",
    "    div_psi = div_psi.subs(small, 1)\n",
    "display(Latex(r'$\\nabla \\cdot \\psi$='))\n",
    "display_subs(div_psi)\n",
    "print('-----------------------------------------')\n",
    "rot_psi = rot_vect(psi)\n",
    "for i in range(3):\n",
    "    rot_psi[i] = rot_psi[i].subs(small, 1)\n",
    "rot_psi = Matrix(rot_psi)\n",
    "display(Latex(r'$\\nabla \\times \\psi$='))\n",
    "display_subs(rot_psi)"
   ]
  },
  {
   "cell_type": "markdown",
   "metadata": {},
   "source": [
    "The cell below computes and displays the three components of $\\frac{-\\nabla\\cdot\\Pi_e}{m_e n_e}$ in our curvilinear coordiante system of choice, with $\\mathbf B= B \\mathbf 1_\\parallel$, $1_\\theta$ perpendicular to the ($z,r$) meridian plane, and $\\mathbf 1_\\perp = \\mathbf 1_\\theta \\times \\mathbf 1_\\parallel$."
   ]
  },
  {
   "cell_type": "code",
   "execution_count": 3,
   "metadata": {},
   "outputs": [
    {
     "name": "stdout",
     "output_type": "stream",
     "text": [
      "----------------------------------------------------\n"
     ]
    },
    {
     "data": {
      "text/latex": [
       "$\\displaystyle\\left(-\\frac{\\nabla\\cdot\\Pi_e}{m_e n_e}\\right)_{\\perp1}$="
      ],
      "text/plain": [
       "<IPython.core.display.Latex object>"
      ]
     },
     "metadata": {},
     "output_type": "display_data"
    },
    {
     "data": {
      "image/png": "[encoded data removed]",
      "text/latex": [
       "$\\displaystyle - \\left(\\frac{n_e}{B}\\right) {[\\nabla_{\\parallel}\\ln(B)]} \\left(-  \\nabla_\\theta u_{e\\parallel} - 2  \\nabla_\\parallel u_{e\\theta}\\right) + \\frac{\\left(\\frac{n_e}{B}\\right) {[\\nabla_{\\perp}\\ln(B)]} \\left(-  \\nabla_\\theta u_{e\\perp} +  \\nabla_\\perp u_{e\\theta}\\right)}{2} + \\left(\\frac{n_e}{B}\\right) \\left(- 2  \\nabla_{\\parallel\\parallel}^2 u_{e\\theta} -  \\nabla_{\\theta\\parallel}^2 u_{e\\parallel}\\right) + \\left(\\frac{n_e}{B}\\right) \\left(- \\frac{ \\nabla_{\\perp\\perp}^2 u_{e\\theta}}{2} + \\frac{ \\nabla_{\\perp\\theta}^2 u_{e\\perp}}{2}\\right) - \\left(\\frac{n_e}{B}\\right) \\left(- \\frac{{[\\nabla_{\\parallel}\\ln(B)]}  \\nabla_\\theta u_{e\\parallel}}{2} + \\frac{ \\nabla_{\\theta\\theta}^2 u_{e\\theta}}{2} + \\frac{ \\nabla_{\\perp\\theta}^2 u_{e\\perp}}{2}\\right) + \\left(\\frac{n_e}{B}\\right)  \\nabla_{\\parallel\\parallel}^2 u_{e\\theta} + \\left(\\left(\\frac{n_e}{B}\\right) {[\\nabla_{\\perp}\\ln(B)]} -  \\nabla_\\perp \\left(\\frac{n_e}{B}\\right)\\right)  \\nabla_\\theta u_{e\\perp} + \\left(- u_{e\\parallel} {[\\nabla_{\\parallel}\\ln(B)]} +  \\nabla_\\perp u_{e\\perp}\\right)  \\nabla_\\theta \\left(\\frac{n_e}{B}\\right) + \\left(-  \\nabla_\\theta u_{e\\parallel} - 2  \\nabla_\\parallel u_{e\\theta}\\right)  \\nabla_\\parallel \\left(\\frac{n_e}{B}\\right) + \\left(\\frac{ \\nabla_\\theta u_{e\\perp}}{2} - \\frac{ \\nabla_\\perp u_{e\\theta}}{2}\\right)  \\nabla_\\perp \\left(\\frac{n_e}{B}\\right) - \\left(- \\frac{u_{e\\parallel} {[\\nabla_{\\parallel}\\ln(B)]}}{2} + \\frac{ \\nabla_\\perp u_{e\\perp}}{2} + \\frac{ \\nabla_\\theta u_{e\\theta}}{2}\\right)  \\nabla_\\theta \\left(\\frac{n_e}{B}\\right) +  \\nabla_\\parallel \\left(\\frac{n_e}{B}\\right)  \\nabla_\\parallel u_{e\\theta}$"
      ],
      "text/plain": [
       "                                                                              \n",
       "                                                                              \n",
       "                                                                              \n",
       "                                                                              \n",
       "                                                          ⎛      d            \n",
       "- \\left(\\frac{n_e}{B}\\right)⋅{[\\nabla_{\\parallel}\\ln(B)]}⋅⎜- ─────────(u_{e\\pa\n",
       "                                                          ⎝  ds_\\theta        \n",
       "                                                                              \n",
       "\n",
       "                                                                              \n",
       "                                                                              \n",
       "                                                                              \n",
       "                                          \\left(\\frac{n_e}{B}\\right)⋅{[\\nabla_\n",
       "                  d                   ⎞                                       \n",
       "rallel}) - 2⋅────────────(u_{e\\theta})⎟ + ────────────────────────────────────\n",
       "             ds_\\parallel             ⎠                                       \n",
       "                                                                              \n",
       "\n",
       "                                                                              \n",
       "                                                                              \n",
       "                ⎛      d                      d                 ⎞             \n",
       "{\\perp}\\ln(B)]}⋅⎜- ─────────(u_{e\\perp}) + ────────(u_{e\\theta})⎟             \n",
       "                ⎝  ds_\\theta               ds_\\perp             ⎠             \n",
       "───────────────────────────────────────────────────────────────── + \\left(\\fra\n",
       "              2                                                               \n",
       "                                                                              \n",
       "\n",
       "                                                                              \n",
       "                                                                              \n",
       "                                                                              \n",
       "                 ⎛           2                                2               \n",
       "                 ⎜          d                                d                \n",
       "c{n_e}{B}\\right)⋅⎜- 2⋅─────────────(u_{e\\theta}) - ──────────────────────(u_{e\n",
       "                 ⎜                2                ds_\\theta ds_\\parallel     \n",
       "                 ⎝    ds_\\parallel                                            \n",
       "\n",
       "                                          ⎛       2                           \n",
       "                                          ⎜      d                            \n",
       "                                          ⎜  ─────────(u_{e\\theta})           \n",
       "           ⎞                              ⎜          2                ────────\n",
       "           ⎟                              ⎜  ds_\\perp                 ds_\\thet\n",
       "\\parallel})⎟ + \\left(\\frac{n_e}{B}\\right)⋅⎜- ────────────────────── + ────────\n",
       "           ⎟                              ⎝            2                      \n",
       "           ⎠                                                                  \n",
       "\n",
       "                      ⎞                              ⎛                        \n",
       " 2                    ⎟                              ⎜                        \n",
       "d                     ⎟                              ⎜                        \n",
       "──────────(u_{e\\perp})⎟                              ⎜  {[\\nabla_{\\parallel}\\l\n",
       "a ds_\\perp            ⎟                              ⎜                        \n",
       "──────────────────────⎟ - \\left(\\frac{n_e}{B}\\right)⋅⎜- ──────────────────────\n",
       "      2               ⎠                              ⎝                        \n",
       "                                                                              \n",
       "\n",
       "                                        2                                     \n",
       "                                       d                              2       \n",
       "           d                       ──────────(u_{e\\theta})           d        \n",
       "n(B)]}⋅─────────(u_{e\\parallel})            2                ─────────────────\n",
       "       ds_\\theta                   ds_\\theta                 ds_\\theta ds_\\per\n",
       "──────────────────────────────── + ─────────────────────── + ─────────────────\n",
       "    2                                         2                            2  \n",
       "                                                                              \n",
       "\n",
       "             ⎞                                                                \n",
       "             ⎟                                                                \n",
       "             ⎟                                                                \n",
       "─(u_{e\\perp})⎟                                     2                          \n",
       "p            ⎟                                    d                      ⎛    \n",
       "─────────────⎟ + \\left(\\frac{n_e}{B}\\right)⋅─────────────(u_{e\\theta}) + ⎜\\lef\n",
       "             ⎠                                          2                ⎝    \n",
       "                                            ds_\\parallel                      \n",
       "\n",
       "                                                                              \n",
       "                                                                              \n",
       "                                                                              \n",
       "                                                                              \n",
       "                                                     d                        \n",
       "t(\\frac{n_e}{B}\\right)⋅{[\\nabla_{\\perp}\\ln(B)]} - ────────(\\left(\\frac{n_e}{B}\n",
       "                                                  ds_\\perp                    \n",
       "                                                                              \n",
       "\n",
       "                                                                              \n",
       "                                                                              \n",
       "                                                                              \n",
       "                                                                              \n",
       "        ⎞     d                   ⎛                                           \n",
       "\\right))⎟⋅─────────(u_{e\\perp}) + ⎜-u_{e\\parallel}⋅{[\\nabla_{\\parallel}\\ln(B)]\n",
       "        ⎠ ds_\\theta               ⎝                                           \n",
       "                                                                              \n",
       "\n",
       "                                                                              \n",
       "                                                                              \n",
       "                                                                              \n",
       "                                                                              \n",
       "       d                ⎞     d                                   ⎛      d    \n",
       "} + ────────(u_{e\\perp})⎟⋅─────────(\\left(\\frac{n_e}{B}\\right)) + ⎜- ─────────\n",
       "    ds_\\perp            ⎠ ds_\\theta                               ⎝  ds_\\theta\n",
       "                                                                              \n",
       "\n",
       "                                                                              \n",
       "                                                                              \n",
       "                                                                              \n",
       "                                                                              \n",
       "                          d                   ⎞      d                        \n",
       "(u_{e\\parallel}) - 2⋅────────────(u_{e\\theta})⎟⋅────────────(\\left(\\frac{n_e}{\n",
       "                     ds_\\parallel             ⎠ ds_\\parallel                  \n",
       "                                                                              \n",
       "\n",
       "                                                                              \n",
       "                                                                              \n",
       "             ⎛    d                      d                 ⎞                  \n",
       "             ⎜─────────(u_{e\\perp})   ────────(u_{e\\theta})⎟                  \n",
       "             ⎜ds_\\theta               ds_\\perp             ⎟    d             \n",
       "B}\\right)) + ⎜───────────────────── - ─────────────────────⎟⋅────────(\\left(\\f\n",
       "             ⎝          2                       2          ⎠ ds_\\perp         \n",
       "                                                                              \n",
       "\n",
       "                                                                              \n",
       "                                                                              \n",
       "                      ⎛                                                   d   \n",
       "                      ⎜                                                ───────\n",
       "                      ⎜  u_{e\\parallel}⋅{[\\nabla_{\\parallel}\\ln(B)]}   ds_\\per\n",
       "rac{n_e}{B}\\right)) - ⎜- ─────────────────────────────────────────── + ───────\n",
       "                      ⎝                       2                               \n",
       "                                                                              \n",
       "\n",
       "                                                                              \n",
       "                                                                              \n",
       "                    d                 ⎞                                       \n",
       "─(u_{e\\perp})   ─────────(u_{e\\theta})⎟                                       \n",
       "p               ds_\\theta             ⎟     d                                 \n",
       "───────────── + ──────────────────────⎟⋅─────────(\\left(\\frac{n_e}{B}\\right)) \n",
       "  2                       2           ⎠ ds_\\theta                             \n",
       "                                                                              \n",
       "\n",
       "                                                                    \n",
       "                                                                    \n",
       "                                                                    \n",
       "                                                                    \n",
       "       d                                        d                   \n",
       "+ ────────────(\\left(\\frac{n_e}{B}\\right))⋅────────────(u_{e\\theta})\n",
       "  ds_\\parallel                             ds_\\parallel             \n",
       "                                                                    "
      ]
     },
     "metadata": {},
     "output_type": "display_data"
    },
    {
     "name": "stdout",
     "output_type": "stream",
     "text": [
      "----------------------------------------------------\n"
     ]
    },
    {
     "data": {
      "text/latex": [
       "$\\displaystyle\\left(-\\frac{\\nabla\\cdot\\Pi_e}{m_e n_e}\\right)_{\\theta1}$="
      ],
      "text/plain": [
       "<IPython.core.display.Latex object>"
      ]
     },
     "metadata": {},
     "output_type": "display_data"
    },
    {
     "data": {
      "image/png": "[encoded data removed]",
      "text/latex": [
       "$\\displaystyle \\left(\\frac{n_e}{B}\\right) {[\\nabla_{\\parallel}\\ln(B)]} \\left(u_{e\\parallel} {[\\nabla_{\\perp}\\ln(B)]} +  \\nabla_\\parallel u_{e\\perp}\\right) - \\left(\\frac{n_e}{B}\\right) {[\\nabla_{\\parallel}\\ln(B)]} \\left(2 u_{e\\parallel} {[\\nabla_{\\perp}\\ln(B)]} + u_{e\\perp} {[\\nabla_{\\parallel}\\ln(B)]} +  \\nabla_\\perp u_{e\\parallel} + 2  \\nabla_\\parallel u_{e\\perp}\\right) - \\left(\\frac{n_e}{B}\\right) {[\\nabla_{\\perp}\\ln(B)]} \\left(- \\frac{u_{e\\parallel} {[\\nabla_{\\parallel}\\ln(B)]}}{2} + \\frac{ \\nabla_\\perp u_{e\\perp}}{2} + \\frac{ \\nabla_\\theta u_{e\\theta}}{2}\\right) + \\left(\\frac{n_e}{B}\\right) \\left(\\frac{ \\nabla_{\\theta\\theta}^2 u_{e\\perp}}{2} - \\frac{ \\nabla_{\\perp\\theta}^2 u_{e\\theta}}{2}\\right) - \\left(\\frac{n_e}{B}\\right) \\left(u_{e\\parallel} {[\\nabla_{\\parallel}\\ln(B)]} {[\\nabla_{\\perp}\\ln(B)]} + {[\\nabla_{\\perp}\\ln(B)]}  \\nabla_\\parallel u_{e\\parallel} +  \\nabla_{\\parallel\\parallel}^2 u_{e\\perp}\\right) + \\left(\\frac{n_e}{B}\\right) \\left(- \\frac{u_{e\\parallel} {[\\nabla_{\\parallel}\\ln(B)]} {[\\nabla_{\\perp}\\ln(B)]}}{2} - \\frac{{[\\nabla_{\\parallel}\\ln(B)]}  \\nabla_\\perp u_{e\\parallel}}{2} + \\frac{ \\nabla_{\\perp\\perp}^2 u_{e\\perp}}{2} + \\frac{ \\nabla_{\\perp\\theta}^2 u_{e\\theta}}{2}\\right) + \\left(\\frac{n_e}{B}\\right) \\left(2 u_{e\\parallel} {[\\nabla_{\\parallel}\\ln(B)]} {[\\nabla_{\\perp}\\ln(B)]} + u_{e\\perp} {[\\nabla_{\\parallel}\\ln(B)]}^{2} + {[\\nabla_{\\parallel}\\ln(B)]}  \\nabla_\\parallel u_{e\\perp} + 2 {[\\nabla_{\\perp}\\ln(B)]}  \\nabla_\\parallel u_{e\\parallel} + 2  \\nabla_{\\parallel\\parallel}^2 u_{e\\perp} +  \\nabla_{\\perp\\parallel}^2 u_{e\\parallel}\\right) + \\left(\\left(\\frac{n_e}{B}\\right) {[\\nabla_{\\perp}\\ln(B)]} -  \\nabla_\\perp \\left(\\frac{n_e}{B}\\right)\\right)  \\nabla_\\theta u_{e\\theta} - \\left(u_{e\\parallel} {[\\nabla_{\\perp}\\ln(B)]} +  \\nabla_\\parallel u_{e\\perp}\\right)  \\nabla_\\parallel \\left(\\frac{n_e}{B}\\right) + \\left(\\frac{ \\nabla_\\theta u_{e\\perp}}{2} - \\frac{ \\nabla_\\perp u_{e\\theta}}{2}\\right)  \\nabla_\\theta \\left(\\frac{n_e}{B}\\right) + \\left(- \\frac{u_{e\\parallel} {[\\nabla_{\\parallel}\\ln(B)]}}{2} + \\frac{ \\nabla_\\perp u_{e\\perp}}{2} + \\frac{ \\nabla_\\theta u_{e\\theta}}{2}\\right)  \\nabla_\\perp \\left(\\frac{n_e}{B}\\right) + \\left(2 u_{e\\parallel} {[\\nabla_{\\perp}\\ln(B)]} + u_{e\\perp} {[\\nabla_{\\parallel}\\ln(B)]} +  \\nabla_\\perp u_{e\\parallel} + 2  \\nabla_\\parallel u_{e\\perp}\\right)  \\nabla_\\parallel \\left(\\frac{n_e}{B}\\right) +  \\nabla_\\theta \\left(\\frac{n_e}{B}\\right)  \\nabla_\\perp u_{e\\theta}$"
      ],
      "text/plain": [
       "                                                                              \n",
       "                                                                              \n",
       "                                                                              \n",
       "                                                                              \n",
       "                                                        ⎛                     \n",
       "\\left(\\frac{n_e}{B}\\right)⋅{[\\nabla_{\\parallel}\\ln(B)]}⋅⎜u_{e\\parallel}⋅{[\\nab\n",
       "                                                        ⎝                     \n",
       "                                                                              \n",
       "\n",
       "                                                                              \n",
       "                                                                              \n",
       "                                                                              \n",
       "                                                                              \n",
       "                          d                  ⎞                                \n",
       "la_{\\perp}\\ln(B)]} + ────────────(u_{e\\perp})⎟ - \\left(\\frac{n_e}{B}\\right)⋅{[\n",
       "                     ds_\\parallel            ⎠                                \n",
       "                                                                              \n",
       "\n",
       "                                                                              \n",
       "                                                                              \n",
       "                                                                              \n",
       "                                                                              \n",
       "                           ⎛                                                  \n",
       "\\nabla_{\\parallel}\\ln(B)]}⋅⎜2⋅u_{e\\parallel}⋅{[\\nabla_{\\perp}\\ln(B)]} + u_{e\\p\n",
       "                           ⎝                                                  \n",
       "                                                                              \n",
       "\n",
       "                                                                              \n",
       "                                                                              \n",
       "                                                                              \n",
       "                                                                              \n",
       "                                       d                              d       \n",
       "erp}⋅{[\\nabla_{\\parallel}\\ln(B)]} + ────────(u_{e\\parallel}) + 2⋅────────────(\n",
       "                                    ds_\\perp                     ds_\\parallel \n",
       "                                                                              \n",
       "\n",
       "                                                                              \n",
       "                                                                              \n",
       "                                                                   ⎛          \n",
       "                                                                   ⎜          \n",
       "           ⎞                                                       ⎜  u_{e\\par\n",
       "u_{e\\perp})⎟ - \\left(\\frac{n_e}{B}\\right)⋅{[\\nabla_{\\perp}\\ln(B)]}⋅⎜- ────────\n",
       "           ⎠                                                       ⎝          \n",
       "                                                                              \n",
       "\n",
       "                                                                              \n",
       "                                                                              \n",
       "                                         d                       d            \n",
       "                                      ────────(u_{e\\perp})   ─────────(u_{e\\th\n",
       "allel}⋅{[\\nabla_{\\parallel}\\ln(B)]}   ds_\\perp               ds_\\theta        \n",
       "─────────────────────────────────── + ──────────────────── + ─────────────────\n",
       "             2                                 2                       2      \n",
       "                                                                              \n",
       "\n",
       "                                    ⎛     2                                   \n",
       "                                    ⎜    d                             2      \n",
       "     ⎞                              ⎜──────────(u_{e\\perp})           d       \n",
       "eta})⎟                              ⎜         2               ────────────────\n",
       "     ⎟                              ⎜ds_\\theta                ds_\\theta ds_\\pe\n",
       "─────⎟ + \\left(\\frac{n_e}{B}\\right)⋅⎜────────────────────── - ────────────────\n",
       "     ⎠                              ⎝          2                             2\n",
       "                                                                              \n",
       "\n",
       "               ⎞                                                              \n",
       "               ⎟                                                              \n",
       "               ⎟                                                              \n",
       "──(u_{e\\theta})⎟                              ⎛                               \n",
       "rp             ⎟                              ⎜                               \n",
       "───────────────⎟ - \\left(\\frac{n_e}{B}\\right)⋅⎜u_{e\\parallel}⋅{[\\nabla_{\\paral\n",
       "               ⎠                              ⎜                               \n",
       "                                              ⎝                               \n",
       "\n",
       "                                                                              \n",
       "                                                                              \n",
       "                                                                              \n",
       "                                                                              \n",
       "                                                                      d       \n",
       "lel}\\ln(B)]}⋅{[\\nabla_{\\perp}\\ln(B)]} + {[\\nabla_{\\perp}\\ln(B)]}⋅────────────(\n",
       "                                                                 ds_\\parallel \n",
       "                                                                              \n",
       "\n",
       "                                                                          ⎛   \n",
       "                                                                          ⎜   \n",
       "                                                                          ⎜   \n",
       "                         2                 ⎞                              ⎜   \n",
       "                        d                  ⎟                              ⎜  u\n",
       "u_{e\\parallel}) + ─────────────(u_{e\\perp})⎟ + \\left(\\frac{n_e}{B}\\right)⋅⎜- ─\n",
       "                              2            ⎟                              ⎝   \n",
       "                  ds_\\parallel             ⎠                                  \n",
       "\n",
       "                                                                              \n",
       "                                                                              \n",
       "                                                                              \n",
       "                                                                      {[\\nabla\n",
       "_{e\\parallel}⋅{[\\nabla_{\\parallel}\\ln(B)]}⋅{[\\nabla_{\\perp}\\ln(B)]}           \n",
       "─────────────────────────────────────────────────────────────────── - ────────\n",
       "                                2                                             \n",
       "                                                                              \n",
       "\n",
       "                                                     2                        \n",
       "                                                    d                         \n",
       "                        d                       ─────────(u_{e\\perp})         \n",
       "_{\\parallel}\\ln(B)]}⋅────────(u_{e\\parallel})           2               ──────\n",
       "                     ds_\\perp                   ds_\\perp                ds_\\th\n",
       "───────────────────────────────────────────── + ───────────────────── + ──────\n",
       "                  2                                       2                   \n",
       "                                                                              \n",
       "\n",
       "                         ⎞                                                    \n",
       "   2                     ⎟                                                    \n",
       "  d                      ⎟                                                    \n",
       "────────────(u_{e\\theta})⎟                              ⎛                     \n",
       "eta ds_\\perp             ⎟                              ⎜                     \n",
       "─────────────────────────⎟ + \\left(\\frac{n_e}{B}\\right)⋅⎜2⋅u_{e\\parallel}⋅{[\\n\n",
       "         2               ⎠                              ⎜                     \n",
       "                                                        ⎝                     \n",
       "\n",
       "                                                                              \n",
       "                                                                              \n",
       "                                                                              \n",
       "                                                                              \n",
       "                                                                              \n",
       "abla_{\\parallel}\\ln(B)]}⋅{[\\nabla_{\\perp}\\ln(B)]} + u_{e\\perp}⋅{[\\nabla_{\\para\n",
       "                                                                              \n",
       "                                                                              \n",
       "\n",
       "                                                                              \n",
       "                                                                              \n",
       "                                                                              \n",
       "                                                                              \n",
       "             2                                     d                          \n",
       "llel}\\ln(B)]}  + {[\\nabla_{\\parallel}\\ln(B)]}⋅────────────(u_{e\\perp}) + 2⋅{[\\\n",
       "                                              ds_\\parallel                    \n",
       "                                                                              \n",
       "\n",
       "                                                                              \n",
       "                                                                              \n",
       "                                                                              \n",
       "                                                              2               \n",
       "                           d                                 d                \n",
       "nabla_{\\perp}\\ln(B)]}⋅────────────(u_{e\\parallel}) + 2⋅─────────────(u_{e\\perp\n",
       "                      ds_\\parallel                                 2          \n",
       "                                                       ds_\\parallel           \n",
       "\n",
       "                                                                              \n",
       "                                                                              \n",
       "                                                                              \n",
       "                2                         ⎞                                   \n",
       "               d                          ⎟   ⎛                               \n",
       "}) + ─────────────────────(u_{e\\parallel})⎟ + ⎜\\left(\\frac{n_e}{B}\\right)⋅{[\\n\n",
       "     ds_\\perp ds_\\parallel                ⎟   ⎝                               \n",
       "                                          ⎠                                   \n",
       "\n",
       "                                                                              \n",
       "                                                                              \n",
       "                                                                              \n",
       "                                                                              \n",
       "                          d                                ⎞     d            \n",
       "abla_{\\perp}\\ln(B)]} - ────────(\\left(\\frac{n_e}{B}\\right))⎟⋅─────────(u_{e\\th\n",
       "                       ds_\\perp                            ⎠ ds_\\theta        \n",
       "                                                                              \n",
       "\n",
       "                                                                              \n",
       "                                                                              \n",
       "                                                                              \n",
       "                                                                              \n",
       "        ⎛                                               d                  ⎞  \n",
       "eta}) - ⎜u_{e\\parallel}⋅{[\\nabla_{\\perp}\\ln(B)]} + ────────────(u_{e\\perp})⎟⋅─\n",
       "        ⎝                                          ds_\\parallel            ⎠ d\n",
       "                                                                              \n",
       "\n",
       "                                                                              \n",
       "                                                                              \n",
       "                                          ⎛    d                      d       \n",
       "                                          ⎜─────────(u_{e\\perp})   ────────(u_\n",
       "    d                                     ⎜ds_\\theta               ds_\\perp   \n",
       "───────────(\\left(\\frac{n_e}{B}\\right)) + ⎜───────────────────── - ───────────\n",
       "s_\\parallel                               ⎝          2                       2\n",
       "                                                                              \n",
       "\n",
       "                                                                              \n",
       "                                                                              \n",
       "          ⎞                                         ⎛                         \n",
       "{e\\theta})⎟                                         ⎜                         \n",
       "          ⎟     d                                   ⎜  u_{e\\parallel}⋅{[\\nabla\n",
       "──────────⎟⋅─────────(\\left(\\frac{n_e}{B}\\right)) + ⎜- ───────────────────────\n",
       "          ⎠ ds_\\theta                               ⎝                       2 \n",
       "                                                                              \n",
       "\n",
       "                                                                              \n",
       "                                                                              \n",
       "                          d                       d                 ⎞         \n",
       "                       ────────(u_{e\\perp})   ─────────(u_{e\\theta})⎟         \n",
       "_{\\parallel}\\ln(B)]}   ds_\\perp               ds_\\theta             ⎟    d    \n",
       "──────────────────── + ──────────────────── + ──────────────────────⎟⋅────────\n",
       "                                2                       2           ⎠ ds_\\perp\n",
       "                                                                              \n",
       "\n",
       "                                                                              \n",
       "                                                                              \n",
       "                                                                              \n",
       "                                                                              \n",
       "                               ⎛                                              \n",
       "(\\left(\\frac{n_e}{B}\\right)) + ⎜2⋅u_{e\\parallel}⋅{[\\nabla_{\\perp}\\ln(B)]} + u_\n",
       "                               ⎝                                              \n",
       "                                                                              \n",
       "\n",
       "                                                                              \n",
       "                                                                              \n",
       "                                                                              \n",
       "                                                                              \n",
       "                                           d                              d   \n",
       "{e\\perp}⋅{[\\nabla_{\\parallel}\\ln(B)]} + ────────(u_{e\\parallel}) + 2⋅─────────\n",
       "                                        ds_\\perp                     ds_\\paral\n",
       "                                                                              \n",
       "\n",
       "                                                                              \n",
       "                                                                              \n",
       "                                                                              \n",
       "                                                                              \n",
       "               ⎞      d                                         d             \n",
       "───(u_{e\\perp})⎟⋅────────────(\\left(\\frac{n_e}{B}\\right)) + ─────────(\\left(\\f\n",
       "lel            ⎠ ds_\\parallel                               ds_\\theta         \n",
       "                                                                              \n",
       "\n",
       "                                         \n",
       "                                         \n",
       "                                         \n",
       "                                         \n",
       "                       d                 \n",
       "rac{n_e}{B}\\right))⋅────────(u_{e\\theta})\n",
       "                    ds_\\perp             \n",
       "                                         "
      ]
     },
     "metadata": {},
     "output_type": "display_data"
    },
    {
     "name": "stdout",
     "output_type": "stream",
     "text": [
      "----------------------------------------------------\n"
     ]
    },
    {
     "data": {
      "text/latex": [
       "$\\displaystyle\\left(-\\frac{\\nabla\\cdot\\Pi_e}{m_e n_e}\\right)_{\\parallel1}$="
      ],
      "text/plain": [
       "<IPython.core.display.Latex object>"
      ]
     },
     "metadata": {},
     "output_type": "display_data"
    },
    {
     "data": {
      "image/png": "[encoded data removed]",
      "text/latex": [
       "$\\displaystyle - \\frac{\\left(\\frac{n_e}{B}\\right) {[\\nabla_{\\parallel}\\ln(B)]} \\left(-  \\nabla_\\theta u_{e\\perp} +  \\nabla_\\perp u_{e\\theta}\\right)}{2} - \\left(\\frac{n_e}{B}\\right) {[\\nabla_{\\perp}\\ln(B)]} \\left(-  \\nabla_\\theta u_{e\\parallel} - 2  \\nabla_\\parallel u_{e\\theta}\\right) + \\left(\\frac{n_e}{B}\\right) \\left({[\\nabla_{\\perp}\\ln(B)]}  \\nabla_\\theta u_{e\\parallel} +  \\nabla_{\\theta\\parallel}^2 u_{e\\perp}\\right) + \\left(\\frac{n_e}{B}\\right) \\left(- \\frac{ \\nabla_{\\theta\\parallel}^2 u_{e\\perp}}{2} + \\frac{ \\nabla_{\\perp\\parallel}^2 u_{e\\theta}}{2}\\right) + \\left(\\frac{n_e}{B}\\right) \\left(\\frac{ \\nabla_{\\theta\\parallel}^2 u_{e\\perp}}{2} - \\frac{ \\nabla_{\\perp\\parallel}^2 u_{e\\theta}}{2}\\right) - \\left(\\frac{n_e}{B}\\right)  \\nabla_{\\perp\\parallel}^2 u_{e\\theta} + \\left(\\left(\\frac{n_e}{B}\\right) {[\\nabla_{\\perp}\\ln(B)]} -  \\nabla_\\perp \\left(\\frac{n_e}{B}\\right)\\right)  \\nabla_\\theta u_{e\\parallel} + \\left(u_{e\\parallel} {[\\nabla_{\\perp}\\ln(B)]} +  \\nabla_\\parallel u_{e\\perp}\\right)  \\nabla_\\theta \\left(\\frac{n_e}{B}\\right) + \\left(u_{e\\perp} {[\\nabla_{\\parallel}\\ln(B)]} +  \\nabla_\\perp u_{e\\parallel}\\right)  \\nabla_\\theta \\left(\\frac{n_e}{B}\\right) + \\left(- \\frac{ \\nabla_\\theta u_{e\\perp}}{2} + \\frac{ \\nabla_\\perp u_{e\\theta}}{2}\\right)  \\nabla_\\parallel \\left(\\frac{n_e}{B}\\right) + \\left(\\frac{ \\nabla_\\theta u_{e\\perp}}{2} - \\frac{ \\nabla_\\perp u_{e\\theta}}{2}\\right)  \\nabla_\\parallel \\left(\\frac{n_e}{B}\\right) -  \\nabla_\\perp \\left(\\frac{n_e}{B}\\right)  \\nabla_\\parallel u_{e\\theta}$"
      ],
      "text/plain": [
       "                                                                              \n",
       "                                                          ⎛      d            \n",
       "  \\left(\\frac{n_e}{B}\\right)⋅{[\\nabla_{\\parallel}\\ln(B)]}⋅⎜- ─────────(u_{e\\pe\n",
       "                                                          ⎝  ds_\\theta        \n",
       "- ────────────────────────────────────────────────────────────────────────────\n",
       "                                                      2                       \n",
       "\n",
       "                                                                              \n",
       "          d                 ⎞                                                 \n",
       "rp}) + ────────(u_{e\\theta})⎟                                                 \n",
       "       ds_\\perp             ⎠                                                 \n",
       "───────────────────────────── - \\left(\\frac{n_e}{B}\\right)⋅{[\\nabla_{\\perp}\\ln\n",
       "                                                                              \n",
       "\n",
       "                                                                              \n",
       "                                                                              \n",
       "                                                                              \n",
       "      ⎛      d                              d                   ⎞             \n",
       "(B)]}⋅⎜- ─────────(u_{e\\parallel}) - 2⋅────────────(u_{e\\theta})⎟ + \\left(\\fra\n",
       "      ⎝  ds_\\theta                     ds_\\parallel             ⎠             \n",
       "\n",
       "                                                                              \n",
       "                                                                              \n",
       "                 ⎛                                                            \n",
       "                 ⎜                             d                              \n",
       "c{n_e}{B}\\right)⋅⎜{[\\nabla_{\\perp}\\ln(B)]}⋅─────────(u_{e\\parallel}) + ───────\n",
       "                 ⎝                         ds_\\theta                   ds_\\the\n",
       "\n",
       "                                                          ⎛             2     \n",
       "                                                          ⎜            d      \n",
       "    2                      ⎞                              ⎜  ─────────────────\n",
       "   d                       ⎟                              ⎜  ds_\\theta ds_\\par\n",
       "───────────────(u_{e\\perp})⎟ + \\left(\\frac{n_e}{B}\\right)⋅⎜- ─────────────────\n",
       "ta ds_\\parallel            ⎠                              ⎝                  2\n",
       "\n",
       "                               2                      ⎞                       \n",
       "                              d                       ⎟                       \n",
       "─────(u_{e\\perp})   ─────────────────────(u_{e\\theta})⎟                       \n",
       "allel               ds_\\perp ds_\\parallel             ⎟                       \n",
       "───────────────── + ──────────────────────────────────⎟ + \\left(\\frac{n_e}{B}\\\n",
       "                                    2                 ⎠                       \n",
       "\n",
       "       ⎛           2                                    2                     \n",
       "       ⎜          d                                    d                      \n",
       "       ⎜──────────────────────(u_{e\\perp})   ─────────────────────(u_{e\\theta}\n",
       "       ⎜ds_\\theta ds_\\parallel               ds_\\perp ds_\\parallel            \n",
       "right)⋅⎜────────────────────────────────── - ─────────────────────────────────\n",
       "       ⎝                2                                    2                \n",
       "\n",
       " ⎞                                                                            \n",
       " ⎟                                                                            \n",
       ")⎟                                         2                                  \n",
       " ⎟                                        d                          ⎛        \n",
       "─⎟ - \\left(\\frac{n_e}{B}\\right)⋅─────────────────────(u_{e\\theta}) + ⎜\\left(\\f\n",
       " ⎠                              ds_\\perp ds_\\parallel                ⎝        \n",
       "\n",
       "                                                                              \n",
       "                                                                              \n",
       "                                                                              \n",
       "                                                 d                            \n",
       "rac{n_e}{B}\\right)⋅{[\\nabla_{\\perp}\\ln(B)]} - ────────(\\left(\\frac{n_e}{B}\\rig\n",
       "                                              ds_\\perp                        \n",
       "\n",
       "                                                                              \n",
       "                                                                              \n",
       "                                                                              \n",
       "    ⎞     d                       ⎛                                           \n",
       "ht))⎟⋅─────────(u_{e\\parallel}) + ⎜u_{e\\parallel}⋅{[\\nabla_{\\perp}\\ln(B)]} + ─\n",
       "    ⎠ ds_\\theta                   ⎝                                          d\n",
       "\n",
       "                                                                              \n",
       "                                                                              \n",
       "                                                                              \n",
       "    d                  ⎞     d                                   ⎛            \n",
       "───────────(u_{e\\perp})⎟⋅─────────(\\left(\\frac{n_e}{B}\\right)) + ⎜u_{e\\perp}⋅{\n",
       "s_\\parallel            ⎠ ds_\\theta                               ⎝            \n",
       "\n",
       "                                                                              \n",
       "                                                                              \n",
       "                                                                              \n",
       "                                 d                    ⎞     d                 \n",
       "[\\nabla_{\\parallel}\\ln(B)]} + ────────(u_{e\\parallel})⎟⋅─────────(\\left(\\frac{\n",
       "                              ds_\\perp                ⎠ ds_\\theta             \n",
       "\n",
       "                                                                              \n",
       "                  ⎛      d                      d                 ⎞           \n",
       "                  ⎜  ─────────(u_{e\\perp})   ────────(u_{e\\theta})⎟           \n",
       "                  ⎜  ds_\\theta               ds_\\perp             ⎟      d    \n",
       "n_e}{B}\\right)) + ⎜- ───────────────────── + ─────────────────────⎟⋅──────────\n",
       "                  ⎝            2                       2          ⎠ ds_\\parall\n",
       "\n",
       "                                                                              \n",
       "                                 ⎛    d                      d                \n",
       "                                 ⎜─────────(u_{e\\perp})   ────────(u_{e\\theta}\n",
       "                                 ⎜ds_\\theta               ds_\\perp            \n",
       "──(\\left(\\frac{n_e}{B}\\right)) + ⎜───────────────────── - ────────────────────\n",
       "el                               ⎝          2                       2         \n",
       "\n",
       "                                                                              \n",
       " ⎞                                                                            \n",
       ")⎟                                                                            \n",
       " ⎟      d                                        d                            \n",
       "─⎟⋅────────────(\\left(\\frac{n_e}{B}\\right)) - ────────(\\left(\\frac{n_e}{B}\\rig\n",
       " ⎠ ds_\\parallel                               ds_\\perp                        \n",
       "\n",
       "                              \n",
       "                              \n",
       "                              \n",
       "          d                   \n",
       "ht))⋅────────────(u_{e\\theta})\n",
       "     ds_\\parallel             "
      ]
     },
     "metadata": {},
     "output_type": "display_data"
    }
   ],
   "source": [
    "# Cell 1\n",
    "##############################################################################################################################################\n",
    "# BELOW WE COMPUTE THE DIVERGENCE OF THE GYROVISCOUS TENSOR\n",
    "# First term of Eq. 1 of the notebook\n",
    "def Pi_mag(q,u):\n",
    "    v = [0,0,q]\n",
    "    rotor = rot_vect(v)\n",
    "    Du = grad_vect(u)\n",
    "    w = vect_matr(rotor, Du)\n",
    "    return w\n",
    "# Potential of the econd term of Eq. 1 of the notebook\n",
    "def csi(q,u):\n",
    "    rotor = rot_vect(u)\n",
    "    csi = q * rotor[2]\n",
    "    return csi*Rational(1, 2)\n",
    "# Second term of Eq. 1 of the notebook\n",
    "def Pi_csi(q,u):\n",
    "    w = grad_scal( - csi(q,u))\n",
    "    return w\n",
    "# Vector a of Eq. 2 of the notebook\n",
    "def ae(q,u):\n",
    "    one_parallel = [0,0,1]\n",
    "    Du = grad_vect(u)\n",
    "    rotor = rot_vect(u)\n",
    "    v1_1 = prod_vect(one_parallel, Du[2])\n",
    "    v1_2_0 = prod_vect(one_parallel, rotor)\n",
    "    v1_2 = prod_vect(one_parallel, v1_2_0)\n",
    "    v1 = scal_vect(q,sum_vect(scal_vect(3,v1_1) , v1_2))\n",
    "    v2 = scal_vect(csi(q,u), one_parallel)\n",
    "    v = (sum_vect(v1,v2))\n",
    "    return v\n",
    "# Third term of Eq. 1 of the notebook\n",
    "def Pi_ae(q,u):\n",
    "    a = ae(q,u)\n",
    "    Da = grad_vect(a)\n",
    "    Da_parallel = Da[2]\n",
    "    negative_a_dlnB = scal_vect( - small*diff(B,x_pa)/B_sym, a)\n",
    "    w = sum_vect(Da_parallel, negative_a_dlnB)\n",
    "    return w\n",
    "# Vector b of Eq. 3 of the notebook\n",
    "def be(q,u):\n",
    "    one_parallel = [0,0,1]\n",
    "    Du = grad_vect(u)\n",
    "    Du_parallel = Du[2]\n",
    "    scalar = div_vect(u) - 3 * Du[2][2]\n",
    "    w = sum_vect(Du_parallel, scal_vect(scalar*Rational(1, 2), one_parallel))\n",
    "    return scal_vect(q,w)\n",
    "# Fourth term of Eq. 1 of the notebook\n",
    "def Pi_be(q,u):\n",
    "    b = be(q,u)\n",
    "    rotor = rot_vect(b)\n",
    "    return scal_vect(-1, rotor)\n",
    "# THIS CELL DISPLAYS THE THREE COMPONENT OF THE UNEXPANDED GYROVISCOUS TENSOR\n",
    "exp_list = [Pi_mag(q,u), Pi_csi(q,u), Pi_ae(q,u), Pi_be(q,u)]\n",
    "tit_list = ['Pi']\n",
    "\n",
    "exp_Pi= [0.0,0.0,0.0]\n",
    "\n",
    "Ge = [[0.0,0.0,0.0],\n",
    "      [0.0,0.0,0.0],\n",
    "      [0.0,0.0,0.0]]\n",
    "\n",
    "for i in range(4):\n",
    "\n",
    "    for j in range(3):\n",
    "\n",
    "        # print(exp_list[i][j].dtype)\n",
    "        # print(exp_Pi[j].dtype)\n",
    "\n",
    "        exp_Pi[j] += exp_list[i][j]\n",
    "coord_list = ['\\perp', '\\\\theta', '\\parallel']\n",
    "for i in range(3):\n",
    "    print('----------------------------------------------------')\n",
    "    display(Latex(f'$\\displaystyle\\left(-\\\\frac{{\\\\nabla\\cdot\\Pi_e}}{{m_e n_e}}\\\\right)_{{{coord_list[i]}1}}$='))\n",
    "    display_subs(exp_Pi[i].subs(small,1))"
   ]
  },
  {
   "cell_type": "markdown",
   "metadata": {},
   "source": [
    "From its expression, it is apparent that at the zeroth order $\\left(\\frac{\\nabla \\cdot \\Pi_{e}}{m_e n_e}\\right)_0 = O( \\omega_{ce} u_{\\theta e0}\\ \\epsilon^2)$, being $\\rho_e|\\nabla Q| \\sim |Q| \\epsilon$.\\\n",
    "\\\n",
    "From the expression of $(Q)_1$, we have that its gradient is $(\\nabla Q)_1 = \\frac{1}{2} \\left[(i \\mathbf k Q_1 + \\nabla Q_1) \\exp(i\\mathbf k\\cdot \\mathbf x - i \\omega t) + CC\\right]$, with with $|\\nabla \\ln Q_1|/k = O( \\epsilon)$ by assumption.\\\n",
    "Then the gyroviscous tensor contributes with terms of order $O\\left( \\omega_{ce} \\mathbf u_{e1}\\ k^2\\rho_e^2\\right)$ and $O\\left( \\omega_{ce} \\mathbf u_{e1}\\ \\epsilon\\right)$ in the momentum equation, the latter being of the same order of the inertial terms $\\frac{\\partial \\mathbf u_{e1}}{\\partial t} = -i \\omega \\mathbf u_{e1}$. Then its contribution up to our order of interest is not negligible.\\\n",
    "\\\n",
    "We define the tensor of coefficient $\\overline{\\overline{G}}_{e}$ as\n",
    "$$\n",
    "\\left( - \\frac{\\nabla \\cdot {\\Pi}_e}{m_e n_e} \\right)_{1} = i \\overline{\\overline{G}}_{e}\\mathbf u_{e1} \\ ,\n",
    "$$\n",
    "as a compact way to express the divergence of the gyroviscous tensor as a linear funcction of $\\mathbf u_{e1}$. This representation is useful when computing the momentum equations.\\\n",
    "The cell below computes and display the three components of $\\left(-\\frac{\\nabla \\cdot \\Pi_{e}}{m_e n_e}\\right)_1$ up to $O\\left( \\omega_{ce} \\mathbf u_{e1}\\ \\epsilon\\right)$. It also compuutes and displays the components of $\\overline{\\overline{G}}_{e}$."
   ]
  },
  {
   "cell_type": "code",
   "execution_count": 4,
   "metadata": {},
   "outputs": [
    {
     "name": "stdout",
     "output_type": "stream",
     "text": [
      "-----------------------------------------------------\n"
     ]
    },
    {
     "data": {
      "text/latex": [
       "$\\displaystyle\\left(-\\frac{\\nabla\\cdot\\Pi_e}{m_e n_e}\\right)_{\\perp1}$="
      ],
      "text/plain": [
       "<IPython.core.display.Latex object>"
      ]
     },
     "metadata": {},
     "output_type": "display_data"
    },
    {
     "data": {
      "image/png": "[encoded data removed]",
      "text/latex": [
       "$\\displaystyle - i [\\nabla_{\\parallel}\\ln(p_{e0})] \\omega_{ce} \\rho_{e}^{2} k_{\\theta} u_{e\\parallel1} - i [\\nabla_{\\parallel}\\ln(u_{e\\parallel1})] \\omega_{ce} \\rho_{e}^{2} k_{\\theta} u_{e\\parallel1} - \\frac{i [\\nabla_{\\perp}\\ln(p_{e0})] \\omega_{ce} \\rho_{e}^{2} k_{\\perp} u_{e\\theta1}}{2} - \\frac{i [\\nabla_{\\perp}\\ln(p_{e0})] \\omega_{ce} \\rho_{e}^{2} k_{\\theta} u_{e\\perp1}}{2} - i [\\nabla_{\\perp}\\ln(u_{e\\theta1})] \\omega_{ce} \\rho_{e}^{2} k_{\\perp} u_{e\\theta1} + \\omega_{ce} \\rho_{e}^{2} k_{\\parallel} k_{\\theta} u_{e\\parallel1} + \\frac{\\omega_{ce} \\rho_{e}^{2} k_{\\perp}^{2} u_{e\\theta1}}{2} + i \\omega_{ce} \\rho_{e}^{2} k_{\\perp} u_{e\\theta1} {[\\nabla_{\\perp}\\ln(B)]} + \\frac{\\omega_{ce} \\rho_{e}^{2} k_{\\theta}^{2} u_{e\\theta1}}{2} + \\frac{5 i \\omega_{ce} \\rho_{e}^{2} k_{\\theta} u_{e\\parallel1} {[\\nabla_{\\parallel}\\ln(B)]}}{2} + i \\omega_{ce} \\rho_{e}^{2} k_{\\theta} u_{e\\perp1} {[\\nabla_{\\perp}\\ln(B)]}$"
      ],
      "text/plain": [
       "                                                                              \n",
       "                                                     2                        \n",
       "- ⅈ⋅[\\nabla_{\\parallel}\\ln(p_{e0})]⋅\\omega_{ce}⋅\\rhoₑ ⋅k_\\theta⋅u_{e\\parallel1\n",
       "                                                                              \n",
       "\n",
       "                                                                              \n",
       "                                                                2             \n",
       "} - ⅈ⋅[\\nabla_{\\parallel}\\ln(u_{e\\parallel1})]⋅\\omega_{ce}⋅\\rhoₑ ⋅k_\\theta⋅u_{\n",
       "                                                                              \n",
       "\n",
       "                                                              2               \n",
       "               ⅈ⋅[\\nabla_{\\perp}\\ln(p_{e0})]⋅\\omega_{ce}⋅\\rhoₑ ⋅k_\\perp⋅u_{e\\t\n",
       "e\\parallel1} - ───────────────────────────────────────────────────────────────\n",
       "                                                 2                            \n",
       "\n",
       "                                                        2                     \n",
       "heta1}   ⅈ⋅[\\nabla_{\\perp}\\ln(p_{e0})]⋅\\omega_{ce}⋅\\rhoₑ ⋅k_\\theta⋅u_{e\\perp1}\n",
       "────── - ─────────────────────────────────────────────────────────────────────\n",
       "                                           2                                  \n",
       "\n",
       "                                                                              \n",
       "                                                        2                     \n",
       " - ⅈ⋅[\\nabla_{\\perp}\\ln(u_{e\\theta1})]⋅\\omega_{ce}⋅\\rhoₑ ⋅k_\\perp⋅u_{e\\theta1}\n",
       "                                                                              \n",
       "\n",
       "                                                                              \n",
       "                    2                                        \\omega_{ce}⋅\\rhoₑ\n",
       " + \\omega_{ce}⋅\\rhoₑ ⋅k_\\parallel⋅k_\\theta⋅u_{e\\parallel1} + ─────────────────\n",
       "                                                                              \n",
       "\n",
       "2        2                                                                    \n",
       " ⋅k_\\perp ⋅u_{e\\theta1}                      2                                \n",
       "─────────────────────── + ⅈ⋅\\omega_{ce}⋅\\rhoₑ ⋅k_\\perp⋅u_{e\\theta1}⋅{[\\nabla_{\n",
       "  2                                                                           \n",
       "\n",
       "                                  2         2                                 \n",
       "                 \\omega_{ce}⋅\\rhoₑ ⋅k_\\theta ⋅u_{e\\theta1}   5⋅ⅈ⋅\\omega_{ce}⋅\\\n",
       "\\perp}\\ln(B)]} + ───────────────────────────────────────── + ─────────────────\n",
       "                                     2                                        \n",
       "\n",
       "    2                                                                         \n",
       "rhoₑ ⋅k_\\theta⋅u_{e\\parallel1}⋅{[\\nabla_{\\parallel}\\ln(B)]}                   \n",
       "─────────────────────────────────────────────────────────── + ⅈ⋅\\omega_{ce}⋅\\r\n",
       "                    2                                                         \n",
       "\n",
       "                                                  \n",
       "   2                                              \n",
       "hoₑ ⋅k_\\theta⋅u_{e\\perp1}⋅{[\\nabla_{\\perp}\\ln(B)]}\n",
       "                                                  "
      ]
     },
     "metadata": {},
     "output_type": "display_data"
    },
    {
     "data": {
      "text/latex": [
       "(Eq. B.2)"
      ],
      "text/plain": [
       "<IPython.core.display.Latex object>"
      ]
     },
     "metadata": {},
     "output_type": "display_data"
    },
    {
     "name": "stdout",
     "output_type": "stream",
     "text": [
      "--------------------\n"
     ]
    },
    {
     "data": {
      "text/latex": [
       "$\\left[\\overline{\\overline{G}}_e\\right]_{\\perp\\perp}$="
      ],
      "text/plain": [
       "<IPython.core.display.Latex object>"
      ]
     },
     "metadata": {},
     "output_type": "display_data"
    },
    {
     "data": {
      "image/png": "[encoded data removed]",
      "text/latex": [
       "$\\displaystyle - \\frac{i [\\nabla_{\\perp}\\ln(p_{e0})] \\omega_{ce} \\rho_{e}^{2} k_{\\theta}}{2} + i \\omega_{ce} \\rho_{e}^{2} k_{\\theta} {[\\nabla_{\\perp}\\ln(B)]}$"
      ],
      "text/plain": [
       "                                                 2                            \n",
       "  ⅈ⋅[\\nabla_{\\perp}\\ln(p_{e0})]⋅\\omega_{ce}⋅\\rhoₑ ⋅k_\\theta                   \n",
       "- ───────────────────────────────────────────────────────── + ⅈ⋅\\omega_{ce}⋅\\r\n",
       "                              2                                               \n",
       "\n",
       "                                      \n",
       "   2                                  \n",
       "hoₑ ⋅k_\\theta⋅{[\\nabla_{\\perp}\\ln(B)]}\n",
       "                                      "
      ]
     },
     "metadata": {},
     "output_type": "display_data"
    },
    {
     "name": "stdout",
     "output_type": "stream",
     "text": [
      "--------------------\n"
     ]
    },
    {
     "data": {
      "text/latex": [
       "$\\left[\\overline{\\overline{G}}_e\\right]_{\\perp\\theta}$="
      ],
      "text/plain": [
       "<IPython.core.display.Latex object>"
      ]
     },
     "metadata": {},
     "output_type": "display_data"
    },
    {
     "data": {
      "image/png": "[encoded data removed]",
      "text/latex": [
       "$\\displaystyle - \\frac{i [\\nabla_{\\perp}\\ln(p_{e0})] \\omega_{ce} \\rho_{e}^{2} k_{\\perp}}{2} - i [\\nabla_{\\perp}\\ln(u_{e\\theta1})] \\omega_{ce} \\rho_{e}^{2} k_{\\perp} + \\frac{\\omega_{ce} \\rho_{e}^{2} k_{\\perp}^{2}}{2} + i \\omega_{ce} \\rho_{e}^{2} k_{\\perp} {[\\nabla_{\\perp}\\ln(B)]} + \\frac{\\omega_{ce} \\rho_{e}^{2} k_{\\theta}^{2}}{2}$"
      ],
      "text/plain": [
       "                                                 2                            \n",
       "  ⅈ⋅[\\nabla_{\\perp}\\ln(p_{e0})]⋅\\omega_{ce}⋅\\rhoₑ ⋅k_\\perp                    \n",
       "- ──────────────────────────────────────────────────────── - ⅈ⋅[\\nabla_{\\perp}\n",
       "                             2                                                \n",
       "\n",
       "                                                                 2        2   \n",
       "                                    2           \\omega_{ce}⋅\\rhoₑ ⋅k_\\perp    \n",
       "\\ln(u_{e\\theta1})]⋅\\omega_{ce}⋅\\rhoₑ ⋅k_\\perp + ─────────────────────────── + \n",
       "                                                             2                \n",
       "\n",
       "                                                                         2    \n",
       "                   2                                    \\omega_{ce}⋅\\rhoₑ ⋅k_\\\n",
       "ⅈ⋅\\omega_{ce}⋅\\rhoₑ ⋅k_\\perp⋅{[\\nabla_{\\perp}\\ln(B)]} + ──────────────────────\n",
       "                                                                     2        \n",
       "\n",
       "     2\n",
       "theta \n",
       "──────\n",
       "      "
      ]
     },
     "metadata": {},
     "output_type": "display_data"
    },
    {
     "name": "stdout",
     "output_type": "stream",
     "text": [
      "--------------------\n"
     ]
    },
    {
     "data": {
      "text/latex": [
       "$\\left[\\overline{\\overline{G}}_e\\right]_{\\perp\\parallel}$="
      ],
      "text/plain": [
       "<IPython.core.display.Latex object>"
      ]
     },
     "metadata": {},
     "output_type": "display_data"
    },
    {
     "data": {
      "image/png": "[encoded data removed]",
      "text/latex": [
       "$\\displaystyle - i [\\nabla_{\\parallel}\\ln(p_{e0})] \\omega_{ce} \\rho_{e}^{2} k_{\\theta} - i [\\nabla_{\\parallel}\\ln(u_{e\\parallel1})] \\omega_{ce} \\rho_{e}^{2} k_{\\theta} + \\omega_{ce} \\rho_{e}^{2} k_{\\parallel} k_{\\theta} + \\frac{5 i \\omega_{ce} \\rho_{e}^{2} k_{\\theta} {[\\nabla_{\\parallel}\\ln(B)]}}{2}$"
      ],
      "text/plain": [
       "                                                                              \n",
       "                                                     2                        \n",
       "- ⅈ⋅[\\nabla_{\\parallel}\\ln(p_{e0})]⋅\\omega_{ce}⋅\\rhoₑ ⋅k_\\theta - ⅈ⋅[\\nabla_{\\\n",
       "                                                                              \n",
       "\n",
       "                                                                              \n",
       "                                                2                             \n",
       "parallel}\\ln(u_{e\\parallel1})]⋅\\omega_{ce}⋅\\rhoₑ ⋅k_\\theta + \\omega_{ce}⋅\\rhoₑ\n",
       "                                                                              \n",
       "\n",
       "                                              2                               \n",
       "2                        5⋅ⅈ⋅\\omega_{ce}⋅\\rhoₑ ⋅k_\\theta⋅{[\\nabla_{\\parallel}\\\n",
       " ⋅k_\\parallel⋅k_\\theta + ─────────────────────────────────────────────────────\n",
       "                                                      2                       \n",
       "\n",
       "       \n",
       "ln(B)]}\n",
       "───────\n",
       "       "
      ]
     },
     "metadata": {},
     "output_type": "display_data"
    },
    {
     "name": "stdout",
     "output_type": "stream",
     "text": [
      "-----------------------------------------------------\n"
     ]
    },
    {
     "data": {
      "text/latex": [
       "$\\displaystyle\\left(-\\frac{\\nabla\\cdot\\Pi_e}{m_e n_e}\\right)_{\\theta1}$="
      ],
      "text/plain": [
       "<IPython.core.display.Latex object>"
      ]
     },
     "metadata": {},
     "output_type": "display_data"
    },
    {
     "data": {
      "image/png": "[encoded data removed]",
      "text/latex": [
       "$\\displaystyle i [\\nabla_{\\parallel}\\ln(p_{e0})] \\omega_{ce} \\rho_{e}^{2} k_{\\perp} u_{e\\parallel1} + i [\\nabla_{\\parallel}\\ln(u_{e\\parallel1})] \\omega_{ce} \\rho_{e}^{2} k_{\\perp} u_{e\\parallel1} + \\frac{i [\\nabla_{\\perp}\\ln(p_{e0})] \\omega_{ce} \\rho_{e}^{2} k_{\\perp} u_{e\\perp1}}{2} - \\frac{i [\\nabla_{\\perp}\\ln(p_{e0})] \\omega_{ce} \\rho_{e}^{2} k_{\\theta} u_{e\\theta1}}{2} + i [\\nabla_{\\perp}\\ln(u_{e\\perp1})] \\omega_{ce} \\rho_{e}^{2} k_{\\perp} u_{e\\perp1} - \\omega_{ce} \\rho_{e}^{2} k_{\\parallel} k_{\\perp} u_{e\\parallel1} - \\frac{\\omega_{ce} \\rho_{e}^{2} k_{\\perp}^{2} u_{e\\perp1}}{2} - \\frac{5 i \\omega_{ce} \\rho_{e}^{2} k_{\\perp} u_{e\\parallel1} {[\\nabla_{\\parallel}\\ln(B)]}}{2} - i \\omega_{ce} \\rho_{e}^{2} k_{\\perp} u_{e\\perp1} {[\\nabla_{\\perp}\\ln(B)]} - \\frac{\\omega_{ce} \\rho_{e}^{2} k_{\\theta}^{2} u_{e\\perp1}}{2} + i \\omega_{ce} \\rho_{e}^{2} k_{\\theta} u_{e\\theta1} {[\\nabla_{\\perp}\\ln(B)]}$"
      ],
      "text/plain": [
       "                                                                              \n",
       "                                                   2                          \n",
       "ⅈ⋅[\\nabla_{\\parallel}\\ln(p_{e0})]⋅\\omega_{ce}⋅\\rhoₑ ⋅k_\\perp⋅u_{e\\parallel1} +\n",
       "                                                                              \n",
       "\n",
       "                                                                              \n",
       "                                                             2                \n",
       " ⅈ⋅[\\nabla_{\\parallel}\\ln(u_{e\\parallel1})]⋅\\omega_{ce}⋅\\rhoₑ ⋅k_\\perp⋅u_{e\\pa\n",
       "                                                                              \n",
       "\n",
       "                                                          2                   \n",
       "           ⅈ⋅[\\nabla_{\\perp}\\ln(p_{e0})]⋅\\omega_{ce}⋅\\rhoₑ ⋅k_\\perp⋅u_{e\\perp1\n",
       "rallel1} + ───────────────────────────────────────────────────────────────────\n",
       "                                            2                                 \n",
       "\n",
       "                                                   2                          \n",
       "}   ⅈ⋅[\\nabla_{\\perp}\\ln(p_{e0})]⋅\\omega_{ce}⋅\\rhoₑ ⋅k_\\theta⋅u_{e\\theta1}    \n",
       "─ - ────────────────────────────────────────────────────────────────────── + ⅈ\n",
       "                                      2                                       \n",
       "\n",
       "                                                                              \n",
       "                                                   2                          \n",
       "⋅[\\nabla_{\\perp}\\ln(u_{e\\perp1})]⋅\\omega_{ce}⋅\\rhoₑ ⋅k_\\perp⋅u_{e\\perp1} - \\om\n",
       "                                                                              \n",
       "\n",
       "                                                                       2      \n",
       "              2                                       \\omega_{ce}⋅\\rhoₑ ⋅k_\\pe\n",
       "ega_{ce}⋅\\rhoₑ ⋅k_\\parallel⋅k_\\perp⋅u_{e\\parallel1} - ────────────────────────\n",
       "                                                                         2    \n",
       "\n",
       "  2                                    2                                      \n",
       "rp ⋅u_{e\\perp1}   5⋅ⅈ⋅\\omega_{ce}⋅\\rhoₑ ⋅k_\\perp⋅u_{e\\parallel1}⋅{[\\nabla_{\\pa\n",
       "─────────────── - ────────────────────────────────────────────────────────────\n",
       "                                                       2                      \n",
       "\n",
       "                                                                              \n",
       "rallel}\\ln(B)]}                      2                                        \n",
       "─────────────── - ⅈ⋅\\omega_{ce}⋅\\rhoₑ ⋅k_\\perp⋅u_{e\\perp1}⋅{[\\nabla_{\\perp}\\ln\n",
       "                                                                              \n",
       "\n",
       "                         2         2                                          \n",
       "        \\omega_{ce}⋅\\rhoₑ ⋅k_\\theta ⋅u_{e\\perp1}                      2       \n",
       "(B)]} - ──────────────────────────────────────── + ⅈ⋅\\omega_{ce}⋅\\rhoₑ ⋅k_\\the\n",
       "                           2                                                  \n",
       "\n",
       "                                        \n",
       "                                        \n",
       "ta⋅u_{e\\theta1}⋅{[\\nabla_{\\perp}\\ln(B)]}\n",
       "                                        "
      ]
     },
     "metadata": {},
     "output_type": "display_data"
    },
    {
     "data": {
      "text/latex": [
       "(Eq. B.3)"
      ],
      "text/plain": [
       "<IPython.core.display.Latex object>"
      ]
     },
     "metadata": {},
     "output_type": "display_data"
    },
    {
     "name": "stdout",
     "output_type": "stream",
     "text": [
      "--------------------\n"
     ]
    },
    {
     "data": {
      "text/latex": [
       "$\\left[\\overline{\\overline{G}}_e\\right]_{\\theta\\perp}$="
      ],
      "text/plain": [
       "<IPython.core.display.Latex object>"
      ]
     },
     "metadata": {},
     "output_type": "display_data"
    },
    {
     "data": {
      "image/png": "[encoded data removed]",
      "text/latex": [
       "$\\displaystyle \\frac{i [\\nabla_{\\perp}\\ln(p_{e0})] \\omega_{ce} \\rho_{e}^{2} k_{\\perp}}{2} + i [\\nabla_{\\perp}\\ln(u_{e\\perp1})] \\omega_{ce} \\rho_{e}^{2} k_{\\perp} - \\frac{\\omega_{ce} \\rho_{e}^{2} k_{\\perp}^{2}}{2} - i \\omega_{ce} \\rho_{e}^{2} k_{\\perp} {[\\nabla_{\\perp}\\ln(B)]} - \\frac{\\omega_{ce} \\rho_{e}^{2} k_{\\theta}^{2}}{2}$"
      ],
      "text/plain": [
       "                                               2                              \n",
       "ⅈ⋅[\\nabla_{\\perp}\\ln(p_{e0})]⋅\\omega_{ce}⋅\\rhoₑ ⋅k_\\perp                      \n",
       "──────────────────────────────────────────────────────── + ⅈ⋅[\\nabla_{\\perp}\\l\n",
       "                           2                                                  \n",
       "\n",
       "                                                              2        2      \n",
       "                                 2           \\omega_{ce}⋅\\rhoₑ ⋅k_\\perp       \n",
       "n(u_{e\\perp1})]⋅\\omega_{ce}⋅\\rhoₑ ⋅k_\\perp - ─────────────────────────── - ⅈ⋅\\\n",
       "                                                          2                   \n",
       "\n",
       "                                                                      2       \n",
       "                2                                    \\omega_{ce}⋅\\rhoₑ ⋅k_\\the\n",
       "omega_{ce}⋅\\rhoₑ ⋅k_\\perp⋅{[\\nabla_{\\perp}\\ln(B)]} - ─────────────────────────\n",
       "                                                                  2           \n",
       "\n",
       "  2\n",
       "ta \n",
       "───\n",
       "   "
      ]
     },
     "metadata": {},
     "output_type": "display_data"
    },
    {
     "name": "stdout",
     "output_type": "stream",
     "text": [
      "--------------------\n"
     ]
    },
    {
     "data": {
      "text/latex": [
       "$\\left[\\overline{\\overline{G}}_e\\right]_{\\theta\\theta}$="
      ],
      "text/plain": [
       "<IPython.core.display.Latex object>"
      ]
     },
     "metadata": {},
     "output_type": "display_data"
    },
    {
     "data": {
      "image/png": "[encoded data removed]",
      "text/latex": [
       "$\\displaystyle - \\frac{i [\\nabla_{\\perp}\\ln(p_{e0})] \\omega_{ce} \\rho_{e}^{2} k_{\\theta}}{2} + i \\omega_{ce} \\rho_{e}^{2} k_{\\theta} {[\\nabla_{\\perp}\\ln(B)]}$"
      ],
      "text/plain": [
       "                                                 2                            \n",
       "  ⅈ⋅[\\nabla_{\\perp}\\ln(p_{e0})]⋅\\omega_{ce}⋅\\rhoₑ ⋅k_\\theta                   \n",
       "- ───────────────────────────────────────────────────────── + ⅈ⋅\\omega_{ce}⋅\\r\n",
       "                              2                                               \n",
       "\n",
       "                                      \n",
       "   2                                  \n",
       "hoₑ ⋅k_\\theta⋅{[\\nabla_{\\perp}\\ln(B)]}\n",
       "                                      "
      ]
     },
     "metadata": {},
     "output_type": "display_data"
    },
    {
     "name": "stdout",
     "output_type": "stream",
     "text": [
      "--------------------\n"
     ]
    },
    {
     "data": {
      "text/latex": [
       "$\\left[\\overline{\\overline{G}}_e\\right]_{\\theta\\parallel}$="
      ],
      "text/plain": [
       "<IPython.core.display.Latex object>"
      ]
     },
     "metadata": {},
     "output_type": "display_data"
    },
    {
     "data": {
      "image/png": "[encoded data removed]",
      "text/latex": [
       "$\\displaystyle i [\\nabla_{\\parallel}\\ln(p_{e0})] \\omega_{ce} \\rho_{e}^{2} k_{\\perp} + i [\\nabla_{\\parallel}\\ln(u_{e\\parallel1})] \\omega_{ce} \\rho_{e}^{2} k_{\\perp} - \\omega_{ce} \\rho_{e}^{2} k_{\\parallel} k_{\\perp} - \\frac{5 i \\omega_{ce} \\rho_{e}^{2} k_{\\perp} {[\\nabla_{\\parallel}\\ln(B)]}}{2}$"
      ],
      "text/plain": [
       "                                                                              \n",
       "                                                   2                          \n",
       "ⅈ⋅[\\nabla_{\\parallel}\\ln(p_{e0})]⋅\\omega_{ce}⋅\\rhoₑ ⋅k_\\perp + ⅈ⋅[\\nabla_{\\par\n",
       "                                                                              \n",
       "\n",
       "                                                                              \n",
       "                                             2                            2   \n",
       "allel}\\ln(u_{e\\parallel1})]⋅\\omega_{ce}⋅\\rhoₑ ⋅k_\\perp - \\omega_{ce}⋅\\rhoₑ ⋅k_\n",
       "                                                                              \n",
       "\n",
       "                                         2                                    \n",
       "                    5⋅ⅈ⋅\\omega_{ce}⋅\\rhoₑ ⋅k_\\perp⋅{[\\nabla_{\\parallel}\\ln(B)]\n",
       "\\parallel⋅k_\\perp - ──────────────────────────────────────────────────────────\n",
       "                                                 2                            \n",
       "\n",
       " \n",
       "}\n",
       "─\n",
       " "
      ]
     },
     "metadata": {},
     "output_type": "display_data"
    },
    {
     "name": "stdout",
     "output_type": "stream",
     "text": [
      "-----------------------------------------------------\n"
     ]
    },
    {
     "data": {
      "text/latex": [
       "$\\displaystyle\\left(-\\frac{\\nabla\\cdot\\Pi_e}{m_e n_e}\\right)_{\\parallel1}$="
      ],
      "text/plain": [
       "<IPython.core.display.Latex object>"
      ]
     },
     "metadata": {},
     "output_type": "display_data"
    },
    {
     "data": {
      "image/png": "[encoded data removed]",
      "text/latex": [
       "$\\displaystyle i [\\nabla_{\\parallel}\\ln(u_{e\\perp1})] \\omega_{ce} \\rho_{e}^{2} k_{\\theta} u_{e\\perp1} - i [\\nabla_{\\parallel}\\ln(u_{e\\theta1})] \\omega_{ce} \\rho_{e}^{2} k_{\\perp} u_{e\\theta1} - i [\\nabla_{\\perp}\\ln(p_{e0})] \\omega_{ce} \\rho_{e}^{2} k_{\\theta} u_{e\\parallel1} + \\omega_{ce} \\rho_{e}^{2} k_{\\parallel} k_{\\perp} u_{e\\theta1} - \\omega_{ce} \\rho_{e}^{2} k_{\\parallel} k_{\\theta} u_{e\\perp1} - \\frac{i \\omega_{ce} \\rho_{e}^{2} k_{\\perp} u_{e\\theta1} {[\\nabla_{\\parallel}\\ln(B)]}}{2} + 4 i \\omega_{ce} \\rho_{e}^{2} k_{\\theta} u_{e\\parallel1} {[\\nabla_{\\perp}\\ln(B)]} + \\frac{i \\omega_{ce} \\rho_{e}^{2} k_{\\theta} u_{e\\perp1} {[\\nabla_{\\parallel}\\ln(B)]}}{2}$"
      ],
      "text/plain": [
       "                                                                              \n",
       "                                                        2                     \n",
       "ⅈ⋅[\\nabla_{\\parallel}\\ln(u_{e\\perp1})]⋅\\omega_{ce}⋅\\rhoₑ ⋅k_\\theta⋅u_{e\\perp1}\n",
       "                                                                              \n",
       "\n",
       "                                                                              \n",
       "                                                            2                 \n",
       " - ⅈ⋅[\\nabla_{\\parallel}\\ln(u_{e\\theta1})]⋅\\omega_{ce}⋅\\rhoₑ ⋅k_\\perp⋅u_{e\\the\n",
       "                                                                              \n",
       "\n",
       "                                                                              \n",
       "                                                      2                       \n",
       "ta1} - ⅈ⋅[\\nabla_{\\perp}\\ln(p_{e0})]⋅\\omega_{ce}⋅\\rhoₑ ⋅k_\\theta⋅u_{e\\parallel\n",
       "                                                                              \n",
       "\n",
       "                                                                              \n",
       "                      2                                                     2 \n",
       "1} + \\omega_{ce}⋅\\rhoₑ ⋅k_\\parallel⋅k_\\perp⋅u_{e\\theta1} - \\omega_{ce}⋅\\rhoₑ ⋅\n",
       "                                                                              \n",
       "\n",
       "                                                      2                       \n",
       "                                   ⅈ⋅\\omega_{ce}⋅\\rhoₑ ⋅k_\\perp⋅u_{e\\theta1}⋅{\n",
       "k_\\parallel⋅k_\\theta⋅u_{e\\perp1} - ───────────────────────────────────────────\n",
       "                                                                     2        \n",
       "\n",
       "                                                                              \n",
       "[\\nabla_{\\parallel}\\ln(B)]}                        2                          \n",
       "─────────────────────────── + 4⋅ⅈ⋅\\omega_{ce}⋅\\rhoₑ ⋅k_\\theta⋅u_{e\\parallel1}⋅\n",
       "                                                                              \n",
       "\n",
       "                                              2                               \n",
       "                           ⅈ⋅\\omega_{ce}⋅\\rhoₑ ⋅k_\\theta⋅u_{e\\perp1}⋅{[\\nabla_\n",
       "{[\\nabla_{\\perp}\\ln(B)]} + ───────────────────────────────────────────────────\n",
       "                                                             2                \n",
       "\n",
       "                   \n",
       "{\\parallel}\\ln(B)]}\n",
       "───────────────────\n",
       "                   "
      ]
     },
     "metadata": {},
     "output_type": "display_data"
    },
    {
     "data": {
      "text/latex": [
       "(Eq. B.4)"
      ],
      "text/plain": [
       "<IPython.core.display.Latex object>"
      ]
     },
     "metadata": {},
     "output_type": "display_data"
    },
    {
     "name": "stdout",
     "output_type": "stream",
     "text": [
      "--------------------\n"
     ]
    },
    {
     "data": {
      "text/latex": [
       "$\\left[\\overline{\\overline{G}}_e\\right]_{\\parallel\\perp}$="
      ],
      "text/plain": [
       "<IPython.core.display.Latex object>"
      ]
     },
     "metadata": {},
     "output_type": "display_data"
    },
    {
     "data": {
      "image/png": "[encoded data removed]",
      "text/latex": [
       "$\\displaystyle i [\\nabla_{\\parallel}\\ln(u_{e\\perp1})] \\omega_{ce} \\rho_{e}^{2} k_{\\theta} - \\omega_{ce} \\rho_{e}^{2} k_{\\parallel} k_{\\theta} + \\frac{i \\omega_{ce} \\rho_{e}^{2} k_{\\theta} {[\\nabla_{\\parallel}\\ln(B)]}}{2}$"
      ],
      "text/plain": [
       "                                                                              \n",
       "                                                        2                     \n",
       "ⅈ⋅[\\nabla_{\\parallel}\\ln(u_{e\\perp1})]⋅\\omega_{ce}⋅\\rhoₑ ⋅k_\\theta - \\omega_{c\n",
       "                                                                              \n",
       "\n",
       "                                                    2                         \n",
       "        2                        ⅈ⋅\\omega_{ce}⋅\\rhoₑ ⋅k_\\theta⋅{[\\nabla_{\\para\n",
       "e}⋅\\rhoₑ ⋅k_\\parallel⋅k_\\theta + ─────────────────────────────────────────────\n",
       "                                                             2                \n",
       "\n",
       "             \n",
       "llel}\\ln(B)]}\n",
       "─────────────\n",
       "             "
      ]
     },
     "metadata": {},
     "output_type": "display_data"
    },
    {
     "name": "stdout",
     "output_type": "stream",
     "text": [
      "--------------------\n"
     ]
    },
    {
     "data": {
      "text/latex": [
       "$\\left[\\overline{\\overline{G}}_e\\right]_{\\parallel\\theta}$="
      ],
      "text/plain": [
       "<IPython.core.display.Latex object>"
      ]
     },
     "metadata": {},
     "output_type": "display_data"
    },
    {
     "data": {
      "image/png": "[encoded data removed]",
      "text/latex": [
       "$\\displaystyle - i [\\nabla_{\\parallel}\\ln(u_{e\\theta1})] \\omega_{ce} \\rho_{e}^{2} k_{\\perp} + \\omega_{ce} \\rho_{e}^{2} k_{\\parallel} k_{\\perp} - \\frac{i \\omega_{ce} \\rho_{e}^{2} k_{\\perp} {[\\nabla_{\\parallel}\\ln(B)]}}{2}$"
      ],
      "text/plain": [
       "                                                                              \n",
       "                                                           2                  \n",
       "- ⅈ⋅[\\nabla_{\\parallel}\\ln(u_{e\\theta1})]⋅\\omega_{ce}⋅\\rhoₑ ⋅k_\\perp + \\omega_\n",
       "                                                                              \n",
       "\n",
       "                                                     2                        \n",
       "          2                       ⅈ⋅\\omega_{ce}⋅\\rhoₑ ⋅k_\\perp⋅{[\\nabla_{\\para\n",
       "{ce}⋅\\rhoₑ ⋅k_\\parallel⋅k_\\perp - ────────────────────────────────────────────\n",
       "                                                              2               \n",
       "\n",
       "             \n",
       "llel}\\ln(B)]}\n",
       "─────────────\n",
       "             "
      ]
     },
     "metadata": {},
     "output_type": "display_data"
    },
    {
     "name": "stdout",
     "output_type": "stream",
     "text": [
      "--------------------\n"
     ]
    },
    {
     "data": {
      "text/latex": [
       "$\\left[\\overline{\\overline{G}}_e\\right]_{\\parallel\\parallel}$="
      ],
      "text/plain": [
       "<IPython.core.display.Latex object>"
      ]
     },
     "metadata": {},
     "output_type": "display_data"
    },
    {
     "data": {
      "image/png": "[encoded data removed]",
      "text/latex": [
       "$\\displaystyle - i [\\nabla_{\\perp}\\ln(p_{e0})] \\omega_{ce} \\rho_{e}^{2} k_{\\theta} + 4 i \\omega_{ce} \\rho_{e}^{2} k_{\\theta} {[\\nabla_{\\perp}\\ln(B)]}$"
      ],
      "text/plain": [
       "                                                 2                            \n",
       "- ⅈ⋅[\\nabla_{\\perp}\\ln(p_{e0})]⋅\\omega_{ce}⋅\\rhoₑ ⋅k_\\theta + 4⋅ⅈ⋅\\omega_{ce}⋅\n",
       "\n",
       "     2                                  \n",
       "\\rhoₑ ⋅k_\\theta⋅{[\\nabla_{\\perp}\\ln(B)]}"
      ]
     },
     "metadata": {},
     "output_type": "display_data"
    }
   ],
   "source": [
    "# Cell 2\n",
    "# THIS CELL COMPUTES THE DIVERGENCE OF THE FIRST ORDER GYROV. TENS.\n",
    "exp_list = [Pi_mag(q0,ue1), Pi_csi(q0,ue1), Pi_ae(q0,ue1), Pi_be(q0,ue1)]\n",
    "tit_list = ['Pi']\n",
    "eq_list = ['(Eq. B.2)', '(Eq. B.3)', '(Eq. B.4)']\n",
    "exp_Pi= [0.0,0.0,0.0]\n",
    "Ge = [[0.0,0.0,0.0],\n",
    "      [0.0,0.0,0.0],\n",
    "      [0.0,0.0,0.0]]\n",
    "for i in range(4):\n",
    "    for j in range(3):\n",
    "        exp_Pi[j] += exp_list[i][j]\n",
    "for j in [0,1,2]:\n",
    "    x_j = [x_pe, x_th, x_pa][j]\n",
    "    print('-----------------------------------------------------')\n",
    "    display(Latex(f'$\\displaystyle\\left(-\\\\frac{{\\\\nabla\\cdot\\Pi_e}}{{m_e n_e}}\\\\right)_{{{coord_list[j]}1}}$='))\n",
    "    polynom = Poly(exp_Pi[j]/shape, small)\n",
    "    expr = polynom.coeffs()\n",
    "    order = len(expr)-1\n",
    "    if order < 2:\n",
    "        expr = small*expr[order]\n",
    "    else:\n",
    "        expr = small*expr[1] + expr[2]\n",
    "    expr = expr.subs(x_pe,0).subs(x_pa,0).subs(n_0,1)\n",
    "    display_subs(nsimplify(expr).subs(small,1))\n",
    "    display(Latex(f'{eq_list[j]}'))\n",
    "    print('--------------------')\n",
    "    # display(Latex(f'$\\partial\\left(-\\\\frac{{\\\\nabla\\cdot\\Pi_e}}{{m_e n_e}}\\\\right)_{{{coord_list[j]}1}}/\\partial u_{{\\perp e1}}$='))\n",
    "    display(Latex(f'$\\left[\\overline{{\\overline{{G}}}}_e\\\\right]_{{{coord_list[j]}\\perp}}$='))\n",
    "    expr1 =  expr.subs(u_pe1_sym, 1).subs(u_th1_sym, 0).subs(u_pa1_sym, 0)\n",
    "    Ge[j][0] = expr1\n",
    "    display_subs(nsimplify(Ge[j][0]).subs(small,1))\n",
    "    print('--------------------')\n",
    "    # display(Latex(f'$\\partial\\left(-\\\\frac{{\\\\nabla\\cdot\\Pi_e}}{{m_e n_e}}\\\\right)_{{{coord_list[j]}1}}/\\partial u_{{\\\\theta e1}}$='))\n",
    "    display(Latex(f'$\\left[\\overline{{\\overline{{G}}}}_e\\\\right]_{{{coord_list[j]}\\\\theta}}$='))\n",
    "    expr1 =  expr.subs(u_pe1_sym, 0).subs(u_th1_sym, 1).subs(u_pa1_sym, 0)\n",
    "    Ge[j][1] = expr1\n",
    "    display_subs(nsimplify(Ge[j][1]).subs(small,1))\n",
    "    print('--------------------')\n",
    "    # display(Latex(f'$\\partial\\left(-\\\\frac{{\\\\nabla\\cdot\\Pi_e}}{{m_e n_e}}\\\\right)_{{{coord_list[j]}1}}/\\partial u_{{\\parallel e1}}$='))\n",
    "    display(Latex(f'$\\left[\\overline{{\\overline{{G}}}}_e\\\\right]_{{{coord_list[j]}\\parallel}}$='))\n",
    "    expr1 =  expr.subs(u_pe1_sym, 0).subs(u_th1_sym, 0).subs(u_pa1_sym, 1)\n",
    "    Ge[j][2] = expr1\n",
    "    display_subs(nsimplify(Ge[j][2]).subs(small,1))"
   ]
  },
  {
   "cell_type": "markdown",
   "metadata": {},
   "source": [
    "From here, we can input these results in the electron momentum equation."
   ]
  },
  {
   "cell_type": "markdown",
   "metadata": {},
   "source": [
    "## Section II: Derivation of the electron equations\n",
    "\n",
    "Warm, magnetized electrons are described by their continuity and momentum equations, which read:\n",
    "$$\n",
    "    \\frac{\\partial n_e}{\\partial t} + \\nabla \\cdot \\left( n_e \\mathbf{u}_e \\right) =\n",
    "    \\nu_p n_e,\n",
    "$$\n",
    "$$\n",
    "    \\frac{\\partial \\mathbf{u}_e}{\\partial t} + \\mathbf{u}_e \\cdot \\nabla \\mathbf{u}_e =\n",
    "    - \\frac{\\nabla \\cdot \\overline{\\overline{p}}_e}{m_e n_e} - \\frac{e}{m_e} \\left( -\\nabla \\phi + \\mathbf{u}_e \\times \\mathbf{B} \\right) - \\nu_{e} \\mathbf{u}_e ,\n",
    "$$\n",
    "represents the particle production rate, $\\phi$ the electrostatic potential,   $\\nu_{e}$ is used to model dissipative forces on the electrons coming from collisional phenomena, and $\\overline{\\overline{p}}_e$ \n",
    "the complete electron pressure tensor including the gyroviscous contribution. The system has to be completed with the energy equation, which we are not going to consider in the perturbation problem since we are neglecting temperature perturbations, i.e., $T_{e1} = 0$.  This assumption is reasonable for low frequency oscillations [Ref.5 \\cite{bell21a}].\\\n",
    "The cell below computes and displays the continuity and momentum equations for electrons, yielding the same expressions shown in Eqs. C.3-6 of the manuscript."
   ]
  },
  {
   "cell_type": "code",
   "execution_count": null,
   "metadata": {},
   "outputs": [
    {
     "name": "stdout",
     "output_type": "stream",
     "text": [
      "Continuity equation:\n"
     ]
    },
    {
     "name": "stderr",
     "output_type": "stream",
     "text": [
      "c:\\Users\\Utente\\anaconda3\\lib\\site-packages\\IPython\\lib\\latextools.py:126: MatplotlibDeprecationWarning: \n",
      "The to_png function was deprecated in Matplotlib 3.4 and will be removed two minor releases later. Use mathtext.math_to_image instead.\n",
      "  mt.to_png(f, s, fontsize=12, dpi=dpi, color=color)\n",
      "c:\\Users\\Utente\\anaconda3\\lib\\site-packages\\IPython\\lib\\latextools.py:126: MatplotlibDeprecationWarning: \n",
      "The to_rgba function was deprecated in Matplotlib 3.4 and will be removed two minor releases later. Use mathtext.math_to_image instead.\n",
      "  mt.to_png(f, s, fontsize=12, dpi=dpi, color=color)\n",
      "c:\\Users\\Utente\\anaconda3\\lib\\site-packages\\IPython\\lib\\latextools.py:126: MatplotlibDeprecationWarning: \n",
      "The to_mask function was deprecated in Matplotlib 3.4 and will be removed two minor releases later. Use mathtext.math_to_image instead.\n",
      "  mt.to_png(f, s, fontsize=12, dpi=dpi, color=color)\n",
      "c:\\Users\\Utente\\anaconda3\\lib\\site-packages\\IPython\\lib\\latextools.py:126: MatplotlibDeprecationWarning: \n",
      "The MathtextBackendBitmap class was deprecated in Matplotlib 3.4 and will be removed two minor releases later. Use mathtext.math_to_image instead.\n",
      "  mt.to_png(f, s, fontsize=12, dpi=dpi, color=color)\n"
     ]
    },
    {
     "data": {
      "image/png": "[encoded data removed]",
      "text/latex": [
       "$\\displaystyle [\\nabla_{\\parallel}\\ln(n_0)] u_{e\\parallel1} + [\\nabla_{\\parallel}\\ln(u_{e\\parallel1})] u_{e\\parallel1} + [\\nabla_{\\perp}\\ln(n_0)] u_{e\\perp1} + [\\nabla_{\\perp}\\ln(u_{e\\perp1})] u_{e\\perp1} - i \\omega h_{e1} + i h_{e1} k_{\\theta} u_{e\\theta0} + i k_{\\parallel} u_{e\\parallel1} + i k_{\\perp} u_{e\\perp1} + i k_{\\theta} u_{e\\theta1} - u_{e\\parallel1} {[\\nabla_{\\parallel}\\ln(B)]} - u_{e\\perp1} {[\\nabla_{\\perp}\\ln(B)]}$"
      ],
      "text/plain": [
       "[\\nabla_{\\parallel}\\ln(n_0)]⋅u_{e\\parallel1} + [\\nabla_{\\parallel}\\ln(u_{e\\par\n",
       "allel1})]⋅u_{e\\parallel1} + [\\nabla_{\\perp}\\ln(n_0)]⋅u_{e\\perp1} + [\\nabla_{\\p\n",
       "erp}\\ln(u_{e\\perp1})]⋅u_{e\\perp1} - ⅈ⋅\\omega⋅h_{e1} + ⅈ⋅h_{e1}⋅k_\\theta⋅u_{e\\t\n",
       "heta0} + ⅈ⋅k_\\parallel⋅u_{e\\parallel1} + ⅈ⋅k_\\perp⋅u_{e\\perp1} + ⅈ⋅k_\\theta⋅u_\n",
       "{e\\theta1} - u_{e\\parallel1}⋅{[\\nabla_{\\parallel}\\ln(B)]} - u_{e\\perp1}⋅{[\\nab\n",
       "la_{\\perp}\\ln(B)]}"
      ]
     },
     "metadata": {},
     "output_type": "display_data"
    },
    {
     "name": "stdout",
     "output_type": "stream",
     "text": [
      "= 0\n"
     ]
    },
    {
     "data": {
      "text/latex": [
       "(Eq. C.3)"
      ],
      "text/plain": [
       "<IPython.core.display.Latex object>"
      ]
     },
     "metadata": {},
     "output_type": "display_data"
    },
    {
     "name": "stdout",
     "output_type": "stream",
     "text": [
      "-----------------------------------------------------------------------------------------------------------\n"
     ]
    },
    {
     "data": {
      "text/latex": [
       "Momentum in the $x_\\perp$ direction:"
      ],
      "text/plain": [
       "<IPython.core.display.Latex object>"
      ]
     },
     "metadata": {},
     "output_type": "display_data"
    },
    {
     "data": {
      "image/png": "[encoded data removed]",
      "text/latex": [
       "$\\displaystyle \\omega_{ce} u_{e\\theta1} + i k_{\\theta} u_{e\\perp1} u_{e\\theta0} - u_{e\\parallel1} \\left(- i [\\nabla_{\\parallel}\\ln(p_{e0})] \\omega_{ce} \\rho_{e}^{2} k_{\\theta} - i [\\nabla_{\\parallel}\\ln(u_{e\\parallel1})] \\omega_{ce} \\rho_{e}^{2} k_{\\theta} + \\omega_{ce} \\rho_{e}^{2} k_{\\parallel} k_{\\theta} + \\frac{5 i \\omega_{ce} \\rho_{e}^{2} k_{\\theta} {[\\nabla_{\\parallel}\\ln(B)]}}{2}\\right) - i u_{e\\perp1} \\left(i \\nu_{e} + \\omega\\right) - u_{e\\perp1} \\left(- \\frac{i [\\nabla_{\\perp}\\ln(p_{e0})] \\omega_{ce} \\rho_{e}^{2} k_{\\theta}}{2} + i \\omega_{ce} \\rho_{e}^{2} k_{\\theta} {[\\nabla_{\\perp}\\ln(B)]}\\right) - u_{e\\theta1} \\left(- \\frac{i [\\nabla_{\\perp}\\ln(p_{e0})] \\omega_{ce} \\rho_{e}^{2} k_{\\perp}}{2} - i [\\nabla_{\\perp}\\ln(u_{e\\theta1})] \\omega_{ce} \\rho_{e}^{2} k_{\\perp} + \\frac{\\omega_{ce} \\rho_{e}^{2} k_{\\perp}^{2}}{2} + i \\omega_{ce} \\rho_{e}^{2} k_{\\perp} {[\\nabla_{\\perp}\\ln(B)]} + \\frac{\\omega_{ce} \\rho_{e}^{2} k_{\\theta}^{2}}{2}\\right)$"
      ],
      "text/plain": [
       "                                                                              \n",
       "                                                                              \n",
       "\\omega_{ce}⋅u_{e\\theta1} + ⅈ⋅k_\\theta⋅u_{e\\perp1}⋅u_{e\\theta0} - u_{e\\parallel\n",
       "                                                                              \n",
       "\n",
       "   ⎛                                                                          \n",
       "   ⎜                                                     2                    \n",
       "1}⋅⎜- ⅈ⋅[\\nabla_{\\parallel}\\ln(p_{e0})]⋅\\omega_{ce}⋅\\rhoₑ ⋅k_\\theta - ⅈ⋅[\\nabl\n",
       "   ⎝                                                                          \n",
       "\n",
       "                                                                              \n",
       "                                                    2                         \n",
       "a_{\\parallel}\\ln(u_{e\\parallel1})]⋅\\omega_{ce}⋅\\rhoₑ ⋅k_\\theta + \\omega_{ce}⋅\\\n",
       "                                                                              \n",
       "\n",
       "                                                  2                           \n",
       "    2                        5⋅ⅈ⋅\\omega_{ce}⋅\\rhoₑ ⋅k_\\theta⋅{[\\nabla_{\\parall\n",
       "rhoₑ ⋅k_\\parallel⋅k_\\theta + ─────────────────────────────────────────────────\n",
       "                                                          2                   \n",
       "\n",
       "           ⎞                                                 ⎛                \n",
       "el}\\ln(B)]}⎟                                                 ⎜  ⅈ⋅[\\nabla_{\\pe\n",
       "───────────⎟ - ⅈ⋅u_{e\\perp1}⋅(ⅈ⋅\\nuₑ + \\omega) - u_{e\\perp1}⋅⎜- ──────────────\n",
       "           ⎠                                                 ⎝                \n",
       "\n",
       "                                 2                                            \n",
       "rp}\\ln(p_{e0})]⋅\\omega_{ce}⋅\\rhoₑ ⋅k_\\theta                      2            \n",
       "─────────────────────────────────────────── + ⅈ⋅\\omega_{ce}⋅\\rhoₑ ⋅k_\\theta⋅{[\n",
       "              2                                                               \n",
       "\n",
       "                      ⎞                ⎛                                      \n",
       "                      ⎟                ⎜  ⅈ⋅[\\nabla_{\\perp}\\ln(p_{e0})]⋅\\omega\n",
       "\\nabla_{\\perp}\\ln(B)]}⎟ - u_{e\\theta1}⋅⎜- ────────────────────────────────────\n",
       "                      ⎠                ⎝                             2        \n",
       "\n",
       "           2                                                                  \n",
       "_{ce}⋅\\rhoₑ ⋅k_\\perp                                                        2 \n",
       "──────────────────── - ⅈ⋅[\\nabla_{\\perp}\\ln(u_{e\\theta1})]⋅\\omega_{ce}⋅\\rhoₑ ⋅\n",
       "                                                                              \n",
       "\n",
       "                           2        2                                         \n",
       "          \\omega_{ce}⋅\\rhoₑ ⋅k_\\perp                       2                  \n",
       "k_\\perp + ─────────────────────────── + ⅈ⋅\\omega_{ce}⋅\\rhoₑ ⋅k_\\perp⋅{[\\nabla_\n",
       "                       2                                                      \n",
       "\n",
       "                                   2         2⎞\n",
       "                  \\omega_{ce}⋅\\rhoₑ ⋅k_\\theta ⎟\n",
       "{\\perp}\\ln(B)]} + ────────────────────────────⎟\n",
       "                               2              ⎠"
      ]
     },
     "metadata": {},
     "output_type": "display_data"
    },
    {
     "name": "stdout",
     "output_type": "stream",
     "text": [
      "=\n"
     ]
    },
    {
     "data": {
      "image/png": "[encoded data removed]",
      "text/latex": [
       "$\\displaystyle [\\nabla_{\\perp}\\ln(\\phi_{e1})] e\\phi_{e1}/m_e - c_{e}^{2} \\left([\\nabla_{\\perp}\\ln(h_{e1})] h_{e1} + i h_{e1} k_{\\perp}\\right) + i e\\phi_{e1}/m_e k_{\\perp}$"
      ],
      "text/plain": [
       "                                                  2                           \n",
       "[\\nabla_{\\perp}\\ln(\\phi_{e1})]⋅e\\phi_{e1}/m_e - cₑ ⋅([\\nabla_{\\perp}\\ln(h_{e1}\n",
       "\n",
       "                                                        \n",
       ")]⋅h_{e1} + ⅈ⋅h_{e1}⋅k_\\perp) + ⅈ⋅e\\phi_{e1}/m_e⋅k_\\perp"
      ]
     },
     "metadata": {},
     "output_type": "display_data"
    },
    {
     "data": {
      "text/latex": [
       "(Eq. C.4)"
      ],
      "text/plain": [
       "<IPython.core.display.Latex object>"
      ]
     },
     "metadata": {},
     "output_type": "display_data"
    },
    {
     "name": "stdout",
     "output_type": "stream",
     "text": [
      "-----------------------------------------------------------------------------------------------------------\n"
     ]
    },
    {
     "data": {
      "text/latex": [
       "Momentum in the $x_\\theta$ direction:"
      ],
      "text/plain": [
       "<IPython.core.display.Latex object>"
      ]
     },
     "metadata": {},
     "output_type": "display_data"
    },
    {
     "data": {
      "image/png": "[encoded data removed]",
      "text/latex": [
       "$\\displaystyle - \\omega_{ce} u_{e\\perp1} + i k_{\\theta} u_{e\\theta0} u_{e\\theta1} - u_{e\\parallel1} \\left(i [\\nabla_{\\parallel}\\ln(p_{e0})] \\omega_{ce} \\rho_{e}^{2} k_{\\perp} + i [\\nabla_{\\parallel}\\ln(u_{e\\parallel1})] \\omega_{ce} \\rho_{e}^{2} k_{\\perp} - \\omega_{ce} \\rho_{e}^{2} k_{\\parallel} k_{\\perp} - \\frac{5 i \\omega_{ce} \\rho_{e}^{2} k_{\\perp} {[\\nabla_{\\parallel}\\ln(B)]}}{2}\\right) - u_{e\\perp1} \\left(\\frac{i [\\nabla_{\\perp}\\ln(p_{e0})] \\omega_{ce} \\rho_{e}^{2} k_{\\perp}}{2} + i [\\nabla_{\\perp}\\ln(u_{e\\perp1})] \\omega_{ce} \\rho_{e}^{2} k_{\\perp} - \\frac{\\omega_{ce} \\rho_{e}^{2} k_{\\perp}^{2}}{2} - i \\omega_{ce} \\rho_{e}^{2} k_{\\perp} {[\\nabla_{\\perp}\\ln(B)]} - \\frac{\\omega_{ce} \\rho_{e}^{2} k_{\\theta}^{2}}{2}\\right) - i u_{e\\theta1} \\left(i \\nu_{e} + \\omega\\right) - u_{e\\theta1} \\left(- \\frac{i [\\nabla_{\\perp}\\ln(p_{e0})] \\omega_{ce} \\rho_{e}^{2} k_{\\theta}}{2} + i \\omega_{ce} \\rho_{e}^{2} k_{\\theta} {[\\nabla_{\\perp}\\ln(B)]}\\right)$"
      ],
      "text/plain": [
       "                                                                              \n",
       "                                                                              \n",
       "-\\omega_{ce}⋅u_{e\\perp1} + ⅈ⋅k_\\theta⋅u_{e\\theta0}⋅u_{e\\theta1} - u_{e\\paralle\n",
       "                                                                              \n",
       "\n",
       "    ⎛                                                                         \n",
       "    ⎜                                                   2                     \n",
       "l1}⋅⎜ⅈ⋅[\\nabla_{\\parallel}\\ln(p_{e0})]⋅\\omega_{ce}⋅\\rhoₑ ⋅k_\\perp + ⅈ⋅[\\nabla_\n",
       "    ⎝                                                                         \n",
       "\n",
       "                                                                              \n",
       "                                                  2                           \n",
       "{\\parallel}\\ln(u_{e\\parallel1})]⋅\\omega_{ce}⋅\\rhoₑ ⋅k_\\perp - \\omega_{ce}⋅\\rho\n",
       "                                                                              \n",
       "\n",
       "                                              2                               \n",
       " 2                       5⋅ⅈ⋅\\omega_{ce}⋅\\rhoₑ ⋅k_\\perp⋅{[\\nabla_{\\parallel}\\l\n",
       "ₑ ⋅k_\\parallel⋅k_\\perp - ─────────────────────────────────────────────────────\n",
       "                                                      2                       \n",
       "\n",
       "      ⎞               ⎛                                               2       \n",
       "n(B)]}⎟               ⎜ⅈ⋅[\\nabla_{\\perp}\\ln(p_{e0})]⋅\\omega_{ce}⋅\\rhoₑ ⋅k_\\per\n",
       "──────⎟ - u_{e\\perp1}⋅⎜───────────────────────────────────────────────────────\n",
       "      ⎠               ⎝                           2                           \n",
       "\n",
       "                                                                              \n",
       "p                                                       2           \\omega_{ce\n",
       "─ + ⅈ⋅[\\nabla_{\\perp}\\ln(u_{e\\perp1})]⋅\\omega_{ce}⋅\\rhoₑ ⋅k_\\perp - ──────────\n",
       "                                                                              \n",
       "\n",
       "       2        2                                                             \n",
       "}⋅\\rhoₑ ⋅k_\\perp                       2                                    \\o\n",
       "───────────────── - ⅈ⋅\\omega_{ce}⋅\\rhoₑ ⋅k_\\perp⋅{[\\nabla_{\\perp}\\ln(B)]} - ──\n",
       "   2                                                                          \n",
       "\n",
       "               2         2⎞                                                   \n",
       "mega_{ce}⋅\\rhoₑ ⋅k_\\theta ⎟                                                   \n",
       "──────────────────────────⎟ - ⅈ⋅u_{e\\theta1}⋅(ⅈ⋅\\nuₑ + \\omega) - u_{e\\theta1}⋅\n",
       "           2              ⎠                                                   \n",
       "\n",
       "⎛                                                 2                           \n",
       "⎜  ⅈ⋅[\\nabla_{\\perp}\\ln(p_{e0})]⋅\\omega_{ce}⋅\\rhoₑ ⋅k_\\theta                  \n",
       "⎜- ───────────────────────────────────────────────────────── + ⅈ⋅\\omega_{ce}⋅\\\n",
       "⎝                              2                                              \n",
       "\n",
       "                                       ⎞\n",
       "    2                                  ⎟\n",
       "rhoₑ ⋅k_\\theta⋅{[\\nabla_{\\perp}\\ln(B)]}⎟\n",
       "                                       ⎠"
      ]
     },
     "metadata": {},
     "output_type": "display_data"
    },
    {
     "name": "stdout",
     "output_type": "stream",
     "text": [
      "=\n"
     ]
    },
    {
     "data": {
      "image/png": "[encoded data removed]",
      "text/latex": [
       "$\\displaystyle - i c_{e}^{2} h_{e1} k_{\\theta} + i e\\phi_{e1}/m_e k_{\\theta}$"
      ],
      "text/plain": [
       "      2                                            \n",
       "- ⅈ⋅cₑ ⋅h_{e1}⋅k_\\theta + ⅈ⋅e\\phi_{e1}/m_e⋅k_\\theta"
      ]
     },
     "metadata": {},
     "output_type": "display_data"
    },
    {
     "data": {
      "text/latex": [
       "(Eq. C.5)"
      ],
      "text/plain": [
       "<IPython.core.display.Latex object>"
      ]
     },
     "metadata": {},
     "output_type": "display_data"
    },
    {
     "name": "stdout",
     "output_type": "stream",
     "text": [
      "-----------------------------------------------------------------------------------------------------------\n"
     ]
    },
    {
     "data": {
      "text/latex": [
       "Momentum in the $x_\\parallel$ direction:"
      ],
      "text/plain": [
       "<IPython.core.display.Latex object>"
      ]
     },
     "metadata": {},
     "output_type": "display_data"
    },
    {
     "data": {
      "image/png": "[encoded data removed]",
      "text/latex": [
       "$\\displaystyle i k_{\\theta} u_{e\\parallel1} u_{e\\theta0} - i u_{e\\parallel1} \\left(i \\nu_{e} + \\omega\\right) - u_{e\\parallel1} \\left(- i [\\nabla_{\\perp}\\ln(p_{e0})] \\omega_{ce} \\rho_{e}^{2} k_{\\theta} + 4 i \\omega_{ce} \\rho_{e}^{2} k_{\\theta} {[\\nabla_{\\perp}\\ln(B)]}\\right) - u_{e\\perp1} \\left(i [\\nabla_{\\parallel}\\ln(u_{e\\perp1})] \\omega_{ce} \\rho_{e}^{2} k_{\\theta} - \\omega_{ce} \\rho_{e}^{2} k_{\\parallel} k_{\\theta} + \\frac{i \\omega_{ce} \\rho_{e}^{2} k_{\\theta} {[\\nabla_{\\parallel}\\ln(B)]}}{2}\\right) - u_{e\\theta1} \\left(- i [\\nabla_{\\parallel}\\ln(u_{e\\theta1})] \\omega_{ce} \\rho_{e}^{2} k_{\\perp} + \\omega_{ce} \\rho_{e}^{2} k_{\\parallel} k_{\\perp} - \\frac{i \\omega_{ce} \\rho_{e}^{2} k_{\\perp} {[\\nabla_{\\parallel}\\ln(B)]}}{2}\\right)$"
      ],
      "text/plain": [
       "                                                                              \n",
       "                                                                              \n",
       "ⅈ⋅k_\\theta⋅u_{e\\parallel1}⋅u_{e\\theta0} - ⅈ⋅u_{e\\parallel1}⋅(ⅈ⋅\\nuₑ + \\omega) \n",
       "                                                                              \n",
       "\n",
       "                                                                              \n",
       "                  ⎛                                                 2         \n",
       "- u_{e\\parallel1}⋅⎝- ⅈ⋅[\\nabla_{\\perp}\\ln(p_{e0})]⋅\\omega_{ce}⋅\\rhoₑ ⋅k_\\theta\n",
       "                                                                              \n",
       "\n",
       "                                                                           ⎛  \n",
       "                        2                                  ⎞               ⎜  \n",
       " + 4⋅ⅈ⋅\\omega_{ce}⋅\\rhoₑ ⋅k_\\theta⋅{[\\nabla_{\\perp}\\ln(B)]}⎠ - u_{e\\perp1}⋅⎜ⅈ⋅\n",
       "                                                                           ⎝  \n",
       "\n",
       "                                                                              \n",
       "                                                      2                       \n",
       "[\\nabla_{\\parallel}\\ln(u_{e\\perp1})]⋅\\omega_{ce}⋅\\rhoₑ ⋅k_\\theta - \\omega_{ce}\n",
       "                                                                              \n",
       "\n",
       "                                                  2                           \n",
       "      2                        ⅈ⋅\\omega_{ce}⋅\\rhoₑ ⋅k_\\theta⋅{[\\nabla_{\\parall\n",
       "⋅\\rhoₑ ⋅k_\\parallel⋅k_\\theta + ───────────────────────────────────────────────\n",
       "                                                           2                  \n",
       "\n",
       "           ⎞                ⎛                                                 \n",
       "el}\\ln(B)]}⎟                ⎜                                                 \n",
       "───────────⎟ - u_{e\\theta1}⋅⎜- ⅈ⋅[\\nabla_{\\parallel}\\ln(u_{e\\theta1})]⋅\\omega_\n",
       "           ⎠                ⎝                                                 \n",
       "\n",
       "                                                                              \n",
       "          2                            2                       ⅈ⋅\\omega_{ce}⋅\\\n",
       "{ce}⋅\\rhoₑ ⋅k_\\perp + \\omega_{ce}⋅\\rhoₑ ⋅k_\\parallel⋅k_\\perp - ───────────────\n",
       "                                                                              \n",
       "\n",
       "    2                                     ⎞\n",
       "rhoₑ ⋅k_\\perp⋅{[\\nabla_{\\parallel}\\ln(B)]}⎟\n",
       "──────────────────────────────────────────⎟\n",
       "             2                            ⎠"
      ]
     },
     "metadata": {},
     "output_type": "display_data"
    },
    {
     "name": "stdout",
     "output_type": "stream",
     "text": [
      "=\n"
     ]
    },
    {
     "data": {
      "image/png": "[encoded data removed]",
      "text/latex": [
       "$\\displaystyle [\\nabla_{\\parallel}\\ln(\\phi_{e1})] e\\phi_{e1}/m_e - c_{e}^{2} \\left([\\nabla_{\\parallel}\\ln(h_{e1})] h_{e1} + i h_{e1} k_{\\parallel}\\right) + i e\\phi_{e1}/m_e k_{\\parallel}$"
      ],
      "text/plain": [
       "                                                      2                       \n",
       "[\\nabla_{\\parallel}\\ln(\\phi_{e1})]⋅e\\phi_{e1}/m_e - cₑ ⋅([\\nabla_{\\parallel}\\l\n",
       "\n",
       "                                                                        \n",
       "n(h_{e1})]⋅h_{e1} + ⅈ⋅h_{e1}⋅k_\\parallel) + ⅈ⋅e\\phi_{e1}/m_e⋅k_\\parallel"
      ]
     },
     "metadata": {},
     "output_type": "display_data"
    },
    {
     "data": {
      "text/latex": [
       "(Eq. C.6)"
      ],
      "text/plain": [
       "<IPython.core.display.Latex object>"
      ]
     },
     "metadata": {},
     "output_type": "display_data"
    }
   ],
   "source": [
    "# Cell 3\n",
    "# THIS CELL COMPUTES AND DISPLAYS THE CONTINUITY EQUATION FOR THE ELECTRONS\n",
    "# Continuity Equation\n",
    "def continuity_eq(u0,u1):\n",
    "    lhs_0 = -1j * w * small * he1\n",
    "    lhs_1 = scal_prod_vect(u0, grad_scal(he1))\n",
    "    lhs_2 = div_vect(u1)\n",
    "    x  = [x_pe, x_th, x_pa]\n",
    "    lhs_3 = 0\n",
    "    for i in [0,1,2]:\n",
    "        lhs_3 += u1[i] * small * diff(n0, x[i]) / n_0\n",
    "    lhs = lhs_0 + lhs_1 + lhs_2 + lhs_3\n",
    "    return lhs\n",
    "def display_continuity_eq(u0,u1):\n",
    "    lhs = continuity_eq(u0,u1)\n",
    "    lhs1 = complete_subs(lhs)\n",
    "    print('Continuity equation:')\n",
    "    display(nsimplify(lhs1).subs(small**2,0).subs(small,1))\n",
    "    print('= 0')\n",
    "    display(Latex('(Eq. C.3)'))\n",
    "    print('-----------------------------------------------------------------------------------------------------------')\n",
    "    return lhs\n",
    "# THIS CELL COMPUTES AND DISPLAYS THE MOMENTUM EQUATION FOR THE ELECTRONS\n",
    "nue = symbols('\\\\nu_e')\n",
    "# The momentum equation is given by:\n",
    "def momentum_eq(u0,u1):\n",
    "    lhs_0 = scal_vect(-1j*small*(w+1j*nue), u1)\n",
    "    lhs_1 = vect_matr(u0, grad_vect(u1))\n",
    "    lhs_2 = matr_vect(Ge, u1)\n",
    "    lhs_2 = scal_vect(-1, lhs_2)\n",
    "    lhs_3 = prod_vect(scal_vect(-w_ce,[0,0,1]), (u1))\n",
    "    lhs = sum_vect(lhs_0, lhs_1)\n",
    "    lhs = sum_vect(lhs, lhs_2)\n",
    "    lhs = sum_vect(lhs, lhs_3)\n",
    "    rhs_0 = scal_vect(- c_e**2, grad_scal(he1))\n",
    "    rhs_1 = grad_scal(phi1)\n",
    "    rhs = sum_vect(rhs_0, rhs_1)\n",
    "    return lhs, rhs\n",
    "def display_momentum_eq(u0,u1):\n",
    "    lhs, rhs = momentum_eq(u0,u1)\n",
    "    lhs1 = complete_subs(lhs)\n",
    "    rhs1 = complete_subs(rhs)\n",
    "    display(Latex(r'Momentum in the $x_\\perp$ direction:'))\n",
    "    display(nsimplify(lhs1[0].subs(small**2,0)).subs(small,1))\n",
    "    print('=')\n",
    "    display(nsimplify(rhs1[0].subs(small**2,0)).subs(small,1))\n",
    "    display(Latex('(Eq. C.4)'))\n",
    "    print('-----------------------------------------------------------------------------------------------------------')\n",
    "    display(Latex(r'Momentum in the $x_\\theta$ direction:'))\n",
    "    display(nsimplify(lhs1[1].subs(small**2,0)).subs(small,1))\n",
    "    print('=')\n",
    "    display(nsimplify(rhs1[1].subs(small**2,0)).subs(small,1))\n",
    "    display(Latex('(Eq. C.5)'))\n",
    "    print('-----------------------------------------------------------------------------------------------------------')\n",
    "    display(Latex(r'Momentum in the $x_\\parallel$ direction:'))\n",
    "    display(nsimplify(lhs1[2].subs(small**2,0)).subs(small,1))\n",
    "    print('=')\n",
    "    display(nsimplify(rhs1[2].subs(small**2,0)).subs(small,1))\n",
    "    display(Latex('(Eq. C.6)'))\n",
    "    return lhs, rhs\n",
    "lhs_continuity = display_continuity_eq(ue0, ue1)\n",
    "lhs_momentum, rhs_momentum = display_momentum_eq(ue0, ue1)\n",
    "# Compute matrix Ae\n",
    "A_e = [[0,0,0,0],\n",
    "       [0,0,0,0],\n",
    "       [0,0,0,0],\n",
    "       [0,0,0,0]]\n",
    "def subs_ue(expr,i):\n",
    "    ind = [[1,0,0,0],\n",
    "           [0,1,0,0],\n",
    "           [0,0,1,0]]\n",
    "    exp_new = expr.subs(u_pe1_sym, ind[0][i]).subs(u_th1_sym, ind[1][i]).subs(u_pa1_sym, ind[2][i]).subs(phi1_sym,0).subs(he1_sym,0)\n",
    "    return exp_new\n",
    "def subs_he(expr,i):\n",
    "    ind = [0,0,0,1]\n",
    "    exp_new = expr.subs(he1_sym, ind[i]).subs(phi1_sym,0)\n",
    "    return exp_new\n",
    "new_lhs = [lhs_momentum[0], lhs_momentum[1], lhs_momentum[2], lhs_continuity]\n",
    "new_rhs = [rhs_momentum[0], rhs_momentum[1], rhs_momentum[2], w-w]\n",
    "for i in [0,1,2,3]:\n",
    "    for j in [0,1,2,3]:\n",
    "        LHS = new_lhs[i]\n",
    "        RHS = new_rhs[i]\n",
    "        if j < 3:\n",
    "            a_e = subs_ue(LHS,j)\n",
    "        else:\n",
    "            if i < 3:\n",
    "                a_e = -subs_he(RHS,j)\n",
    "            else:\n",
    "                a_e = LHS.subs(he1_sym,1).subs(phi1_sym,0).subs(u_pe1_sym,0).subs(u_th1_sym,0).subs(u_pa1_sym,0)\n",
    "\n",
    "        A_e[i][j] = a_e.subs(u_pe0_sym,0).subs(u_pa0_sym,0)\n",
    "Ae_sym = [[0,0,0,0],\n",
    "          [0,0,0,0],\n",
    "          [0,0,0,0],\n",
    "          [0,0,0,0]]\n",
    "# Additional symbols\n",
    "we, wMe, wMpa, wBe, uNa, uTa, varka_pe, varka_th, varka_pa, wNe, k, lambda_pa, kTa, eHa =\\\n",
    "      symbols('\\omega_e, \\omega_{M\\perp}, \\omega_{M\\parallel}, \\omega_{B}, u_{n\\parallel}, u_{T\\parallel}, \\hat\\\\varkappa_{\\perp}, \\hat\\\\varkappa_{\\\\theta},'\\\n",
    "              '\\hat\\\\varkappa_\\parallel, \\omega_{N}, k, \\hat\\lambda_{\\parallel}, \\\\varkappa_{T}, \\hat\\eta_{\\parallel}')\n",
    "# Compute symbolic Ae\n",
    "Ae_sym[0+1][0+1] = -1j * small * (we + wMe/2 - wBe/2)\n",
    "Ae_sym[0+1][1+1] = -1j * small * k_pe *(wMe/(2*k_th)  - w_ce * rho_e**2 * Dpe_lnu_th) + w_ce * (1 - k**2*rho_e**2/2)\n",
    "Ae_sym[0+1][2+1] = small * k_th * 1j * w_ce * rho_e**2 * (kTa + lambda_pa)# + w_ce * k_pa * rho_e**2)\n",
    "Ae_sym[0+1][3-3] = c_e**2 * (1j * k_pe + small * Dpe_lnhe1)\n",
    "#\n",
    "Ae_sym[1+1][0+1] = 1j * small * k_pe *(wMe/(2*k_th) - w_ce * rho_e**2 * Dpe_lnu_pe) - w_ce * (1 - k**2*rho_e**2/2)\n",
    "Ae_sym[1+1][1+1] = -1j * small * (we + wMe/2 - wBe/2)\n",
    "Ae_sym[1+1][2+1] = - small * k_pe * 1j * w_ce * rho_e**2 * (kTa + lambda_pa)# + w_ce * k_pa * rho_e**2)\n",
    "Ae_sym[1+1][3-3] = c_e**2 * (1j * k_th)\n",
    "#\n",
    "Ae_sym[2+1][0+1] = - small * k_th * w_ce * rho_e**2 * (1j * varka_pe)# - k_pa)\n",
    "Ae_sym[2+1][1+1] = - small * k_pe * w_ce * rho_e**2 * (-1j * varka_th)# + k_pa)\n",
    "Ae_sym[2+1][2+1] = - 1j * small * (we + wMe - 2*wBe)\n",
    "Ae_sym[2+1][3-3] = small * c_e**2 * eHa#(1j * k_pa + Dpa_lnhe1)\n",
    "#\n",
    "Ae_sym[3-3][0+1] = 1j * k_pe  + small * (Dpe_lnu_pe + w_ce/c_e**2 * (wBe - wNe)/k_th)\n",
    "Ae_sym[3-3][1+1] = 1j * k_th\n",
    "Ae_sym[3-3][2+1] = small * (lambda_pa)# + 1j * k_pa)\n",
    "Ae_sym[3-3][3-3] = -1j * small * we\n",
    "# THIS CELL THE SYMBOLIC MATRIX OF COEFFICENTS Ae\n",
    "w_pe, w_pa = symbols('\\\\omega_{\\perp}, \\\\omega_{\\parallel}')\n",
    "Ae_sym[0+1][0+1] = - 1j * small * (w_pe)\n",
    "Ae_sym[1+1][1+1] = - 1j * small * (w_pe)\n",
    "Ae_sym[2+1][2+1] = - 1j * small * (w_pa)\n",
    "Ae_sym1 = [[0,0,0,0],\n",
    "           [0,0,0,0],\n",
    "           [0,0,0,0],\n",
    "           [0,0,0,0]]\n",
    "for i in range(4):\n",
    "    for j in range(4):\n",
    "        Ae_sym1[i][j] = Ae_sym[i][j]\n",
    "Ae_print = Matrix(Ae_sym1)"
   ]
  },
  {
   "cell_type": "markdown",
   "metadata": {},
   "source": [
    "## Section III: Expression and determinant of $A_e$\n",
    "\n",
    "Now, we can make some proper symbolic substitutions to render the expressions more manageable. We define the following frequencies:\n",
    "$$\n",
    "\\omega_{Ne} \\equiv - \\frac{c_e^2}{\\omega_{ce}} \\nabla_\\perp \\ln n_0 , \\qquad \\omega_{B} \\equiv - \\frac{c_e^2}{\\omega_{ce}} \\nabla_\\perp \\ln B_0 , \\qquad \\omega_{Te} \\equiv - \\frac{c_e^2}{\\omega_{ce}} \\nabla_\\perp \\ln T_e , \\qquad \\omega_{\\perp} \\equiv - \\frac{c_e^2}{\\omega_{ce}} \\nabla_\\perp \\ln \\frac{p_{e0}}{B^2} ,\n",
    "$$\n",
    "$$\n",
    "\\omega_e \\equiv \\omega - k_\\theta u_{\\theta e0} , \\qquad \\omega_{M\\perp} \\equiv \\omega_N - { 2 \\omega_{B}}, \\qquad \\omega_{M\\parallel} \\equiv \\omega_e - {\\omega_{M\\perp} + 2 \\omega_{B}}\n",
    "$$\n",
    "which correspond to the definitions found in the list of symbols Eq. A.1. The first three definitions are drift frequencies, due to gradients in the equilibrium electron density, magnetic field and electron temperature, respectively. $\\omega_e$ is the Doppler-shifted wave frequency as seen by an observer moving with the electron refernce frame, $\\omega_\\perp$ is the same Doppler-shifted frequency corrected with the leading terms coming from the projection of the gyroviscous tensor on the plane perpendicular to $\\mathbf B$, while $\\omega_\\parallel$ is analogous to $\\omega_\\perp$ but with the correction coming from the projection of $\\nabla\\cdot\\Pi_{e1}$ in the parallel direction.\\\n",
    "We further define the following parallel gradients of zeroth-order quantities, as shown in Eq. C.9 of the manuscript,\n",
    "$$\n",
    "\\varkappa_n \\equiv \\nabla_\\parallel \\ln \\frac{n_0}{\\sqrt{B}} , \\qquad \\varkappa_T \\equiv \\nabla_\\parallel \\ln \\frac{T_e}{\\sqrt{B^3}} ,\n",
    "$$\n",
    "and the parallel gradients of first-order quantities, defined as in Eq. C.10,\n",
    "$$\n",
    "\\varkappa_\\perp \\equiv \\nabla_\\parallel \\ln (\\sqrt B u_{\\perp e1}) , \\qquad \\varkappa_\\perp \\equiv \\nabla_\\parallel \\ln (\\sqrt B u_{\\theta e1}) , \\qquad \\varkappa_\\parallel \\equiv \\nabla_\\parallel \\ln \\left(\\frac{u_{\\parallel e1}}{\\sqrt B}\\right) .\n",
    "$$\n",
    "To aid us in the symbolic manipulation of the determinant of the matrix of coefficients $A_e$, we will make use of the following additional definitions:\n",
    "$$\n",
    "\\hat\\varkappa_\\perp \\equiv \\varkappa_\\perp + i k_\\parallel , \\qquad \\hat\\varkappa_\\theta \\equiv \\varkappa_\\theta + i k_\\parallel , \\qquad \\hat\\varkappa_\\parallel \\equiv \\varkappa_\\parallel + i k_\\parallel , \\qquad \\hat\\lambda_\\parallel \\equiv \\hat\\varkappa_\\parallel + \\varkappa_n , \\qquad \\hat\\eta_\\parallel \\equiv \\nabla_\\parallel \\ln h_{e1} + i k_\\parallel .\n",
    "$$\n",
    "The cell below displays the matrix of coefficients $A_e$, adopting the above definitions."
   ]
  },
  {
   "cell_type": "code",
   "execution_count": null,
   "metadata": {},
   "outputs": [
    {
     "name": "stdout",
     "output_type": "stream",
     "text": [
      "------------------------------------------------------------------------------------------------------------\n"
     ]
    },
    {
     "data": {
      "text/latex": [
       "$A_e=$"
      ],
      "text/plain": [
       "<IPython.core.display.Latex object>"
      ]
     },
     "metadata": {},
     "output_type": "display_data"
    },
    {
     "data": {
      "text/latex": [
       "$\\displaystyle \\left[\\begin{matrix}- i \\omega_{e} & [\\nabla_{\\perp}\\ln(u_{e\\perp1})] + \\frac{\\omega_{ce} \\left(\\omega_{Be} - \\omega_{Ne}\\right)}{c_{e}^{2} k_{\\theta}} + i k_{\\perp} & i k_{\\theta} & \\hat\\lambda_{\\parallel}\\\\c_{e}^{2} \\left([\\nabla_{\\perp}\\ln(h_{e1})] + i k_{\\perp}\\right) & - i \\left(i \\nu_{e} + \\omega_{\\perp}\\right) & \\omega_{ce} \\left(- \\frac{\\rho_{e}^{2} k^{2}}{2} + 1\\right) - i k_{\\perp} \\left(- [\\nabla_{\\perp}\\ln(u_{e\\theta1})] \\omega_{ce} \\rho_{e}^{2} - \\frac{\\omega_{Be}}{2 k_{\\theta}} + \\frac{\\omega_{Me}}{2 k_{\\theta}}\\right) & i \\omega_{ce} \\rho_{e}^{2} k_{\\theta} \\left(\\hat\\lambda_{\\parallel} + \\varkappa_{T}\\right)\\\\i c_{e}^{2} k_{\\theta} & - \\omega_{ce} \\left(- \\frac{\\rho_{e}^{2} k^{2}}{2} + 1\\right) + i k_{\\perp} \\left(- [\\nabla_{\\perp}\\ln(u_{e\\perp1})] \\omega_{ce} \\rho_{e}^{2} - \\frac{\\omega_{Be}}{2 k_{\\theta}} + \\frac{\\omega_{Me}}{2 k_{\\theta}}\\right) & - i \\left(i \\nu_{e} + \\omega_{\\perp}\\right) & - i \\omega_{ce} \\rho_{e}^{2} k_{\\perp} \\left(\\hat\\lambda_{\\parallel} + \\varkappa_{T}\\right)\\\\\\hat\\eta_{\\parallel} c_{e}^{2} & - i \\hat\\varkappa_{\\perp} \\omega_{ce} \\rho_{e}^{2} k_{\\theta} & i \\hat\\varkappa_{\\theta} \\omega_{ce} \\rho_{e}^{2} k_{\\perp} & - i \\left(i \\nu_{e} + \\omega_{\\parallel}\\right)\\end{matrix}\\right]$"
      ],
      "text/plain": [
       "⎡                                                                             \n",
       "⎢                 -ⅈ⋅\\omegaₑ                                        [\\nabla_{\\\n",
       "⎢                                                                             \n",
       "⎢                                                                             \n",
       "⎢                                                                             \n",
       "⎢                                                                             \n",
       "⎢  2                                                                          \n",
       "⎢cₑ ⋅([\\nabla_{\\perp}\\ln(h_{e1})] + ⅈ⋅k_\\perp)                                \n",
       "⎢                                                                             \n",
       "⎢                                                                             \n",
       "⎢                                                             ⎛       2  2    \n",
       "⎢                   2                                         ⎜  \\rhoₑ ⋅k     \n",
       "⎢               ⅈ⋅cₑ ⋅k_\\theta                  - \\omega_{ce}⋅⎜- ───────── + 1\n",
       "⎢                                                             ⎝      2        \n",
       "⎢                                                                             \n",
       "⎢                                 2                                           \n",
       "⎣          \\hat\\eta_{\\parallel}⋅cₑ                                            \n",
       "\n",
       "                         \\omega_{ce}⋅(\\omega_{Be} - \\omega_{Ne})              \n",
       "perp}\\ln(u_{e\\perp1})] + ─────────────────────────────────────── + ⅈ⋅k_\\perp  \n",
       "                                         2                                    \n",
       "                                       cₑ ⋅k_\\theta                           \n",
       "                                                                              \n",
       "                                                                              \n",
       "                                                                              \n",
       "                   -ⅈ⋅(ⅈ⋅\\nuₑ + \\omega_{\\perp})                               \n",
       "                                                                              \n",
       "                                                                              \n",
       "⎞                                                                             \n",
       "⎟             ⎛                                                    2   \\omega_\n",
       "⎟ + ⅈ⋅k_\\perp⋅⎜- [\\nabla_{\\perp}\\ln(u_{e\\perp1})]⋅\\omega_{ce}⋅\\rhoₑ  - ───────\n",
       "⎠             ⎝                                                         2⋅k_\\t\n",
       "                                                                              \n",
       "                                                 2                            \n",
       "       -ⅈ⋅\\hat\\varkappa_{\\perp}⋅\\omega_{ce}⋅\\rhoₑ ⋅k_\\theta                   \n",
       "\n",
       "                                                                              \n",
       "                                                                              \n",
       "                                                                              \n",
       "                                                                              \n",
       "                                                                              \n",
       "                                 ⎛       2  2    ⎞                            \n",
       "                                 ⎜  \\rhoₑ ⋅k     ⎟             ⎛              \n",
       "                     \\omega_{ce}⋅⎜- ───────── + 1⎟ - ⅈ⋅k_\\perp⋅⎜- [\\nabla_{\\pe\n",
       "                                 ⎝      2        ⎠             ⎝              \n",
       "                                                                              \n",
       "                                                                              \n",
       "{Be}   \\omega_{Me}⎞                                                           \n",
       "──── + ───────────⎟                                                   -ⅈ⋅(ⅈ⋅\\n\n",
       "heta    2⋅k_\\theta⎠                                                           \n",
       "                                                                              \n",
       "                                                                              \n",
       "                                                          ⅈ⋅\\hat\\varkappa_{\\th\n",
       "\n",
       "                                                                              \n",
       " ⅈ⋅k_\\theta                                                                   \n",
       "                                                                              \n",
       "                                                                              \n",
       "                                                                              \n",
       "                                                                              \n",
       "                                       2   \\omega_{Be}   \\omega_{Me}⎞         \n",
       "rp}\\ln(u_{e\\theta1})]⋅\\omega_{ce}⋅\\rhoₑ  - ─────────── + ───────────⎟  ⅈ⋅\\omeg\n",
       "                                            2⋅k_\\theta    2⋅k_\\theta⎠         \n",
       "                                                                              \n",
       "                                                                              \n",
       "                                                                              \n",
       "uₑ + \\omega_{\\perp})                                                   -ⅈ⋅\\ome\n",
       "                                                                              \n",
       "                                                                              \n",
       "                      2                                                       \n",
       "eta}⋅\\omega_{ce}⋅\\rhoₑ ⋅k_\\perp                                               \n",
       "\n",
       "                                                                ⎤\n",
       "                 \\hat\\lambda_{\\parallel}                        ⎥\n",
       "                                                                ⎥\n",
       "                                                                ⎥\n",
       "                                                                ⎥\n",
       "                                                                ⎥\n",
       "            2                                                   ⎥\n",
       "a_{ce}⋅\\rhoₑ ⋅k_\\theta⋅(\\hat\\lambda_{\\parallel} + \\varkappa_{T})⎥\n",
       "                                                                ⎥\n",
       "                                                                ⎥\n",
       "                                                                ⎥\n",
       "             2                                                  ⎥\n",
       "ga_{ce}⋅\\rhoₑ ⋅k_\\perp⋅(\\hat\\lambda_{\\parallel} + \\varkappa_{T})⎥\n",
       "                                                                ⎥\n",
       "                                                                ⎥\n",
       "                                                                ⎥\n",
       "            -ⅈ⋅(ⅈ⋅\\nuₑ + \\omega_{\\parallel})                    ⎦"
      ]
     },
     "metadata": {},
     "output_type": "display_data"
    }
   ],
   "source": [
    "# Cell 4\n",
    "# THIS CELL DISPLAYS THE SYMBOLIC MATRIX OF COEFFICENTS Ae\n",
    "print('------------------------------------------------------------------------------------------------------------')\n",
    "display(Latex(r'$A_e=$'))\n",
    "display(nsimplify(Ae_print.subs(small,1).subs(w_pe,we + wMe/2+1j*nue).subs(w_pa,we + wMpa+1j*nue)))"
   ]
  },
  {
   "cell_type": "markdown",
   "metadata": {},
   "source": [
    "Next, we calculate the inverse of the determinant of $A_e$, which we refer to as $D_e\\equiv - \\text{det}(A_e)$.\\\n",
    "At the leading order in $\\epsilon$, $D_e$ can be subdivided in two terms, the first depending solely on the perpendicular dynamics of the electrons, the second only on the parallel dynamics. We express the first term as $D_{e\\perp} \\equiv D_e|_{k_\\parallel,\\nabla_\\parallel=0}$, where $k_\\parallel,\\nabla_\\parallel=0$ symbolically indicates the complete neglect of electron dynamics along the parallel direction. We express the remaining term of $D_e$ through the parallel gradient drift frequency $\\Omega_\\parallel$ defined as\n",
    "$$\n",
    "\\Omega_\\parallel^2 \\equiv - \\frac{D_e - D_{e\\perp}}{\\omega_{ce}^2} .\n",
    "$$\n",
    "The cell below computes and displays both $D_{e\\perp}$ and $\\Omega_\\parallel^2$."
   ]
  },
  {
   "cell_type": "code",
   "execution_count": 176,
   "metadata": {},
   "outputs": [
    {
     "data": {
      "text/latex": [
       "$\\displaystyle-\\frac{{D_e}_\\perp}{\\omega_\\parallel+i\\nu_e}=$"
      ],
      "text/plain": [
       "<IPython.core.display.Latex object>"
      ]
     },
     "metadata": {},
     "output_type": "display_data"
    },
    {
     "data": {
      "image/png": "[encoded data removed]",
      "text/latex": [
       "$\\displaystyle \\frac{[\\nabla_{\\perp}\\ln(h_{e1})] \\omega_{ce}^{3} \\rho_{e}^{4} k^{2} k_{\\theta}}{2} - [\\nabla_{\\perp}\\ln(h_{e1})] \\omega_{ce}^{3} \\rho_{e}^{2} k_{\\theta} - \\frac{[\\nabla_{\\perp}\\ln(u_{e\\perp1})] \\omega_{ce}^{3} \\rho_{e}^{4} k^{2} k_{\\theta}}{2} + [\\nabla_{\\perp}\\ln(u_{e\\perp1})] \\omega_{ce}^{3} \\rho_{e}^{4} k_{\\perp}^{2} k_{\\theta} + [\\nabla_{\\perp}\\ln(u_{e\\perp1})] \\omega_{ce}^{3} \\rho_{e}^{2} k_{\\theta} - [\\nabla_{\\perp}\\ln(u_{e\\theta1})] \\omega_{ce}^{3} \\rho_{e}^{4} k_{\\perp}^{2} k_{\\theta} - \\frac{\\omega_{e} \\omega_{ce}^{2} \\rho_{e}^{4} k^{4}}{4} + \\omega_{e} \\omega_{ce}^{2} \\rho_{e}^{2} k^{2} - \\omega_{e} \\omega_{ce}^{2} - \\frac{\\omega_{Be} \\omega_{ce}^{2} \\rho_{e}^{2} k^{2}}{2} + \\omega_{Be} \\omega_{ce}^{2} + \\frac{\\omega_{Ne} \\omega_{ce}^{2} \\rho_{e}^{2} k^{2}}{2} - \\omega_{Ne} \\omega_{ce}^{2} - \\omega_{ce}^{2} \\rho_{e}^{2} k_{\\perp}^{2} \\left(i \\nu_{e} + \\omega_{\\perp}\\right) - \\omega_{ce}^{2} \\rho_{e}^{2} k_{\\theta}^{2} \\left(i \\nu_{e} + \\omega_{\\perp}\\right)$"
      ],
      "text/plain": [
       "                                       3      4  2                            \n",
       "[\\nabla_{\\perp}\\ln(h_{e1})]⋅\\omega_{ce} ⋅\\rhoₑ ⋅k ⋅k_\\theta                   \n",
       "─────────────────────────────────────────────────────────── - [\\nabla_{\\perp}\\\n",
       "                             2                                                \n",
       "\n",
       "                                                                              \n",
       "                       3      2            [\\nabla_{\\perp}\\ln(u_{e\\perp1})]⋅\\o\n",
       "ln(h_{e1})]⋅\\omega_{ce} ⋅\\rhoₑ ⋅k_\\theta - ───────────────────────────────────\n",
       "                                                                          2   \n",
       "\n",
       "         3      4  2                                                          \n",
       "mega_{ce} ⋅\\rhoₑ ⋅k ⋅k_\\theta                                               3 \n",
       "───────────────────────────── + [\\nabla_{\\perp}\\ln(u_{e\\perp1})]⋅\\omega_{ce} ⋅\n",
       "                                                                              \n",
       "\n",
       "                                                                              \n",
       "     4        2                                                        3      \n",
       "\\rhoₑ ⋅k_\\perp ⋅k_\\theta + [\\nabla_{\\perp}\\ln(u_{e\\perp1})]⋅\\omega_{ce} ⋅\\rhoₑ\n",
       "                                                                              \n",
       "\n",
       "                                                                              \n",
       "2                                                         3      4        2   \n",
       " ⋅k_\\theta - [\\nabla_{\\perp}\\ln(u_{e\\theta1})]⋅\\omega_{ce} ⋅\\rhoₑ ⋅k_\\perp ⋅k_\n",
       "                                                                              \n",
       "\n",
       "                            2      4  4                                       \n",
       "         \\omegaₑ⋅\\omega_{ce} ⋅\\rhoₑ ⋅k                       2      2  2      \n",
       "\\theta - ────────────────────────────── + \\omegaₑ⋅\\omega_{ce} ⋅\\rhoₑ ⋅k  - \\om\n",
       "                       4                                                      \n",
       "\n",
       "                                           2      2  2                        \n",
       "                2   \\omega_{Be}⋅\\omega_{ce} ⋅\\rhoₑ ⋅k                         \n",
       "egaₑ⋅\\omega_{ce}  - ────────────────────────────────── + \\omega_{Be}⋅\\omega_{c\n",
       "                                    2                                         \n",
       "\n",
       "                             2      2  2                                      \n",
       "  2   \\omega_{Ne}⋅\\omega_{ce} ⋅\\rhoₑ ⋅k                           2           \n",
       "e}  + ────────────────────────────────── - \\omega_{Ne}⋅\\omega_{ce}  - \\omega_{\n",
       "                      2                                                       \n",
       "\n",
       "                                                                              \n",
       "   2      2        2                                        2      2         2\n",
       "ce} ⋅\\rhoₑ ⋅k_\\perp ⋅(ⅈ⋅\\nuₑ + \\omega_{\\perp}) - \\omega_{ce} ⋅\\rhoₑ ⋅k_\\theta \n",
       "                                                                              \n",
       "\n",
       "                          \n",
       "                          \n",
       "⋅(ⅈ⋅\\nuₑ + \\omega_{\\perp})\n",
       "                          "
      ]
     },
     "metadata": {},
     "output_type": "display_data"
    },
    {
     "name": "stdout",
     "output_type": "stream",
     "text": [
      "------------------------------------------------------------------------------------------------------------\n"
     ]
    },
    {
     "data": {
      "text/latex": [
       "$\\displaystyle\\frac{\\Omega^2_\\parallel}{c_e^2}=$"
      ],
      "text/plain": [
       "<IPython.core.display.Latex object>"
      ]
     },
     "metadata": {},
     "output_type": "display_data"
    },
    {
     "data": {
      "image/png": "[encoded data removed]",
      "text/latex": [
       "$\\displaystyle - \\frac{\\hat\\eta_{\\parallel} \\hat\\lambda_{\\parallel} \\rho_{e}^{4} k^{4}}{4} + \\frac{\\hat\\eta_{\\parallel} \\hat\\lambda_{\\parallel} \\rho_{e}^{4} k^{2} k_{\\perp}^{2}}{2} + \\frac{\\hat\\eta_{\\parallel} \\hat\\lambda_{\\parallel} \\rho_{e}^{4} k^{2} k_{\\theta}^{2}}{2} + \\hat\\eta_{\\parallel} \\hat\\lambda_{\\parallel} \\rho_{e}^{2} k^{2} - \\hat\\eta_{\\parallel} \\hat\\lambda_{\\parallel} \\rho_{e}^{2} k_{\\perp}^{2} - \\hat\\eta_{\\parallel} \\hat\\lambda_{\\parallel} \\rho_{e}^{2} k_{\\theta}^{2} - \\hat\\eta_{\\parallel} \\hat\\lambda_{\\parallel} + \\frac{\\hat\\eta_{\\parallel} \\kappa_{T} \\rho_{e}^{4} k^{2} k_{\\perp}^{2}}{2} + \\frac{\\hat\\eta_{\\parallel} \\kappa_{T} \\rho_{e}^{4} k^{2} k_{\\theta}^{2}}{2} - \\hat\\eta_{\\parallel} \\kappa_{T} \\rho_{e}^{2} k_{\\perp}^{2} - \\hat\\eta_{\\parallel} \\kappa_{T} \\rho_{e}^{2} k_{\\theta}^{2} + \\frac{\\hat\\kappa_{\\perp} \\hat\\lambda_{\\parallel} \\rho_{e}^{4} k^{2} k_{\\theta}^{2}}{2} - \\hat\\kappa_{\\perp} \\hat\\lambda_{\\parallel} \\rho_{e}^{4} k_{\\perp}^{2} k_{\\theta}^{2} - \\hat\\kappa_{\\perp} \\hat\\lambda_{\\parallel} \\rho_{e}^{4} k_{\\theta}^{4} - \\hat\\kappa_{\\perp} \\hat\\lambda_{\\parallel} \\rho_{e}^{2} k_{\\theta}^{2} - \\hat\\kappa_{\\perp} \\kappa_{T} \\rho_{e}^{4} k_{\\perp}^{2} k_{\\theta}^{2} - \\hat\\kappa_{\\perp} \\kappa_{T} \\rho_{e}^{4} k_{\\theta}^{4} + \\frac{\\hat\\kappa_{\\theta} \\hat\\lambda_{\\parallel} \\rho_{e}^{4} k^{2} k_{\\perp}^{2}}{2} - \\hat\\kappa_{\\theta} \\hat\\lambda_{\\parallel} \\rho_{e}^{4} k_{\\perp}^{4} - \\hat\\kappa_{\\theta} \\hat\\lambda_{\\parallel} \\rho_{e}^{4} k_{\\perp}^{2} k_{\\theta}^{2} - \\hat\\kappa_{\\theta} \\hat\\lambda_{\\parallel} \\rho_{e}^{2} k_{\\perp}^{2} - \\hat\\kappa_{\\theta} \\kappa_{T} \\rho_{e}^{4} k_{\\perp}^{4} - \\hat\\kappa_{\\theta} \\kappa_{T} \\rho_{e}^{4} k_{\\perp}^{2} k_{\\theta}^{2}$"
      ],
      "text/plain": [
       "                                                    4  4                      \n",
       "  \\hat\\eta_{\\parallel}⋅\\hat\\lambda_{\\parallel}⋅\\rhoₑ ⋅k    \\hat\\eta_{\\parallel\n",
       "- ────────────────────────────────────────────────────── + ───────────────────\n",
       "                            4                                                 \n",
       "\n",
       "                               4  2        2                                  \n",
       "}⋅\\hat\\lambda_{\\parallel}⋅\\rhoₑ ⋅k ⋅k_\\perp    \\hat\\eta_{\\parallel}⋅\\hat\\lambd\n",
       "──────────────────────────────────────────── + ───────────────────────────────\n",
       "            2                                                                 \n",
       "\n",
       "                   4  2         2                                             \n",
       "a_{\\parallel}⋅\\rhoₑ ⋅k ⋅k_\\theta                                              \n",
       "───────────────────────────────── + \\hat\\eta_{\\parallel}⋅\\hat\\lambda_{\\paralle\n",
       "2                                                                             \n",
       "\n",
       "                                                                              \n",
       "        2  2                                                     2        2   \n",
       "l}⋅\\rhoₑ ⋅k  - \\hat\\eta_{\\parallel}⋅\\hat\\lambda_{\\parallel}⋅\\rhoₑ ⋅k_\\perp  - \n",
       "                                                                              \n",
       "\n",
       "                                                                              \n",
       "                                                  2         2                 \n",
       "\\hat\\eta_{\\parallel}⋅\\hat\\lambda_{\\parallel}⋅\\rhoₑ ⋅k_\\theta  - \\hat\\eta_{\\par\n",
       "                                                                              \n",
       "\n",
       "                                                                      4  2    \n",
       "                                 \\hat\\eta_{\\parallel}⋅\\kappa_{T}⋅\\rhoₑ ⋅k ⋅k_\\\n",
       "allel}⋅\\hat\\lambda_{\\parallel} + ─────────────────────────────────────────────\n",
       "                                                         2                    \n",
       "\n",
       "    2                                        4  2         2                   \n",
       "perp    \\hat\\eta_{\\parallel}⋅\\kappa_{T}⋅\\rhoₑ ⋅k ⋅k_\\theta                    \n",
       "───── + ─────────────────────────────────────────────────── - \\hat\\eta_{\\paral\n",
       "                                 2                                            \n",
       "\n",
       "                                                                              \n",
       "                     2        2                                        2      \n",
       "lel}⋅\\kappa_{T}⋅\\rhoₑ ⋅k_\\perp  - \\hat\\eta_{\\parallel}⋅\\kappa_{T}⋅\\rhoₑ ⋅k_\\th\n",
       "                                                                              \n",
       "\n",
       "                                                       4  2         2         \n",
       "   2   \\hat\\kappa_{\\perp}⋅\\hat\\lambda_{\\parallel}⋅\\rhoₑ ⋅k ⋅k_\\theta          \n",
       "eta  + ────────────────────────────────────────────────────────────── - \\hat\\k\n",
       "                                     2                                        \n",
       "\n",
       "                                                                              \n",
       "                                          4        2         2                \n",
       "appa_{\\perp}⋅\\hat\\lambda_{\\parallel}⋅\\rhoₑ ⋅k_\\perp ⋅k_\\theta  - \\hat\\kappa_{\\\n",
       "                                                                              \n",
       "\n",
       "                                                                              \n",
       "                                   4         4                                \n",
       "perp}⋅\\hat\\lambda_{\\parallel}⋅\\rhoₑ ⋅k_\\theta  - \\hat\\kappa_{\\perp}⋅\\hat\\lambd\n",
       "                                                                              \n",
       "\n",
       "                                                                              \n",
       "                   2         2                                      4        2\n",
       "a_{\\parallel}⋅\\rhoₑ ⋅k_\\theta  - \\hat\\kappa_{\\perp}⋅\\kappa_{T}⋅\\rhoₑ ⋅k_\\perp \n",
       "                                                                              \n",
       "\n",
       "                                                                              \n",
       "         2                                      4         4   \\hat\\kappa_{\\the\n",
       "⋅k_\\theta  - \\hat\\kappa_{\\perp}⋅\\kappa_{T}⋅\\rhoₑ ⋅k_\\theta  + ────────────────\n",
       "                                                                              \n",
       "\n",
       "                                 4  2        2                                \n",
       "ta}⋅\\hat\\lambda_{\\parallel}⋅\\rhoₑ ⋅k ⋅k_\\perp                                 \n",
       "────────────────────────────────────────────── - \\hat\\kappa_{\\theta}⋅\\hat\\lamb\n",
       "              2                                                               \n",
       "\n",
       "                                                                              \n",
       "                    4        4                                                \n",
       "da_{\\parallel}⋅\\rhoₑ ⋅k_\\perp  - \\hat\\kappa_{\\theta}⋅\\hat\\lambda_{\\parallel}⋅\\\n",
       "                                                                              \n",
       "\n",
       "                                                                              \n",
       "    4        2         2                                                    2 \n",
       "rhoₑ ⋅k_\\perp ⋅k_\\theta  - \\hat\\kappa_{\\theta}⋅\\hat\\lambda_{\\parallel}⋅\\rhoₑ ⋅\n",
       "                                                                              \n",
       "\n",
       "                                                                              \n",
       "       2                                       4        4                     \n",
       "k_\\perp  - \\hat\\kappa_{\\theta}⋅\\kappa_{T}⋅\\rhoₑ ⋅k_\\perp  - \\hat\\kappa_{\\theta\n",
       "                                                                              \n",
       "\n",
       "                                      \n",
       "                  4        2         2\n",
       "}⋅\\kappa_{T}⋅\\rhoₑ ⋅k_\\perp ⋅k_\\theta \n",
       "                                      "
      ]
     },
     "metadata": {},
     "output_type": "display_data"
    }
   ],
   "source": [
    "# Cell 4\n",
    "# THIS CELL COMPUTES THE DETERMINANT OF THE SYMBOLIC MATRIX Ae UP TO THE SECOND ORDER IN varepsilon\n",
    "De = det4(Ae_sym)\n",
    "De = De.subs(u_pe0,0).subs(u_pa0,0).subs(u_th0,u_th0_sym)\n",
    "De = De.subs(x_pe,0).subs(x_th,0).subs(x_pa,0)\n",
    "PolyDe = Poly(De, small)\n",
    "degree_De = degree(PolyDe, gen=small)\n",
    "order_De = len(PolyDe.all_coeffs())\n",
    "De_0 = PolyDe.all_coeffs()[order_De-3]\n",
    "# THIS CELL ONLY PRINTS THE PART OF THE DETERMINANT THAT DEPENDS ON THE PERPENDICULAR DYNAMICS\n",
    "De_0_pe = De_0.subs(varka_pe,0).subs(varka_th,0).subs(varka_pa,0).subs(uNa,0).subs(uTa,0)\\\n",
    "    .subs(Dpa_lnu_pa,0).subs(Dpa_lnu_pe,0).subs(Dpa_lnu_th,0).subs(Dpa_lnhe1,0).subs(k_pa,0).subs(eHa,0)\n",
    "display(Latex(r'$\\displaystyle-\\frac{{D_e}_\\perp}{\\omega_\\parallel+i\\nu_e}=$'))\n",
    "display(nsimplify(simplify(De_0_pe).subs(c_e,rho_e*w_ce).subs(w_pe,w_pe+1j*nue)/w_pa))\n",
    "De_0_pa = De_0.subs(w_pa,0)\n",
    "print('------------------------------------------------------------------------------------------------------------')\n",
    "display(Latex(r'$\\displaystyle\\frac{\\Omega^2_\\parallel}{c_e^2}=$'))\n",
    "display(nsimplify(simplify(De_0_pa).subs(k_pa,0).subs(c_e,rho_e*w_ce)/w_ce**4/rho_e**2))"
   ]
  },
  {
   "cell_type": "markdown",
   "metadata": {},
   "source": [
    "Recalling the definitions of $\\omega_e$ and $\\omega_\\perp$, $D_{e\\perp}$ can be rewritten as\n",
    "$$\n",
    "D_{e\\perp} = \\omega_{ce}^2 (\\omega_{\\parallel} + i\\nu_e) \\left[ \\omega_e \\left( 1 - \\frac{\\rho_e^2k^2}{2} \\right)^2 + k^2\\rho_e^2 (\\omega_\\perp + i \\nu_e) + - \\frac{k_\\theta c_e^2}{\\omega_{ce}} \\nabla_\\perp \\ln \\frac{n_0 u_{\\perp e1}}{B h_{e1}} \\left( 1 - \\frac{\\rho_e^2k^2}{2} \\right) + \\rho_e^2 k_\\perp^2 \\frac{k_\\theta c_e^2}{\\omega_{ce}} \\nabla_\\perp \\ln \\frac{u_{\\theta e1}}{u_{\\perp e1}} \\right] .\n",
    "$$\n",
    "On theother hand, remembering the definitions of $\\hat\\lambda_\\parallel$, $\\hat\\eta_\\parallel$, $\\hat\\varkappa_\\perp$ and $\\hat\\varkappa_\\theta$, the expression of $\\Omega^2_\\parallel$ can be simplified as\n",
    "$$\n",
    "\\frac{\\Omega^2_\\parallel}{c_e^2} = - \\left[ \\hat\\lambda_\\parallel \\left( 1 + \\frac{k^2\\rho_e^2}{2} \\right) + \\varkappa_T \\rho_e^2 k^2 \\right] \\left[ \\hat\\eta_\\parallel \\left( 1 - \\frac{k^2\\rho_e^2}{2} \\right) + \\hat\\varkappa_\\perp \\rho_e^2 k_\\theta^2 + \\hat\\varkappa_\\theta \\rho_e^2 k_\\perp^2 \\right]\n",
    "$$\n",
    "$$\n",
    "= - \\left[ \\left( ik_\\parallel + \\varkappa_n + \\varkappa_\\parallel \\right) \\left( 1 + \\frac{k^2\\rho_e^2}{2} \\right) + \\varkappa_T \\rho_e^2 k^2 \\right] \\left[ \\left( ik_\\parallel + \\nabla_\\parallel \\ln h_{e1} \\right) \\left( 1 - \\frac{k^2\\rho_e^2}{2} \\right) + ik_\\parallel k^2 \\rho_e^2 + \\varkappa_\\perp \\rho_e^2 k_\\theta^2 + \\varkappa_\\theta \\rho_e^2 k_\\perp^2 \\right]\n",
    "$$\n",
    "which corresponds to Eq. C.8 of the manuscript.\\\n",
    "\\\n",
    "Summing the expressions for $D_{e\\perp}$ and  $-\\omega_{ce}^2 \\Omega_\\parallel^2$ returns the full expression of $D_e$ from Eq. C.7 of the manuscript.\n",
    "\n",
    "## First-order gradients and closure of the electron system of equations\n",
    "\n",
    "As a final step, we compute the gradients of the first-order plasma quantities as functions of the gradients of the zeroth-order quantities.\\\n",
    "The expression for $h_{e1}$ is quite trivial to recover using Kramer's rule,\n",
    "$$\n",
    "\\det(A_e) h_{e1} = \\frac{1}{c_e^2} \\det(A_e) \\bigg|_{\\substack{{\\omega_e=0}\\\\{h_{e1}\\to\\phi_1}}}\n",
    "$$\n",
    "$$\n",
    "= -\\frac{D_e}{c_e^2} \\left\\{ 1 - \\frac{\\omega_{ce}^2}{D_e} \\left( 1 - \\frac{k^2 \\rho_e^2}{2} \\right) \\left( \\omega_\\parallel + i \\nu_{e} \\right) \\bigg[ \\omega_{e} \\left( 1 - \\frac{k^2 \\rho_e^2}{2} \\right) + \\frac{k_{\\theta} c_e^2}{\\omega_{ce}} \\nabla_\\perp \\ln  \\frac{h_{e1}}{\\phi_1}  \\bigg] - \\frac{\\Omega_\\parallel^2 - \\Omega_\\parallel^2 \\big|_{h_{e1}\\to\\phi_1}}{D_e} \\right\\} \n",
    "$$\n",
    "which corresponds to Eq. C.11 of the manuscript. Here, the subscript $h_{e1}\\to\\phi_1$ indicates the substitution of the terms $\\nabla \\ln h_{e1}$ with gradients of the electric potential $\\nabla \\ln \\phi_1$. \\\n",
    "Derivating in space the above relation yields, neglecting $\\nabla^2 \\ln Q_0$ and $\\nabla^2 \\ln Q_1$ terms,\n",
    "$$\n",
    "\\nabla \\ln h_{e1} = \\nabla \\ln \\frac{\\phi_1}{T_e}\n",
    "$$\n",
    "which is Eq. C.13 of the manuscript. We will feed this information to the symbolic manipulator at the next cell, in order to facilitate the computaions of the velocities, with the assumption $\\nabla_\\parallel \\ln h_{e1} \\simeq \\nabla_\\parallel \\ln \\phi_1$, being $\\nabla_\\parallel \\ln T_e$ negligible with respect to $\\nabla_\\parallel \\ln p_{e0}$. This assumptions is justified by the available simulation data, as presented in Table V.I of the manuscript.\\\n",
    "Using this and considering $|\\nabla_\\parallel \\ln T_e / \\nabla_\\parallel \\ln p_{e0}| \\ll 1$ allow us to simplify the expression of $h_{e1}$ as (Eq. C.14)\n",
    "$$\n",
    "\\frac{h_{e1}}{e \\phi_1 / m_e} = \n",
    "    \\frac{1}{c_e^2}\n",
    "    - \\frac{\\omega_{ce}^2}{c_e^2 D_e} \\left( 1 - \\frac{k^2 \\rho_e^2}{2} \\right)^2 \\left( \\omega_\\parallel + i \\nu_{e} \\right) \\left( \\omega_e + \\frac{\\omega_{Te}}{1 - {k^2 \\rho_e^2}/{2}}  \\right) .\n",
    "$$\n",
    "The velocities can be similarly computed. The cell below computes and displays $\\mathbf u_{e1} (e\\phi_1/m_e)^{-1}$ at the leading order in $\\epsilon$."
   ]
  },
  {
   "cell_type": "code",
   "execution_count": 221,
   "metadata": {},
   "outputs": [
    {
     "data": {
      "text/latex": [
       "$\\displaystyle - D_e \\frac{u_{\\perp e1}}{e\\phi_1/m_e}=$"
      ],
      "text/plain": [
       "<IPython.core.display.Latex object>"
      ]
     },
     "metadata": {},
     "output_type": "display_data"
    },
    {
     "data": {
      "image/png": "[encoded data removed]",
      "text/latex": [
       "$\\displaystyle - \\frac{i \\omega_{e} \\omega_{ce} \\rho_{e}^{2} k^{2} k_{\\theta} \\left(i \\nu_{e} + \\omega_{\\parallel}\\right)}{2} + i \\omega_{e} \\omega_{ce} k_{\\theta} \\left(i \\nu_{e} + \\omega_{\\parallel}\\right) + i \\omega_{Te} \\omega_{ce} k_{\\theta} \\left(i \\nu_{e} + \\omega_{\\parallel}\\right)$"
      ],
      "text/plain": [
       "                             2  2                                             \n",
       "  ⅈ⋅\\omegaₑ⋅\\omega_{ce}⋅\\rhoₑ ⋅k ⋅k_\\theta⋅(ⅈ⋅\\nuₑ + \\omega_{\\parallel})      \n",
       "- ────────────────────────────────────────────────────────────────────── + ⅈ⋅\\\n",
       "                                    2                                         \n",
       "\n",
       "                                                                              \n",
       "                                                                              \n",
       "omegaₑ⋅\\omega_{ce}⋅k_\\theta⋅(ⅈ⋅\\nuₑ + \\omega_{\\parallel}) + ⅈ⋅\\omega_{Te}⋅\\ome\n",
       "                                                                              \n",
       "\n",
       "                                              \n",
       "                                              \n",
       "ga_{ce}⋅k_\\theta⋅(ⅈ⋅\\nuₑ + \\omega_{\\parallel})\n",
       "                                              "
      ]
     },
     "metadata": {},
     "output_type": "display_data"
    },
    {
     "data": {
      "text/latex": [
       "(Eq. C.15)"
      ],
      "text/plain": [
       "<IPython.core.display.Latex object>"
      ]
     },
     "metadata": {},
     "output_type": "display_data"
    },
    {
     "name": "stdout",
     "output_type": "stream",
     "text": [
      "------------------------------------------------------------------------------------------------------------\n"
     ]
    },
    {
     "data": {
      "text/latex": [
       "$\\displaystyle - D_e \\frac{u_{\\theta e1}}{e\\phi_1/m_e}=$"
      ],
      "text/plain": [
       "<IPython.core.display.Latex object>"
      ]
     },
     "metadata": {},
     "output_type": "display_data"
    },
    {
     "data": {
      "image/png": "[encoded data removed]",
      "text/latex": [
       "$\\displaystyle \\frac{i \\omega_{e} \\omega_{ce} \\rho_{e}^{2} k^{2} k_{\\perp} \\left(i \\nu_{e} + \\omega_{\\parallel}\\right)}{2} - i \\omega_{e} \\omega_{ce} k_{\\perp} \\left(i \\nu_{e} + \\omega_{\\parallel}\\right) - i \\omega_{Te} \\omega_{ce} k_{\\perp} \\left(i \\nu_{e} + \\omega_{\\parallel}\\right)$"
      ],
      "text/plain": [
       "                           2  2                                               \n",
       "ⅈ⋅\\omegaₑ⋅\\omega_{ce}⋅\\rhoₑ ⋅k ⋅k_\\perp⋅(ⅈ⋅\\nuₑ + \\omega_{\\parallel})         \n",
       "───────────────────────────────────────────────────────────────────── - ⅈ⋅\\ome\n",
       "                                  2                                           \n",
       "\n",
       "                                                                              \n",
       "                                                                              \n",
       "gaₑ⋅\\omega_{ce}⋅k_\\perp⋅(ⅈ⋅\\nuₑ + \\omega_{\\parallel}) - ⅈ⋅\\omega_{Te}⋅\\omega_{\n",
       "                                                                              \n",
       "\n",
       "                                         \n",
       "                                         \n",
       "ce}⋅k_\\perp⋅(ⅈ⋅\\nuₑ + \\omega_{\\parallel})\n",
       "                                         "
      ]
     },
     "metadata": {},
     "output_type": "display_data"
    },
    {
     "data": {
      "text/latex": [
       "(Eq. C.16)"
      ],
      "text/plain": [
       "<IPython.core.display.Latex object>"
      ]
     },
     "metadata": {},
     "output_type": "display_data"
    },
    {
     "name": "stdout",
     "output_type": "stream",
     "text": [
      "------------------------------------------------------------------------------------------------------------\n"
     ]
    },
    {
     "data": {
      "text/latex": [
       "$\\displaystyle - D_e \\frac{u_{\\parallel e1}}{e\\phi_1/m_e}=$"
      ],
      "text/plain": [
       "<IPython.core.display.Latex object>"
      ]
     },
     "metadata": {},
     "output_type": "display_data"
    },
    {
     "data": {
      "image/png": "[encoded data removed]",
      "text/latex": [
       "$\\displaystyle - \\frac{i \\hat\\eta_{\\parallel} \\omega_{e} \\omega_{ce}^{2} \\rho_{e}^{4} k^{4}}{4} + i \\hat\\eta_{\\parallel} \\omega_{e} \\omega_{ce}^{2} \\rho_{e}^{2} k^{2} - i \\hat\\eta_{\\parallel} \\omega_{e} \\omega_{ce}^{2} + \\frac{i \\hat\\eta_{\\parallel} \\omega_{Te} \\omega_{ce}^{2} \\rho_{e}^{2} k^{2}}{2} - i \\hat\\eta_{\\parallel} \\omega_{Te} \\omega_{ce}^{2} + \\frac{i \\hat\\varkappa_{\\perp} \\omega_{e} \\omega_{ce}^{2} \\rho_{e}^{4} k^{2} k_{\\theta}^{2}}{2} - i \\hat\\varkappa_{\\perp} \\omega_{e} \\omega_{ce}^{2} \\rho_{e}^{2} k_{\\theta}^{2} - i \\hat\\varkappa_{\\perp} \\omega_{Te} \\omega_{ce}^{2} \\rho_{e}^{2} k_{\\theta}^{2} + \\frac{i \\hat\\varkappa_{\\theta} \\omega_{e} \\omega_{ce}^{2} \\rho_{e}^{4} k^{2} k_{\\perp}^{2}}{2} - i \\hat\\varkappa_{\\theta} \\omega_{e} \\omega_{ce}^{2} \\rho_{e}^{2} k_{\\perp}^{2} - i \\hat\\varkappa_{\\theta} \\omega_{Te} \\omega_{ce}^{2} \\rho_{e}^{2} k_{\\perp}^{2}$"
      ],
      "text/plain": [
       "                                            2      4  4                       \n",
       "  ⅈ⋅\\hat\\eta_{\\parallel}⋅\\omegaₑ⋅\\omega_{ce} ⋅\\rhoₑ ⋅k                        \n",
       "- ───────────────────────────────────────────────────── + ⅈ⋅\\hat\\eta_{\\paralle\n",
       "                            4                                                 \n",
       "\n",
       "                                                                              \n",
       "                      2      2  2                                             \n",
       "l}⋅\\omegaₑ⋅\\omega_{ce} ⋅\\rhoₑ ⋅k  - ⅈ⋅\\hat\\eta_{\\parallel}⋅\\omegaₑ⋅\\omega_{ce}\n",
       "                                                                              \n",
       "\n",
       "                                                  2      2  2                 \n",
       "2   ⅈ⋅\\hat\\eta_{\\parallel}⋅\\omega_{Te}⋅\\omega_{ce} ⋅\\rhoₑ ⋅k                  \n",
       "  + ───────────────────────────────────────────────────────── - ⅈ⋅\\hat\\eta_{\\p\n",
       "                                2                                             \n",
       "\n",
       "                                                                              \n",
       "                                2   ⅈ⋅\\hat\\varkappa_{\\perp}⋅\\omegaₑ⋅\\omega_{ce\n",
       "arallel}⋅\\omega_{Te}⋅\\omega_{ce}  + ──────────────────────────────────────────\n",
       "                                                                   2          \n",
       "\n",
       " 2      4  2         2                                                        \n",
       "} ⋅\\rhoₑ ⋅k ⋅k_\\theta                                               2      2  \n",
       "────────────────────── - ⅈ⋅\\hat\\varkappa_{\\perp}⋅\\omegaₑ⋅\\omega_{ce} ⋅\\rhoₑ ⋅k\n",
       "                                                                              \n",
       "\n",
       "                                                                              \n",
       "       2                                                  2      2         2  \n",
       "_\\theta  - ⅈ⋅\\hat\\varkappa_{\\perp}⋅\\omega_{Te}⋅\\omega_{ce} ⋅\\rhoₑ ⋅k_\\theta  +\n",
       "                                                                              \n",
       "\n",
       "                                             2      4  2        2             \n",
       " ⅈ⋅\\hat\\varkappa_{\\theta}⋅\\omegaₑ⋅\\omega_{ce} ⋅\\rhoₑ ⋅k ⋅k_\\perp              \n",
       " ──────────────────────────────────────────────────────────────── - ⅈ⋅\\hat\\var\n",
       "                                2                                             \n",
       "\n",
       "                                                                              \n",
       "                                  2      2        2                           \n",
       "kappa_{\\theta}⋅\\omegaₑ⋅\\omega_{ce} ⋅\\rhoₑ ⋅k_\\perp  - ⅈ⋅\\hat\\varkappa_{\\theta}\n",
       "                                                                              \n",
       "\n",
       "                                         \n",
       "                        2      2        2\n",
       "⋅\\omega_{Te}⋅\\omega_{ce} ⋅\\rhoₑ ⋅k_\\perp \n",
       "                                         "
      ]
     },
     "metadata": {},
     "output_type": "display_data"
    }
   ],
   "source": [
    "# Cell 5\n",
    "# THIS CELL COMPUTES u_{e1} TO THE LEADING ORDER IN \\varepsilon\n",
    "Dpe_lnT, Dpa_lnT, wTe = symbols(' [\\\\nabla_{\\perp}\\ln(T_{e})], [\\\\nabla_{\\parallel}\\ln(T_{e})], \\omega_{Te}')\n",
    "k_phi = grad_scal(phi1)\n",
    "k_phi = [0*phi1_sym, k_phi[0], k_phi[1], k_phi[2]]\n",
    "# Computing u_pe1\n",
    "Ae_sym_pe = [[0,0,0,0],\n",
    "             [0,0,0,0],\n",
    "             [0,0,0,0],\n",
    "             [0,0,0,0]]\n",
    "for i in range(4):\n",
    "    for j in range(4):\n",
    "        Ae_sym_pe[i][j] = Ae_sym[i][j]\n",
    "for i in range(4):\n",
    "    Ae_sym_pe[i][1] = k_phi[i].subs(phi1_sym,1).subs(x_pe,0).subs(x_th,0).subs(x_pa,0).subs(Dpe_lnphi1, Dpe_lnhe1 - w_ce * wTe / (c_e**2 * k_th))\\\n",
    "    .subs(Dpa_lnphi1+1j*k_pa, eHa)\n",
    "Upe = det4(Ae_sym_pe)\n",
    "Upe = expand(Upe, small)\n",
    "Upe = Upe.subs(small**3,0).subs(small**4,0).subs(w_pa,w_pa+1j*nue)\n",
    "display(Latex(r'$\\displaystyle - D_e \\frac{u_{\\perp e1}}{e\\phi_1/m_e}=$'))\n",
    "display(nsimplify(Upe.subs(small,1)))\n",
    "display(Latex('(Eq. C.15)'))\n",
    "print('------------------------------------------------------------------------------------------------------------')\n",
    "# Computing u_th1\n",
    "Ae_sym_th = [[0,0,0,0],\n",
    "             [0,0,0,0],\n",
    "             [0,0,0,0],\n",
    "             [0,0,0,0]]\n",
    "for i in range(4):\n",
    "    for j in range(4):\n",
    "        Ae_sym_th[i][j] = Ae_sym[i][j]\n",
    "for i in range(4):\n",
    "    Ae_sym_th[i][2] = k_phi[i].subs(phi1_sym,1).subs(x_pe,0).subs(x_th,0).subs(x_pa,0).subs(Dpe_lnphi1, Dpe_lnhe1 - w_ce * wTe / (c_e**2 * k_th))\\\n",
    "    .subs(Dpa_lnphi1+1j*k_pa, eHa)\n",
    "Uth = det4(Ae_sym_th)\n",
    "Uth = expand(Uth, small)\n",
    "Uth = Uth.subs(small**3,0).subs(small**4,0).subs(w_pa,w_pa+1j*nue)\n",
    "display(Latex(r'$\\displaystyle - D_e \\frac{u_{\\theta e1}}{e\\phi_1/m_e}=$'))\n",
    "display(nsimplify(Uth.subs(small,1)))\n",
    "display(Latex('(Eq. C.16)'))\n",
    "print('------------------------------------------------------------------------------------------------------------')\n",
    "# Computing u_pa1\n",
    "Ae_sym_pa = [[0,0,0,0],\n",
    "             [0,0,0,0],\n",
    "             [0,0,0,0],\n",
    "             [0,0,0,0]]\n",
    "for i in range(4):\n",
    "    for j in range(4):\n",
    "        Ae_sym_pa[i][j] = Ae_sym[i][j]\n",
    "for i in range(4):\n",
    "    Ae_sym_pa[i][3] = k_phi[i].subs(phi1_sym,1).subs(x_pe,0).subs(x_th,0).subs(x_pa,0).subs(Dpe_lnphi1, Dpe_lnhe1 - w_ce * wTe / (c_e**2 * k_th))\\\n",
    "    .subs(Dpa_lnphi1+1j*k_pa, eHa)\n",
    "Upa = det4(Ae_sym_pa)\n",
    "Upa = expand(Upa, small)\n",
    "Upa = Upa.subs(small**3,0).subs(small**4,0).subs(w_pa,w_pa+1j*nue)\n",
    "display(Latex(r'$\\displaystyle - D_e \\frac{u_{\\parallel e1}}{e\\phi_1/m_e}=$'))\n",
    "display(nsimplify(Upa.subs(small,1)))"
   ]
  },
  {
   "cell_type": "markdown",
   "metadata": {},
   "source": [
    "The first two relations don't need further simplification. The last can be rearranged as\n",
    "$$\n",
    " - D_e \\frac{u_{\\parallel e1}}{e\\phi_1/m_e}= - i \\omega_{ce}^2 \\left[ \\hat\\eta_\\parallel \\left( 1 - \\frac{\\rho_e^2 k^2}{2} \\right) + \\hat\\varkappa_\\perp \\rho_e^2 k_\\theta^2 + \\hat\\varkappa_\\theta \\rho_e^2 k_\\perp^2 \\right] \\left[ \\omega_e \\left( 1 - \\frac{\\rho_e^2 k^2}{2} \\right) +  \\omega_{Te}  \\right]\n",
    "$$\n",
    "$$\n",
    "= - i \\omega_{ce}^2 \\left[ \\left( i k_\\parallel + \\nabla_\\parallel \\ln \\phi_1 \\right) \\left( 1 - \\frac{\\rho_e^2 k^2}{2} \\right) + i k_\\parallel k^2 \\rho_e^2 + \\varkappa_\\perp \\rho_e^2 k_\\theta^2 + \\varkappa_\\theta \\rho_e^2 k_\\perp^2 \\right] \\left[ \\omega_e \\left( 1 - \\frac{\\rho_e^2 k^2}{2} \\right) +  \\omega_{Te}  \\right]\n",
    "$$\n",
    "which corresponds to Eq. C.17 of the manuscript. Derivating in space allows us to obtain Eqs. C.18 and C.19:\n",
    "$$\n",
    "\\nabla \\ln u_{\\perp e1} = \\nabla \\ln u_{\\theta e1} =  \\nabla \\ln \\frac{\\phi_1}{B} , \\qquad \\nabla \\ln u_{\\parallel e1} = \\nabla \\ln \\phi_1 .\n",
    "$$\n",
    "We can now feed allof these relations to the symbolic manipulator, and recompute $D_{e\\perp}$ and $\\Omega_\\parallel^2$ as functions of $\\nabla \\ln \\phi_1$.\n",
    "We reformulate here the expressions of the parallel gradients for convenience,\n",
    "$$\n",
    "\\hat\\varkappa_\\perp = i k_\\parallel + \\nabla_\\parallel \\ln \\frac{n_0 \\phi_1}{B} - \\nabla_\\\n",
    "$$\n",
    "The cell below recomputes and displays the aforementioned terms."
   ]
  },
  {
   "cell_type": "markdown",
   "metadata": {},
   "source": [
    "## Bibliography\n",
    "\n",
    "Ref.1 - \\\n",
    "Ref.2 - \\\n",
    "Ref.3 - \\\n",
    "Ref.4 - \\"
   ]
  }
 ],
 "metadata": {
  "kernelspec": {
   "display_name": "base",
   "language": "python",
   "name": "python3"
  },
  "language_info": {
   "codemirror_mode": {
    "name": "ipython",
    "version": 3
   },
   "file_extension": ".py",
   "mimetype": "text/x-python",
   "name": "python",
   "nbconvert_exporter": "python",
   "pygments_lexer": "ipython3",
   "version": "3.9.7"
  }
 },
 "nbformat": 4,
 "nbformat_minor": 2
}
